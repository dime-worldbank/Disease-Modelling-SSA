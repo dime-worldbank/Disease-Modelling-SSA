{
 "cells": [
  {
   "cell_type": "markdown",
   "metadata": {},
   "source": [
    "# Visualising outbreak curves"
   ]
  },
  {
   "cell_type": "markdown",
   "metadata": {},
   "source": [
    "## Reading and cleaning  the data\n",
    "\n",
    "Import things"
   ]
  },
  {
   "cell_type": "code",
   "execution_count": 63,
   "metadata": {},
   "outputs": [],
   "source": [
    "import pandas as pd\n",
    "import numpy as np\n",
    "from datetime import datetime, timedelta\n",
    "import matplotlib as mpl\n",
    "import os\n",
    "import pylab as plt\n",
    "\n",
    "import seaborn as sns\n",
    "sns.set(style=\"darkgrid\")"
   ]
  },
  {
   "cell_type": "code",
   "execution_count": null,
   "metadata": {},
   "outputs": [],
   "source": [
    "pwd"
   ]
  },
  {
   "cell_type": "markdown",
   "metadata": {},
   "source": [
    "Identify the input files and read them in"
   ]
  },
  {
   "cell_type": "code",
   "execution_count": 65,
   "metadata": {},
   "outputs": [],
   "source": [
    "namepart = \"0.016_15_180_123456\"#\"0.06_100_12345\"#_interrupted\"#notravellers\"\n",
    "results_filename = \"/Users/swise/workspace/worldbank/Disease-Modelling-SSA/java/WorldBankCovid19/results_\" + namepart + \".txt\"\n"
   ]
  },
  {
   "cell_type": "markdown",
   "metadata": {},
   "source": [
    "Infections available too!"
   ]
  },
  {
   "cell_type": "code",
   "execution_count": null,
   "metadata": {},
   "outputs": [],
   "source": [
    "#infections_filename = \"/Users/swise/workspace/worldbank/Disease-Modelling-SSA/java/WorldBankCovid19/infections\" + namepart + \".txt\"\n",
    "#i_data = pd.read_csv(infections_filename, sep='\\t')"
   ]
  },
  {
   "cell_type": "code",
   "execution_count": 66,
   "metadata": {},
   "outputs": [
    {
     "ename": "FileNotFoundError",
     "evalue": "[Errno 2] No such file or directory: '/Users/swise/workspace/worldbank/Disease-Modelling-SSA/java/WorldBankCovid19/results_0.016_15_180_123456.txt'",
     "output_type": "error",
     "traceback": [
      "\u001b[0;31m---------------------------------------------------------------------------\u001b[0m",
      "\u001b[0;31mFileNotFoundError\u001b[0m                         Traceback (most recent call last)",
      "\u001b[0;32m<ipython-input-66-8801edc428bb>\u001b[0m in \u001b[0;36m<module>\u001b[0;34m\u001b[0m\n\u001b[0;32m----> 1\u001b[0;31m \u001b[0mr_data\u001b[0m \u001b[0;34m=\u001b[0m \u001b[0mpd\u001b[0m\u001b[0;34m.\u001b[0m\u001b[0mread_csv\u001b[0m\u001b[0;34m(\u001b[0m\u001b[0mresults_filename\u001b[0m\u001b[0;34m,\u001b[0m \u001b[0msep\u001b[0m\u001b[0;34m=\u001b[0m\u001b[0;34m'\\t'\u001b[0m\u001b[0;34m)\u001b[0m\u001b[0;34m\u001b[0m\u001b[0;34m\u001b[0m\u001b[0m\n\u001b[0m\u001b[1;32m      2\u001b[0m \u001b[0mr_data\u001b[0m\u001b[0;34m[\u001b[0m\u001b[0;34m'districtId'\u001b[0m\u001b[0;34m]\u001b[0m \u001b[0;34m=\u001b[0m \u001b[0;34m[\u001b[0m\u001b[0mint\u001b[0m\u001b[0;34m(\u001b[0m\u001b[0mstr\u001b[0m\u001b[0;34m(\u001b[0m\u001b[0mx\u001b[0m\u001b[0;34m)\u001b[0m\u001b[0;34m.\u001b[0m\u001b[0msplit\u001b[0m\u001b[0;34m(\u001b[0m\u001b[0;34m'_'\u001b[0m\u001b[0;34m)\u001b[0m\u001b[0;34m[\u001b[0m\u001b[0;36m1\u001b[0m\u001b[0;34m]\u001b[0m\u001b[0;34m)\u001b[0m \u001b[0;32mfor\u001b[0m \u001b[0mx\u001b[0m \u001b[0;32min\u001b[0m \u001b[0mr_data\u001b[0m\u001b[0;34m[\u001b[0m\u001b[0;34m\"myId\"\u001b[0m\u001b[0;34m]\u001b[0m\u001b[0;34m]\u001b[0m\u001b[0;34m\u001b[0m\u001b[0;34m\u001b[0m\u001b[0m\n",
      "\u001b[0;32m~/opt/anaconda3/envs/covid19_abm/lib/python3.8/site-packages/pandas/io/parsers.py\u001b[0m in \u001b[0;36mread_csv\u001b[0;34m(filepath_or_buffer, sep, delimiter, header, names, index_col, usecols, squeeze, prefix, mangle_dupe_cols, dtype, engine, converters, true_values, false_values, skipinitialspace, skiprows, skipfooter, nrows, na_values, keep_default_na, na_filter, verbose, skip_blank_lines, parse_dates, infer_datetime_format, keep_date_col, date_parser, dayfirst, cache_dates, iterator, chunksize, compression, thousands, decimal, lineterminator, quotechar, quoting, doublequote, escapechar, comment, encoding, dialect, error_bad_lines, warn_bad_lines, delim_whitespace, low_memory, memory_map, float_precision, storage_options)\u001b[0m\n\u001b[1;32m    603\u001b[0m     \u001b[0mkwds\u001b[0m\u001b[0;34m.\u001b[0m\u001b[0mupdate\u001b[0m\u001b[0;34m(\u001b[0m\u001b[0mkwds_defaults\u001b[0m\u001b[0;34m)\u001b[0m\u001b[0;34m\u001b[0m\u001b[0;34m\u001b[0m\u001b[0m\n\u001b[1;32m    604\u001b[0m \u001b[0;34m\u001b[0m\u001b[0m\n\u001b[0;32m--> 605\u001b[0;31m     \u001b[0;32mreturn\u001b[0m \u001b[0m_read\u001b[0m\u001b[0;34m(\u001b[0m\u001b[0mfilepath_or_buffer\u001b[0m\u001b[0;34m,\u001b[0m \u001b[0mkwds\u001b[0m\u001b[0;34m)\u001b[0m\u001b[0;34m\u001b[0m\u001b[0;34m\u001b[0m\u001b[0m\n\u001b[0m\u001b[1;32m    606\u001b[0m \u001b[0;34m\u001b[0m\u001b[0m\n\u001b[1;32m    607\u001b[0m \u001b[0;34m\u001b[0m\u001b[0m\n",
      "\u001b[0;32m~/opt/anaconda3/envs/covid19_abm/lib/python3.8/site-packages/pandas/io/parsers.py\u001b[0m in \u001b[0;36m_read\u001b[0;34m(filepath_or_buffer, kwds)\u001b[0m\n\u001b[1;32m    455\u001b[0m \u001b[0;34m\u001b[0m\u001b[0m\n\u001b[1;32m    456\u001b[0m     \u001b[0;31m# Create the parser.\u001b[0m\u001b[0;34m\u001b[0m\u001b[0;34m\u001b[0m\u001b[0;34m\u001b[0m\u001b[0m\n\u001b[0;32m--> 457\u001b[0;31m     \u001b[0mparser\u001b[0m \u001b[0;34m=\u001b[0m \u001b[0mTextFileReader\u001b[0m\u001b[0;34m(\u001b[0m\u001b[0mfilepath_or_buffer\u001b[0m\u001b[0;34m,\u001b[0m \u001b[0;34m**\u001b[0m\u001b[0mkwds\u001b[0m\u001b[0;34m)\u001b[0m\u001b[0;34m\u001b[0m\u001b[0;34m\u001b[0m\u001b[0m\n\u001b[0m\u001b[1;32m    458\u001b[0m \u001b[0;34m\u001b[0m\u001b[0m\n\u001b[1;32m    459\u001b[0m     \u001b[0;32mif\u001b[0m \u001b[0mchunksize\u001b[0m \u001b[0;32mor\u001b[0m \u001b[0miterator\u001b[0m\u001b[0;34m:\u001b[0m\u001b[0;34m\u001b[0m\u001b[0;34m\u001b[0m\u001b[0m\n",
      "\u001b[0;32m~/opt/anaconda3/envs/covid19_abm/lib/python3.8/site-packages/pandas/io/parsers.py\u001b[0m in \u001b[0;36m__init__\u001b[0;34m(self, f, engine, **kwds)\u001b[0m\n\u001b[1;32m    812\u001b[0m             \u001b[0mself\u001b[0m\u001b[0;34m.\u001b[0m\u001b[0moptions\u001b[0m\u001b[0;34m[\u001b[0m\u001b[0;34m\"has_index_names\"\u001b[0m\u001b[0;34m]\u001b[0m \u001b[0;34m=\u001b[0m \u001b[0mkwds\u001b[0m\u001b[0;34m[\u001b[0m\u001b[0;34m\"has_index_names\"\u001b[0m\u001b[0;34m]\u001b[0m\u001b[0;34m\u001b[0m\u001b[0;34m\u001b[0m\u001b[0m\n\u001b[1;32m    813\u001b[0m \u001b[0;34m\u001b[0m\u001b[0m\n\u001b[0;32m--> 814\u001b[0;31m         \u001b[0mself\u001b[0m\u001b[0;34m.\u001b[0m\u001b[0m_engine\u001b[0m \u001b[0;34m=\u001b[0m \u001b[0mself\u001b[0m\u001b[0;34m.\u001b[0m\u001b[0m_make_engine\u001b[0m\u001b[0;34m(\u001b[0m\u001b[0mself\u001b[0m\u001b[0;34m.\u001b[0m\u001b[0mengine\u001b[0m\u001b[0;34m)\u001b[0m\u001b[0;34m\u001b[0m\u001b[0;34m\u001b[0m\u001b[0m\n\u001b[0m\u001b[1;32m    815\u001b[0m \u001b[0;34m\u001b[0m\u001b[0m\n\u001b[1;32m    816\u001b[0m     \u001b[0;32mdef\u001b[0m \u001b[0mclose\u001b[0m\u001b[0;34m(\u001b[0m\u001b[0mself\u001b[0m\u001b[0;34m)\u001b[0m\u001b[0;34m:\u001b[0m\u001b[0;34m\u001b[0m\u001b[0;34m\u001b[0m\u001b[0m\n",
      "\u001b[0;32m~/opt/anaconda3/envs/covid19_abm/lib/python3.8/site-packages/pandas/io/parsers.py\u001b[0m in \u001b[0;36m_make_engine\u001b[0;34m(self, engine)\u001b[0m\n\u001b[1;32m   1043\u001b[0m             )\n\u001b[1;32m   1044\u001b[0m         \u001b[0;31m# error: Too many arguments for \"ParserBase\"\u001b[0m\u001b[0;34m\u001b[0m\u001b[0;34m\u001b[0m\u001b[0;34m\u001b[0m\u001b[0m\n\u001b[0;32m-> 1045\u001b[0;31m         \u001b[0;32mreturn\u001b[0m \u001b[0mmapping\u001b[0m\u001b[0;34m[\u001b[0m\u001b[0mengine\u001b[0m\u001b[0;34m]\u001b[0m\u001b[0;34m(\u001b[0m\u001b[0mself\u001b[0m\u001b[0;34m.\u001b[0m\u001b[0mf\u001b[0m\u001b[0;34m,\u001b[0m \u001b[0;34m**\u001b[0m\u001b[0mself\u001b[0m\u001b[0;34m.\u001b[0m\u001b[0moptions\u001b[0m\u001b[0;34m)\u001b[0m  \u001b[0;31m# type: ignore[call-arg]\u001b[0m\u001b[0;34m\u001b[0m\u001b[0;34m\u001b[0m\u001b[0m\n\u001b[0m\u001b[1;32m   1046\u001b[0m \u001b[0;34m\u001b[0m\u001b[0m\n\u001b[1;32m   1047\u001b[0m     \u001b[0;32mdef\u001b[0m \u001b[0m_failover_to_python\u001b[0m\u001b[0;34m(\u001b[0m\u001b[0mself\u001b[0m\u001b[0;34m)\u001b[0m\u001b[0;34m:\u001b[0m\u001b[0;34m\u001b[0m\u001b[0;34m\u001b[0m\u001b[0m\n",
      "\u001b[0;32m~/opt/anaconda3/envs/covid19_abm/lib/python3.8/site-packages/pandas/io/parsers.py\u001b[0m in \u001b[0;36m__init__\u001b[0;34m(self, src, **kwds)\u001b[0m\n\u001b[1;32m   1860\u001b[0m \u001b[0;34m\u001b[0m\u001b[0m\n\u001b[1;32m   1861\u001b[0m         \u001b[0;31m# open handles\u001b[0m\u001b[0;34m\u001b[0m\u001b[0;34m\u001b[0m\u001b[0;34m\u001b[0m\u001b[0m\n\u001b[0;32m-> 1862\u001b[0;31m         \u001b[0mself\u001b[0m\u001b[0;34m.\u001b[0m\u001b[0m_open_handles\u001b[0m\u001b[0;34m(\u001b[0m\u001b[0msrc\u001b[0m\u001b[0;34m,\u001b[0m \u001b[0mkwds\u001b[0m\u001b[0;34m)\u001b[0m\u001b[0;34m\u001b[0m\u001b[0;34m\u001b[0m\u001b[0m\n\u001b[0m\u001b[1;32m   1863\u001b[0m         \u001b[0;32massert\u001b[0m \u001b[0mself\u001b[0m\u001b[0;34m.\u001b[0m\u001b[0mhandles\u001b[0m \u001b[0;32mis\u001b[0m \u001b[0;32mnot\u001b[0m \u001b[0;32mNone\u001b[0m\u001b[0;34m\u001b[0m\u001b[0;34m\u001b[0m\u001b[0m\n\u001b[1;32m   1864\u001b[0m         \u001b[0;32mfor\u001b[0m \u001b[0mkey\u001b[0m \u001b[0;32min\u001b[0m \u001b[0;34m(\u001b[0m\u001b[0;34m\"storage_options\"\u001b[0m\u001b[0;34m,\u001b[0m \u001b[0;34m\"encoding\"\u001b[0m\u001b[0;34m,\u001b[0m \u001b[0;34m\"memory_map\"\u001b[0m\u001b[0;34m,\u001b[0m \u001b[0;34m\"compression\"\u001b[0m\u001b[0;34m)\u001b[0m\u001b[0;34m:\u001b[0m\u001b[0;34m\u001b[0m\u001b[0;34m\u001b[0m\u001b[0m\n",
      "\u001b[0;32m~/opt/anaconda3/envs/covid19_abm/lib/python3.8/site-packages/pandas/io/parsers.py\u001b[0m in \u001b[0;36m_open_handles\u001b[0;34m(self, src, kwds)\u001b[0m\n\u001b[1;32m   1355\u001b[0m         \u001b[0mLet\u001b[0m \u001b[0mthe\u001b[0m \u001b[0mreaders\u001b[0m \u001b[0mopen\u001b[0m \u001b[0mIOHanldes\u001b[0m \u001b[0mafter\u001b[0m \u001b[0mthey\u001b[0m \u001b[0mare\u001b[0m \u001b[0mdone\u001b[0m \u001b[0;32mwith\u001b[0m \u001b[0mtheir\u001b[0m \u001b[0mpotential\u001b[0m \u001b[0mraises\u001b[0m\u001b[0;34m.\u001b[0m\u001b[0;34m\u001b[0m\u001b[0;34m\u001b[0m\u001b[0m\n\u001b[1;32m   1356\u001b[0m         \"\"\"\n\u001b[0;32m-> 1357\u001b[0;31m         self.handles = get_handle(\n\u001b[0m\u001b[1;32m   1358\u001b[0m             \u001b[0msrc\u001b[0m\u001b[0;34m,\u001b[0m\u001b[0;34m\u001b[0m\u001b[0;34m\u001b[0m\u001b[0m\n\u001b[1;32m   1359\u001b[0m             \u001b[0;34m\"r\"\u001b[0m\u001b[0;34m,\u001b[0m\u001b[0;34m\u001b[0m\u001b[0;34m\u001b[0m\u001b[0m\n",
      "\u001b[0;32m~/opt/anaconda3/envs/covid19_abm/lib/python3.8/site-packages/pandas/io/common.py\u001b[0m in \u001b[0;36mget_handle\u001b[0;34m(path_or_buf, mode, encoding, compression, memory_map, is_text, errors, storage_options)\u001b[0m\n\u001b[1;32m    640\u001b[0m                 \u001b[0merrors\u001b[0m \u001b[0;34m=\u001b[0m \u001b[0;34m\"replace\"\u001b[0m\u001b[0;34m\u001b[0m\u001b[0;34m\u001b[0m\u001b[0m\n\u001b[1;32m    641\u001b[0m             \u001b[0;31m# Encoding\u001b[0m\u001b[0;34m\u001b[0m\u001b[0;34m\u001b[0m\u001b[0;34m\u001b[0m\u001b[0m\n\u001b[0;32m--> 642\u001b[0;31m             handle = open(\n\u001b[0m\u001b[1;32m    643\u001b[0m                 \u001b[0mhandle\u001b[0m\u001b[0;34m,\u001b[0m\u001b[0;34m\u001b[0m\u001b[0;34m\u001b[0m\u001b[0m\n\u001b[1;32m    644\u001b[0m                 \u001b[0mioargs\u001b[0m\u001b[0;34m.\u001b[0m\u001b[0mmode\u001b[0m\u001b[0;34m,\u001b[0m\u001b[0;34m\u001b[0m\u001b[0;34m\u001b[0m\u001b[0m\n",
      "\u001b[0;31mFileNotFoundError\u001b[0m: [Errno 2] No such file or directory: '/Users/swise/workspace/worldbank/Disease-Modelling-SSA/java/WorldBankCovid19/results_0.016_15_180_123456.txt'"
     ]
    }
   ],
   "source": [
    "r_data = pd.read_csv(results_filename, sep='\\t')\n",
    "r_data['districtId'] = [int(str(x).split('_')[1]) for x in r_data[\"myId\"]]\n"
   ]
  },
  {
   "cell_type": "markdown",
   "metadata": {},
   "source": [
    "You can aggregate these and write them out to a file for visualisation in QGIS, if you so choose"
   ]
  },
  {
   "cell_type": "code",
   "execution_count": null,
   "metadata": {},
   "outputs": [],
   "source": [
    "r_data"
   ]
  },
  {
   "cell_type": "code",
   "execution_count": null,
   "metadata": {},
   "outputs": [],
   "source": [
    "r_agg = r_data.groupby('districtId').agg({'metric_died_count': 'max', 'metric_new_hospitalized': 'sum', \n",
    "                                    'metric_new_critical': 'sum', 'metric_new_cases_asympt': 'sum',\n",
    "                                    'metric_new_cases_sympt': 'sum'})\n",
    "#r_agg = r_agg[r_agg['metric_new_cases_sympt'] > 5].sort_values(by='metric_new_cases_sympt', ascending=False)\n",
    "#r_agg.to_csv(\"totalSympt.csv\", sep=',')"
   ]
  },
  {
   "cell_type": "code",
   "execution_count": null,
   "metadata": {
    "scrolled": true
   },
   "outputs": [],
   "source": [
    "r_agg[r_agg[\"metric_new_critical\"] > 0]"
   ]
  },
  {
   "cell_type": "markdown",
   "metadata": {},
   "source": [
    "Lazier aggregation also available"
   ]
  },
  {
   "cell_type": "code",
   "execution_count": null,
   "metadata": {},
   "outputs": [],
   "source": [
    "sum(r_data['metric_new_cases_sympt'])"
   ]
  },
  {
   "cell_type": "markdown",
   "metadata": {},
   "source": [
    "## Graphing the outbreak curves"
   ]
  },
  {
   "cell_type": "code",
   "execution_count": null,
   "metadata": {},
   "outputs": [],
   "source": [
    "r_cum = r_data.groupby('time').agg({'metric_died_count': 'max', 'metric_new_hospitalized': 'sum', \n",
    "                                    'metric_new_critical': 'sum', 'metric_new_cases_asympt': 'sum',\n",
    "                                    'metric_new_cases_sympt': 'sum'})\n",
    "r_cum[\"index\"] = r_cum.index\n",
    "r_cum"
   ]
  },
  {
   "cell_type": "markdown",
   "metadata": {},
   "source": [
    "Country-level"
   ]
  },
  {
   "cell_type": "code",
   "execution_count": null,
   "metadata": {
    "scrolled": true
   },
   "outputs": [],
   "source": [
    "r_country_agg = r_data.groupby('time').agg({'metric_died_count': 'max', 'metric_new_hospitalized': 'sum', \n",
    "                                    'metric_new_critical': 'sum', 'metric_new_cases_asympt': 'sum',\n",
    "                                    'metric_new_cases_sympt': 'sum'})\n",
    "\n",
    "lineListWeightingFactor = 15\n",
    "r_country_agg['metric_new_cases_detected'] = r_country_agg['metric_new_cases_sympt'] / lineListWeightingFactor\n",
    "\n",
    "#sns.scatterplot(\n",
    "fig, ax = plt.subplots (figsize = (15,15))\n",
    "sns.lineplot(\n",
    "             x=\"time\", \n",
    "             #y=\"metric_new_deaths\",\n",
    "             #y=\"metric_new_hospitalized\",\n",
    "             y=\"metric_new_cases_detected\", \n",
    "             palette=\"colorblind\", \n",
    "             ax = ax,\n",
    "             data=r_country_agg#,\n",
    "#            legend=False\n",
    "            )#.legend(bbox_to_anchor= (1.03, 1) )\n",
    "\n",
    "#ax.set_title('New Deaths', fontsize=20)\n",
    "#ax.set_ylabel('Number of deaths')\n",
    "#ax.legend(fontsize=10, title_fontsize=30, loc='upper left')\n",
    "#ax.yaxis.set_major_formatter(mpl.ticker.StrMethodFormatter('{x:,.0f}'))\n",
    "\n",
    "#ax.patch.set_alpha(0)\n",
    "# ax.axes.get_xaxis().set_visible(False)\n",
    "# ax.axes.get_yaxis().set_visible(False)\n",
    "plt.xticks(rotation=45)\n",
    "plt.tight_layout()"
   ]
  },
  {
   "cell_type": "markdown",
   "metadata": {},
   "source": [
    "# Mapping results"
   ]
  },
  {
   "cell_type": "code",
   "execution_count": 60,
   "metadata": {},
   "outputs": [],
   "source": [
    "import geopandas\n",
    "import math"
   ]
  },
  {
   "cell_type": "code",
   "execution_count": 61,
   "metadata": {},
   "outputs": [],
   "source": [
    "#path_to_data = geopandas.datasets.get_path()\n",
    "rawLocs = geopandas.read_file(\"/Users/swise/workspace/worldbank/Disease-Modelling-SSA/data/raw/shapefiles/new_districts/ZWE_adm2.shp\")\n",
    "trunkRoads = geopandas.read_file(\"/Users/swise/workspace/worldbank/Disease-Modelling-SSA/data/raw/shapefiles/osm_trunk_roads.shp\")"
   ]
  },
  {
   "cell_type": "markdown",
   "metadata": {},
   "source": [
    "Join this with the previous data!"
   ]
  },
  {
   "cell_type": "code",
   "execution_count": 64,
   "metadata": {},
   "outputs": [
    {
     "ename": "NameError",
     "evalue": "name 'r_agg' is not defined",
     "output_type": "error",
     "traceback": [
      "\u001b[0;31m---------------------------------------------------------------------------\u001b[0m",
      "\u001b[0;31mNameError\u001b[0m                                 Traceback (most recent call last)",
      "\u001b[0;32m<ipython-input-64-d530da22826a>\u001b[0m in \u001b[0;36m<module>\u001b[0;34m\u001b[0m\n\u001b[0;32m----> 1\u001b[0;31m \u001b[0mdataLocs\u001b[0m \u001b[0;34m=\u001b[0m \u001b[0mrawLocs\u001b[0m\u001b[0;34m.\u001b[0m\u001b[0mmerge\u001b[0m\u001b[0;34m(\u001b[0m\u001b[0mr_agg\u001b[0m\u001b[0;34m,\u001b[0m \u001b[0mhow\u001b[0m\u001b[0;34m=\u001b[0m\u001b[0;34m\"left\"\u001b[0m\u001b[0;34m,\u001b[0m \u001b[0mleft_on\u001b[0m\u001b[0;34m=\u001b[0m\u001b[0;34m[\u001b[0m\u001b[0;34m'ID_2'\u001b[0m\u001b[0;34m]\u001b[0m\u001b[0;34m,\u001b[0m \u001b[0mright_on\u001b[0m\u001b[0;34m=\u001b[0m\u001b[0;34m[\u001b[0m\u001b[0;34m'districtId'\u001b[0m\u001b[0;34m]\u001b[0m\u001b[0;34m)\u001b[0m\u001b[0;34m\u001b[0m\u001b[0;34m\u001b[0m\u001b[0m\n\u001b[0m",
      "\u001b[0;31mNameError\u001b[0m: name 'r_agg' is not defined"
     ]
    }
   ],
   "source": [
    "dataLocs = rawLocs.merge(r_agg, how=\"left\", left_on=['ID_2'], right_on=['districtId'])"
   ]
  },
  {
   "cell_type": "code",
   "execution_count": null,
   "metadata": {},
   "outputs": [],
   "source": [
    "dataLocs[\"log_died\"] = [max(0, math.log10(max(y, .00000001))) for y in dataLocs[\"metric_died_count\"]]\n",
    "dataLocs[\"log_sympt\"] = [max(0, math.log10(max(y, .00000001))) for y in dataLocs[\"metric_new_cases_sympt\"]]\n"
   ]
  },
  {
   "cell_type": "code",
   "execution_count": null,
   "metadata": {
    "scrolled": true
   },
   "outputs": [],
   "source": [
    "fig, ax = plt.subplots (figsize = (15,15))\n",
    "#dataLocs.plot(\"metric_new_cases_sympt\", ax = ax, legend=True)\n",
    "dataLocs.plot(\"log_sympt\", ax = ax, legend=True)\n",
    "\n",
    "trunkRoads.plot(ax=ax, color=\"cyan\")\n"
   ]
  },
  {
   "cell_type": "markdown",
   "metadata": {},
   "source": []
  },
  {
   "cell_type": "markdown",
   "metadata": {},
   "source": [
    "COMPARE TO [this](https://ourworldindata.org/covid-deaths)"
   ]
  },
  {
   "cell_type": "markdown",
   "metadata": {},
   "source": [
    "## Ordering of Districts"
   ]
  },
  {
   "cell_type": "markdown",
   "metadata": {},
   "source": [
    "### Observing while running\n",
    "\n",
    "Progress can be observed as they're running - just add the file to which the simulation is exporting below!\n",
    "\n",
    "**NOTE: MAKE SURE YOU HAVE A TEXT FILE IN THE SAME DIRECTORY AS THIS FILE CONTAINING THE 'TRUE' ORDER OF FILES!**\n",
    "\n",
    "This file should be formatted as follows:\n",
    "\n",
    "```\n",
    "day\tdistrictId\n",
    "1\t1\n",
    "1\t2\n",
    "...\n",
    "```\n",
    "\n",
    "Please note that it is TAB DELIMITED - if your data is not, then you will need to update the csv readin below."
   ]
  },
  {
   "cell_type": "code",
   "execution_count": null,
   "metadata": {
    "scrolled": true
   },
   "outputs": [],
   "source": [
    "# set my path when running the file from here\n",
    "\n",
    "from os.path import isfile, join\n",
    "path = '/Users/sophieayling/Documents/GitHub/Disease-Modelling-SSA/data/output/'\n",
    "\n",
    "# read and clean the data\n",
    "results_filename = (path+'exportMe9927.txt')\n",
    "r_data = pd.read_csv(results_filename, sep='\\t')\n",
    "r_data['districtId'] = [int(str(x).split('_')[1]) for x in r_data[\"myId\"]] # she is renaming districtid myId\n",
    "\n",
    "\n",
    "# filter out case data\n",
    "cases = r_data[(r_data.metric_new_cases_sympt > 0) | (r_data.metric_new_cases_asympt > 0)]\n",
    "cases.head()\n",
    "\n",
    "# group by districts and sort by time\n",
    "byDistric = cases.groupby('districtId').agg({'time': 'min'})\n",
    "byDistric.sort_values(by=\"time\")\n",
    "\n",
    "# sophie adding want to rename 'time' to denote the day of simulation\n",
    "byDistric.rename(columns={'time':'simDay'}, inplace=True)\n",
    "\n",
    "byDistric.head()\n",
    "\n",
    "# read in the first districts cases data (what she called 'gold standard data')\n",
    "gold_filename = (path+\"../preprocessed/line_list/true.txt\")\n",
    "g_data = pd.read_csv(gold_filename, sep='\\t')\n",
    "g_data[\"trueDay\"] = [int(x) for x in g_data['day']] ## Sophie not using this \n",
    "\n",
    "# join the simulated and gold standard data based on the district ID\n",
    "comparison = g_data.join(byDistric, on='districtId', lsuffix='_gold', rsuffix='_sim')\n",
    "comparison['simDay'] = comparison['simDay'].fillna(0) # you may wish to set the unfound districts to some default\n",
    "#comparison # show the results\n",
    "comparison.head()\n",
    "comparison.to_csv(path+'comparison.csv')"
   ]
  },
  {
   "cell_type": "code",
   "execution_count": null,
   "metadata": {},
   "outputs": [],
   "source": [
    "myslice = pd.isna(comparison['simDay']) # see all of the districts where there were cases in both sim and true days \n",
    "#print(comparison[-myslice]) # showing the districts where the cases occured in both simulation and true data\n",
    "both_sa= comparison[-myslice]\n",
    "myslice.head()"
   ]
  },
  {
   "cell_type": "code",
   "execution_count": null,
   "metadata": {},
   "outputs": [],
   "source": [
    "fig, ax = plt.subplots (figsize = (10,10))\n",
    "ax= sns.scatterplot(\n",
    "             x=\"trueDay\", \n",
    "             y=\"simDay\",\n",
    "             #y=\"metric_new_hospitalized\",\n",
    "             #y=\"metric_new_cases_sympt\", \n",
    "             palette=\"colorblind\", \n",
    "            # hue=\"districtId\",\n",
    "             data=comparison, #,\n",
    "            #legend=True\n",
    "            )#.legend(bbox_to_anchor= (1.03, 1) )\n",
    "\n",
    " # add labels to values on product id\n",
    "for line in range(0,comparison.shape[0]):\n",
    "    ax.text(comparison.trueDay[line] +0.01, comparison.simDay[line],\n",
    "           comparison.districtId[line], horizontalalignment='left',\n",
    "           size='medium', color='black', weight ='light')\n",
    "\n",
    "ax.set(xlim=(0, 180), ylim=(0, 180)) # in true day the max first day is 136, in sim the max first day is 179\n",
    "xl, yl = [0,180], [0,180]\n",
    "sns.lineplot(xl, yl, linestyle='--', color='red')"
   ]
  },
  {
   "cell_type": "markdown",
   "metadata": {},
   "source": [
    "### Summarising the results\n",
    "\n",
    "Sets of simulation results can also be explored in the aggregate."
   ]
  },
  {
   "cell_type": "code",
   "execution_count": null,
   "metadata": {},
   "outputs": [],
   "source": [
    "outputFiles = [\"exportMe9927.txt\"]#\"exportMe3324.txt\", \"exportMe4725.txt\", \"exportMe9812.txt\", \"exportMe2439.txt\", \"exportMe5343.txt\", \n",
    "               #\"exportMe6598.txt\", \"exportMe8992.txt\", \"exportMe7535.txt\", \"exportMe217.txt\", \"exportMe217.txt\"]\n"
   ]
  },
  {
   "cell_type": "code",
   "execution_count": null,
   "metadata": {},
   "outputs": [],
   "source": [
    "# a helper function to read in and order a set of districts\n",
    "def getOrderedDistricts(filename):\n",
    "    \n",
    "    # read and clean the data\n",
    "    r_data = pd.read_csv(filename, sep='\\t')\n",
    "    r_data['districtId'] = [int(str(x).split('_')[1]) for x in r_data[\"myId\"]]\n",
    "    \n",
    "    # select the relevant columns, either cases or deaths\n",
    "    cases = r_data[(r_data.metric_new_cases_sympt > 0) | (r_data.metric_new_cases_asympt > 0)]\n",
    "    #cases = r_data[r_data.metric_new_deaths > 0]\n",
    "    \n",
    "    # group by districts and sort by time\n",
    "    byDistric = cases.groupby('districtId').agg({'time': 'min'})\n",
    "    byDistric.sort_values(by=\"time\")\n",
    "    return byDistric\n",
    "    \n",
    "# read in the gold standard data\n",
    "gold_filename = \"true.txt\"\n",
    "g_data = pd.read_csv(gold_filename, sep='\\t')\n",
    "g_data[\"trueDay\"] = [int(x) for x in g_data['day']]"
   ]
  },
  {
   "cell_type": "code",
   "execution_count": null,
   "metadata": {},
   "outputs": [],
   "source": [
    "# iterate through the set of exported results files and append them to one another\n",
    "\n",
    "simRuns = pd.NA # intial empty file\n",
    "\n",
    "for x in outputFiles: # iterating over files\n",
    "    try:\n",
    "        simRuns = simRuns.append(getOrderedDistricts(x))\n",
    "    except:\n",
    "        simRuns = getOrderedDistricts(x)\n",
    "\n",
    "# aggregate by the mean time associated with the district\n",
    "simAgg = simRuns.groupby('districtId').agg({'time': 'mean'})"
   ]
  },
  {
   "cell_type": "code",
   "execution_count": null,
   "metadata": {},
   "outputs": [],
   "source": [
    "# additional helper functions\n",
    "\n",
    "def getAggDailyCounts(filename):\n",
    "    r_data = pd.read_csv(filename, sep='\\t')\n",
    "    r_data['districtId'] = [int(str(x).split('_')[1]) for x in r_data[\"myId\"]]\n",
    "    dailies = r_data.groupby('time').agg({'metric_new_cases_sympt': 'sum', 'metric_new_cases_asympt': 'sum'})\n",
    "    dailies.sort_values(by=\"time\")\n",
    "    return dailies\n",
    "\n",
    "def getRawData(filename):\n",
    "    r_data = pd.read_csv(filename, sep='\\t')\n",
    "    r_data['districtId'] = [int(str(x).split('_')[1]) for x in r_data[\"myId\"]]\n",
    "    return r_data\n",
    "\n",
    "simRuns = pd.NA\n",
    "\n",
    "for x in outputFiles:\n",
    "    myCounts = getRawData(x)\n",
    "    myCounts['key'] = [x for i in range(len(myCounts))]\n",
    "    try:\n",
    "        simRuns = simRuns.append(myCounts)\n",
    "    except:\n",
    "        simRuns = myCounts\n",
    "\n",
    "simAgg = simRuns.groupby('time').agg({'metric_new_cases_sympt': 'mean', 'metric_new_cases_asympt': 'mean'})\n",
    "simAgg.head()"
   ]
  },
  {
   "cell_type": "markdown",
   "metadata": {},
   "source": [
    "### Mapping the difference between simulated and true timing"
   ]
  },
  {
   "cell_type": "code",
   "execution_count": null,
   "metadata": {
    "scrolled": true
   },
   "outputs": [],
   "source": [
    "# calculate the delta between true and simulated first recorded cases\n",
    "comparison['diff'] = comparison['trueDay'] - comparison['simDay']\n",
    "\n",
    "# read in spatial data\n",
    "rawLocs = geopandas.read_file(\"/Users/swise/workspace/worldbank/Disease-Modelling-SSA/data/raw/shapefiles/new_districts/ZWE_adm2.shp\")\n",
    "trunkRoads = geopandas.read_file(\"/Users/swise/workspace/worldbank/Disease-Modelling-SSA/data/raw/shapefiles/osm_trunk_roads.shp\")\n",
    "\n",
    "# merge the comparison data with the spatial district data on the district ID\n",
    "dataLocs = rawLocs.merge(comparison, how=\"left\", left_on=['ID_2'], right_on=['districtId'])"
   ]
  },
  {
   "cell_type": "markdown",
   "metadata": {},
   "source": [
    "Red = simulated was faster than real\n",
    "\n",
    "Blue = simulated was slower than real"
   ]
  },
  {
   "cell_type": "code",
   "execution_count": null,
   "metadata": {},
   "outputs": [],
   "source": [
    "myLim = 180\n",
    "\n",
    "fig, ax = plt.subplots (figsize = (15,15))\n",
    "dataLocs.plot(\"diff\", ax = ax, legend=True, cmap='seismic', \n",
    "              missing_kwds={\"color\": \"gray\", \"label\": \"Missing values\",}, vmin=-myLim, vmax=myLim)\n",
    "\n",
    "trunkRoads.plot(ax=ax, color=\"black\")"
   ]
  },
  {
   "cell_type": "code",
   "execution_count": null,
   "metadata": {},
   "outputs": [],
   "source": [
    "outputFiles = [\"exportMe5_0.03_.txt\"]\n",
    "filename = \"/Users/swise/workspace/worldbank/Disease-Modelling-SSA/data/verification/output/\" + outputFiles[0]\n",
    "r_data = pd.read_csv(filename, sep='\\t')\n"
   ]
  },
  {
   "cell_type": "code",
   "execution_count": null,
   "metadata": {},
   "outputs": [],
   "source": [
    "import os\n",
    "import pandas as pd\n",
    "import pylab as plt\n",
    "import numpy as np\n",
    "\n",
    "path = \"/Users/swise/workspace/worldbank/Disease-Modelling-SSA/notebooks/\"#\"/Users/swise/workspace/worldbank/Disease-Modelling-SSA/data/verification/output/\"\n",
    "\n",
    "files = os.listdir(path)\n",
    "\n",
    "cutoffFromEnd = 6 * (180 - 9)\n",
    "\n",
    "r_effs = []\n",
    "\n",
    "# assemble the data from all the files\n",
    "for f in files:\n",
    "    if(f.startswith(\"infections\")): # only select the \"infection\" outputs\n",
    "        \n",
    "        print(f)\n",
    "        # read in the data from the file\n",
    "        r_data = pd.read_csv(path + f, sep='\\t')\n",
    "        \n",
    "        # the \"Source\" data gets read in as a float - just convert it for ease!\n",
    "        r_data[\"myHost\"] = [float(x) for x in r_data[\"Host\"]]\n",
    "        \n",
    "        # omit the people who did not actually have a case (that is, contagion never happened)\n",
    "        properCases = r_data[r_data[\"ContagiousAt\"] != \"1.7976931348623157E308\"]\n",
    "        numProperCases = properCases.shape[0]\n",
    "        \n",
    "        # find how many cases have been, thus far, produced\n",
    "        numSeededCases = sum(pd.isna(properCases[\"Source\"]))\n",
    "        \n",
    "        # find out how many people could possibly have produced these\n",
    "        possibleProducers = properCases[\"Time\"] < cutoffFromEnd\n",
    "        numPossibleProducers = possibleProducers.shape[0]\n",
    "        \n",
    "        #numUnique = np.unique(properCases[\"Source\"])\n",
    "        r_effs.append(numProperCases / numPossibleProducers)\n",
    "        \n",
    "        #plt.plot(r_data[\"time\"][1:], r_data[\"metric_new_cases_sympt\"][1:],'r-', alpha=0.2)\n",
    "r_effs\n"
   ]
  },
  {
   "cell_type": "code",
   "execution_count": null,
   "metadata": {
    "scrolled": true
   },
   "outputs": [],
   "source": [
    "x = [5,0,0,0,0]\n",
    "y = [1,1,1,1,1]\n",
    "z = [5,5,5,5,5]\n",
    "\n",
    "def r_eff(a):\n",
    "    return sum(a)/len(a)\n",
    "    \n",
    "print(r_eff(z))"
   ]
  },
  {
   "cell_type": "code",
   "execution_count": null,
   "metadata": {
    "scrolled": true
   },
   "outputs": [],
   "source": [
    "r_data"
   ]
  },
  {
   "cell_type": "code",
   "execution_count": null,
   "metadata": {},
   "outputs": [],
   "source": [
    "import os\n",
    "import pandas as pd\n",
    "import pylab as plt\n",
    "\n",
    "path = \"/Users/swise/workspace/worldbank/Disease-Modelling-SSA/data/verification/output/\"\n",
    "\n",
    "files = os.listdir(path)\n",
    "\n",
    "myAvgLine = []\n",
    "index = 0\n",
    "for f in files:\n",
    "    if(f.startswith(\"exportMe\")):\n",
    "        r_data = pd.read_csv(path + f, sep='\\t')\n",
    "        totcases = r_data[\"metric_new_cases_sympt\"] + r_data[\"metric_new_cases_asympt\"]\n",
    "        if len(myAvgLine) == 0:\n",
    "            myAvgLine = totcases\n",
    "        else:\n",
    "            myAvgLine += totcases\n",
    "        plt.plot(r_data[\"time\"][1:], totcases[1:],'r-', alpha=0.15)\n",
    "        index += 1\n",
    "\n",
    "myAvgLine2 = []\n",
    "index2 = 0\n",
    "for f in files:\n",
    "    if(f.startswith(\"exportPerfectThing\")):\n",
    "        r_data = pd.read_csv(path + f, sep='\\t')\n",
    "        totcases = r_data[\"metric_new_cases_sympt\"] + r_data[\"metric_new_cases_asympt\"]\n",
    "        if len(myAvgLine2) == 0:\n",
    "            myAvgLine2 = totcases\n",
    "        else:\n",
    "            myAvgLine2 += totcases\n",
    "        plt.plot(r_data[\"time\"][1:], totcases[1:],'b-', alpha=0.15)\n",
    "        index2 += 1\n",
    "\n",
    "plt.plot(r_data[\"time\"][1:], myAvgLine[1:]/index,'r', label=\"Bubbles\", alpha=1)\n",
    "plt.plot(r_data[\"time\"][1:], myAvgLine2[1:]/index2,'b', label=\"Perfect Mixing\", alpha=1)\n",
    "plt.legend()\n",
    "\n",
    "plt.savefig(path + \"comparisonOfCases.png\", dpi=300)\n"
   ]
  },
  {
   "cell_type": "code",
   "execution_count": null,
   "metadata": {},
   "outputs": [],
   "source": [
    "def plotMetric(files, prefix, suffix, metric, symbol, alpha):\n",
    "    myAvgLine = []\n",
    "    index = 0\n",
    "    template = \"^\" + prefix + \".*\" + suffix + \"$\"\n",
    "\n",
    "    for f in files:\n",
    "\n",
    "        if(re.search(template, f) != None): # f.startswith(prefix) and \n",
    "            r_data = pd.read_csv(path + f, sep='\\t')\n",
    "            totcases = r_data[metric]\n",
    "            if len(myAvgLine) == 0:\n",
    "                myAvgLine = totcases\n",
    "            else:\n",
    "                myAvgLine += totcases\n",
    "            \n",
    "            # plot it\n",
    "            plt.plot(r_data[\"time\"][1:], totcases[1:], symbol, alpha=alpha)\n",
    "            index += 1\n",
    "    if(index == 0):\n",
    "        print(\"ERROR: files not found!\")\n",
    "        return pd.NA\n",
    "    return {\"myLine\": myAvgLine/index, \"myTime\": r_data[\"time\"]}\n",
    "\n",
    "path = \"/Users/swise/workspace/worldbank/Disease-Modelling-SSA/data/verification/output/\"\n",
    "files = os.listdir(path)\n",
    "\n",
    "#line1 = plotMetric(files, \"exportMe\", \"0.03_.txt\", \"metric_new_cases_sympt\", 'r-', 0.15)\n",
    "line2 = plotMetric(files, \"exportPerfect\", \"0.03_.txt\", \"metric_new_cases_sympt\", 'b-', 0.15)\n",
    "line3 = plotMetric(files, \"exportPerfectMixing\", \"0.1.txt\", \"metric_new_cases_sympt\", 'g-', 0.15)"
   ]
  },
  {
   "cell_type": "code",
   "execution_count": null,
   "metadata": {},
   "outputs": [],
   "source": [
    "\n"
   ]
  },
  {
   "cell_type": "code",
   "execution_count": null,
   "metadata": {},
   "outputs": [],
   "source": [
    "import pandas as pd\n",
    "\n",
    "x = [\"exportMe6_0.03_.txt\", \"exportPerfectMixing_4_0.03.txt\", \"exportPerfectMixing_7_0.03_.txt\", \"exportPerfectMixing_5_0.03.txt\", \"exportPerfectMixing_2_0.03_.txt\", \"exportMe3_0.03_.txt\", \"exportPerfectMixing_4_0.03_.txt\", \"exportMe5_0.03_.txt\", \"exportPerfectMixing_0_0.03.txt\", \"exportPerfectMixing_1_0.03.txt\", \"exportPerfectMixing_9_0.03_.txt\", \"exportMe8_0.03_.txt\", \"exportPerfectMixing_0_0.3.txt\", \"exportMe2_0.03_.txt\", \"exportPerfectMixing_3_0.03_.txt\"]\n",
    "\n",
    "y = x[0]"
   ]
  },
  {
   "cell_type": "code",
   "execution_count": null,
   "metadata": {
    "scrolled": true
   },
   "outputs": [],
   "source": [
    "# the number of infections caused in a day over the number of infected individuals\n",
    "\n",
    "def extractRe(filename):\n",
    "    r_data = pd.read_csv(filename, sep='\\t')\n",
    "    new_cases = r_data[\"metric_new_cases_sympt\"] + r_data[\"metric_new_cases_asympt\"]\n",
    "    #for l in r_data[\"time\"]:\n",
    "    #    print(l)\n",
    "    print(new_cases)\n",
    "        \n",
    "extractRe(\"/Users/swise/workspace/worldbank/Disease-Modelling-SSA/data/verification/output/exportBubblesOf30_9_0.1.txt\")"
   ]
  },
  {
   "cell_type": "code",
   "execution_count": null,
   "metadata": {
    "scrolled": true
   },
   "outputs": [],
   "source": [
    "import pandas as pd\n",
    "import numpy as np\n",
    "from datetime import datetime, timedelta\n",
    "import matplotlib as mpl\n",
    "import matplotlib.pyplot as plt\n",
    "import os\n",
    "import pylab as plt\n",
    "from os.path import isfile, join\n",
    "from glob import glob\n",
    "import subprocess\n",
    "import re\n",
    "\n",
    "\n",
    "import seaborn as sns\n",
    "sns.set(style=\"darkgrid\")\n",
    "\n",
    "def plotMetric(files, prefix, suffix, metric, symbol, alpha, weighting=1):\n",
    "    myAvgLine = []\n",
    "    index = 0\n",
    "    template = \"^\" + prefix + \".*\" + suffix + \"$\"\n",
    "\n",
    "    for f in files:\n",
    "\n",
    "        if(re.search(template, f) != None): # f.startswith(prefix) and \n",
    "            r_data = pd.read_csv(path + f, sep='\\t')\n",
    "            totcases = r_data[metric]\n",
    "            if len(myAvgLine) == 0:\n",
    "                myAvgLine = totcases\n",
    "            else:\n",
    "                myAvgLine += totcases\n",
    "            \n",
    "            # plot it\n",
    "            plt.plot(r_data[\"time\"][1:], weighting * totcases[1:], symbol, alpha=alpha)\n",
    "            index += 1\n",
    "    return {\"myLine\": weighting * myAvgLine/index, \"myTime\": r_data[\"time\"]}\n",
    "\n",
    "path = \"/Users/swise/workspace/worldbank/Disease-Modelling-SSA/data/verification/output/\"\n",
    "files = os.listdir(path)\n",
    "\n",
    "prefix = \"exportBubblesOf30_\"\n",
    "prefix2 = \"exportBubbles_20perc\"\n",
    "\n",
    "line1 = plotMetric(files, prefix, \"0.016.txt\", \"metric_new_cases_sympt\", 'r-', 0.15, 4)\n",
    "#line2 = plotMetric(files, prefix2, \"0.016.txt\", \"metric_new_cases_sympt\", 'b-', 0.15)\n",
    "\n",
    "plt.plot(line1[\"myTime\"][1:], line1['myLine'][1:], 'r', label=\"Bubbles - 5%\")\n",
    "#plt.plot(line2[\"myTime\"][1:], line2['myLine'][1:], 'b', label=\"Bubbles - 20%\")\n",
    "plt.legend()\n",
    "\n",
    "plt.savefig(path + \"comparisonOfPopulationSizes.png\", dpi=300)"
   ]
  },
  {
   "cell_type": "markdown",
   "metadata": {},
   "source": [
    "### Spread of Infection - Visualising it Phylogenetically"
   ]
  },
  {
   "cell_type": "code",
   "execution_count": null,
   "metadata": {},
   "outputs": [],
   "source": [
    "# Importing necessary libraries from BioPython\n",
    "from Bio import Phylo, AlignIO\n",
    "import pandas as pd\n",
    "from io import StringIO \n",
    "import matplotlib.pyplot as plt"
   ]
  },
  {
   "cell_type": "code",
   "execution_count": null,
   "metadata": {},
   "outputs": [],
   "source": [
    "results_filename = \"/Users/swise/workspace/worldbank/Disease-Modelling-SSA/java/WorldBankCovid19/infections_0.1_1_60_1234.txt\"\n",
    "r_data = pd.read_csv(results_filename, sep='\\t')"
   ]
  },
  {
   "cell_type": "code",
   "execution_count": null,
   "metadata": {
    "scrolled": true
   },
   "outputs": [],
   "source": [
    "transmissions = r_data[[\"Host\", \"Source\"]]\n",
    "transmissions[\"Source\"] = transmissions[\"Source\"].fillna(0) # get rid of NAs\n",
    "transmissions[\"CleanSource\"] = [int(x) for x in transmissions[\"Source\"]] # make sure they're all ints"
   ]
  },
  {
   "cell_type": "code",
   "execution_count": null,
   "metadata": {},
   "outputs": [],
   "source": [
    "def getMySubtree(me, myMatrix, amIFirst = True):\n",
    "\n",
    "    # set up the prefix showing the name of this node\n",
    "    result = \"\"\n",
    "\n",
    "    # if I am not first, add a comma to separate the elements\n",
    "    if not amIFirst:\n",
    "        result += \",\"\n",
    "        \n",
    "    # add my ID\n",
    "    result += \" \" + \".\" #str(me)\n",
    "    \n",
    "    # get a list of the people for whom I am the source (my 'children')\n",
    "    mychildren = myMatrix[myMatrix[\"CleanSource\"] == me]\n",
    "\n",
    "    # if I have children, they will be denoted within the brackets\n",
    "    if len(mychildren) > 0:\n",
    "        result += \"(\"\n",
    "    \n",
    "    first = True # don't add more commas than necessary\n",
    "    for idx, childrow in mychildren.iterrows(): # iterate through the rows\n",
    "        \n",
    "        #print(\"getting child \" + str(childrow[\"Host\"])) # verbose\n",
    "\n",
    "        # check if we should add a comma before printing this\n",
    "        if not first:\n",
    "            result += \",\"\n",
    "        else:\n",
    "            first = False # if it was the first on this run, it is no longer\n",
    "        \n",
    "        # add the subtrees of my children\n",
    "        result += getMySubtree(childrow[\"Host\"], myMatrix, True)\n",
    "    \n",
    "    # if I do have children, close the brackets!\n",
    "    if len(mychildren) > 0:\n",
    "        result += \")\"\n",
    "    \n",
    "    return result"
   ]
  },
  {
   "cell_type": "code",
   "execution_count": null,
   "metadata": {},
   "outputs": [],
   "source": [
    "#transmissions\n",
    "\n",
    "roots = transmissions[transmissions[\"CleanSource\"] == 0]\n",
    "myTreeString = \"\"\n",
    "for i, r in roots.iterrows():\n",
    "    myTreeString += getMySubtree(r[\"Host\"], transmissions)\n",
    "    \n",
    "print(myTreeString)"
   ]
  },
  {
   "cell_type": "code",
   "execution_count": null,
   "metadata": {},
   "outputs": [],
   "source": [
    "myTree = Phylo.read(StringIO(myTreeString), \"newick\")"
   ]
  },
  {
   "cell_type": "code",
   "execution_count": null,
   "metadata": {},
   "outputs": [],
   "source": [
    "myTree.root.color = \"red\"\n",
    "plt.ioff()\n",
    "fig = plt.figure()\n",
    "Phylo.draw(myTree, xlabel=({'xlabel': 'Generations'}), ylabel=({'ylabel': 'Hosts'}), do_show=False)\n",
    "plt.savefig('exampleSpread.png')\n",
    "plt.close(fig)\n",
    "\n",
    "\n",
    "#Phylo.draw(tree, axhspan=((0.25, 7.75), {'facecolor':'0.5'}),"
   ]
  },
  {
   "cell_type": "code",
   "execution_count": null,
   "metadata": {},
   "outputs": [],
   "source": [
    "Phylo.draw_ascii(myTree)"
   ]
  },
  {
   "cell_type": "markdown",
   "metadata": {},
   "source": [
    "### Comparing the age profile of census, single district, and mobile agents"
   ]
  },
  {
   "cell_type": "code",
   "execution_count": 68,
   "metadata": {},
   "outputs": [],
   "source": [
    "import pandas as pd\n",
    "import numpy as np\n",
    "from datetime import datetime, timedelta\n",
    "import matplotlib as mpl\n",
    "import os\n",
    "import pylab as plt\n",
    "\n",
    "import seaborn as sns\n",
    "sns.set(style=\"darkgrid\")"
   ]
  },
  {
   "cell_type": "code",
   "execution_count": null,
   "metadata": {},
   "outputs": [],
   "source": []
  },
  {
   "cell_type": "markdown",
   "metadata": {},
   "source": [
    "Now read in the data after it has all been read!"
   ]
  },
  {
   "cell_type": "code",
   "execution_count": null,
   "metadata": {},
   "outputs": [],
   "source": [
    "def reinflateCaseData(filename, census_data):\n",
    "    raw_data = pd.read_csv(filename, sep='\\t') # read in file\n",
    "    raw_data = raw_data[raw_data[\"ContagiousAt\"] != \"-\"] # omit any exposures that do not translate to cases\n",
    "    fullData = pd.merge(raw_data, census_data.set_index('person_id'), left_on=\"Host\", right_index=True)\n",
    "    return fullData\n",
    "\n",
    "workingDir = \"/Users/swise/workspace/worldbank/Disease-Modelling-SSA/\"\n",
    "census_filename = workingDir + \"data/preprocessed/census/census_sample_5perc_040521.csv\"\n",
    "census_data = pd.read_csv(census_filename, sep=',')"
   ]
  },
  {
   "cell_type": "code",
   "execution_count": 69,
   "metadata": {
    "scrolled": true
   },
   "outputs": [
    {
     "name": "stdout",
     "output_type": "stream",
     "text": [
      "adding defaultMultiDist\n",
      "infections_params_defaultMultiDist_bulkTest_0.1_30_0.txt's scenario is already added!\n",
      "infections_params_defaultMultiDist_bulkTest_0.1_30_2.txt's scenario is already added!\n",
      "infections_params_defaultMultiDist_bulkTest_0.1_30_3.txt's scenario is already added!\n",
      "infections_params_defaultMultiDist_bulkTest_0.1_30_4.txt's scenario is already added!\n",
      "adding multiStatusMultiDist\n",
      "infections_params_multiStatusMultiDist_bulkTest_0.1_30_0.txt's scenario is already added!\n",
      "infections_params_multiStatusMultiDist_bulkTest_0.1_30_1.txt's scenario is already added!\n",
      "infections_params_multiStatusMultiDist_bulkTest_0.1_30_3.txt's scenario is already added!\n",
      "infections_params_multiStatusMultiDist_bulkTest_0.1_30_2.txt's scenario is already added!\n",
      "adding default1Dist\n",
      "infections_params_default1Dist_bulkTest_0.1_30_3.txt's scenario is already added!\n",
      "infections_params_default1Dist_bulkTest_0.1_30_1.txt's scenario is already added!\n",
      "infections_params_default1Dist_bulkTest_0.1_30_0.txt's scenario is already added!\n",
      "infections_params_default1Dist_bulkTest_0.1_30_4.txt's scenario is already added!\n"
     ]
    }
   ],
   "source": [
    "# set my path when running the file from here\n",
    "\n",
    "from os.path import isfile, join\n",
    "path = workingDir + \"java/WorldBankCovid19/\"\n",
    "files = os.listdir(path)\n",
    "\n",
    "pots = {}\n",
    "\n",
    "for f in files: # iterate through files\n",
    "    if f.startswith(\"infections\"): # only select infection files\n",
    "        filename = f.split(\"/\")[-1]\n",
    "        filenameBits = filename.split(\"_\")\n",
    "        scenario = filenameBits[2]\n",
    "        if scenario in pots:\n",
    "            print(filename + \"'s scenario is already added!\")\n",
    "            pots[scenario].append(reinflateCaseData(path + f, census_data))\n",
    "        else:\n",
    "            print(\"adding \" + scenario)\n",
    "            pots[scenario] = [reinflateCaseData(path + f, census_data)]\n",
    "        "
   ]
  },
  {
   "cell_type": "code",
   "execution_count": 77,
   "metadata": {
    "scrolled": false
   },
   "outputs": [
    {
     "data": {
      "image/png": "[encoded data removed]",
      "text/plain": [
       "<Figure size 720x504 with 3 Axes>"
      ]
     },
     "metadata": {},
     "output_type": "display_data"
    }
   ],
   "source": [
    "len(pots)\n",
    "fig, axs = plt.subplots(1, len(pots), tight_layout=True, figsize=(10,7), sharey=True)\n",
    "index = 0\n",
    "for scenario, outputs in pots.items():\n",
    "    for o in outputs:\n",
    "        axs[index].hist(o[\"Time\"], bins=15, color='b', alpha=.3)\n",
    "    axs[index].set_xlabel(scenario)\n",
    "    index += 1"
   ]
  },
  {
   "cell_type": "code",
   "execution_count": null,
   "metadata": {},
   "outputs": [],
   "source": [
    "fig, axs = plt.subplots(1, 1, tight_layout=True, figsize=(3,7))\n",
    "axs.hist(census_data[\"age\"], bins=10, color='b', alpha=.1)"
   ]
  },
  {
   "cell_type": "code",
   "execution_count": null,
   "metadata": {},
   "outputs": [],
   "source": [
    "fname = \"/Users/swise/workspace/worldbank/Disease-Modelling-SSA/java/WorldBankCovid19/infections_0.1_1_60_12345.txt\"\n",
    "def1Dist_12345 = reinflateCaseData(fname, census_data)\n",
    "\n",
    "fname = \"/Users/swise/workspace/worldbank/Disease-Modelling-SSA/java/WorldBankCovid19/infections_0.1_1_60_1234.txt\"\n",
    "def1Dist_1234 = reinflateCaseData(fname, census_data)\n",
    "\n",
    "fig, axs = plt.subplots(1, 2, sharey=True, tight_layout=True, figsize=(10,7))\n",
    "axs[0].hist(def1Dist_12345[\"age\"], bins=10, color='b', alpha=.1)\n",
    "axs[0].set_xlabel('Simulated Cases (Single District)')\n",
    "\n",
    "axs[0].hist(def1Dist_1234[\"age\"], bins=10, color='b', alpha=.1\n",
    "        )\n",
    "axs[0].set_xlabel('Simulated Cases (Single District)')"
   ]
  },
  {
   "cell_type": "code",
   "execution_count": 33,
   "metadata": {},
   "outputs": [],
   "source": [
    "def numElderly(household, census_data):\n",
    "    members = census_data[census_data[\"household_id\"] == household]\n",
    "    elderly = members[members[\"age\"] >= 60]\n",
    "    return len(elderly)\n"
   ]
  },
  {
   "cell_type": "code",
   "execution_count": 34,
   "metadata": {},
   "outputs": [
    {
     "name": "stderr",
     "output_type": "stream",
     "text": [
      "<ipython-input-34-9ff74fb9fa1f>:10: SettingWithCopyWarning: \n",
      "A value is trying to be set on a copy of a slice from a DataFrame.\n",
      "Try using .loc[row_indexer,col_indexer] = value instead\n",
      "\n",
      "See the caveats in the documentation: https://pandas.pydata.org/pandas-docs/stable/user_guide/indexing.html#returning-a-view-versus-a-copy\n",
      "  elderlyHouseholds[\"numElderly\"] = myResult\n"
     ]
    }
   ],
   "source": [
    "households = census_data.groupby('household_id').agg({'age': 'max', 'person_id': 'count'})\n",
    "elderlyHouseholds = households[households[\"age\"] >= 60]\n",
    "elderlyHouseholds\n",
    "#fig, axs = plt.subplots(1, 1, tight_layout=True, figsize=(10,7))\n",
    "#axs.scatter(households[\"age\"], households[\"person_id\"])\n",
    "\n",
    "myResult = []\n",
    "for h in elderlyHouseholds.index:\n",
    "    myResult.append(numElderly(h, census_data))\n",
    "elderlyHouseholds[\"numElderly\"] = myResult\n",
    "    \n",
    "    \n",
    "myHouses = elderlyHouseholds[elderlyHouseholds[\"numElderly\"] < 10]\n",
    "fig, axs = plt.subplots(1, 1, tight_layout=True, figsize=(10,7))\n",
    "axs.hist(myHouses[\"numElderly\"], bins=9)\n",
    "\n",
    "#elderly = census_data[census_data[\"age\"] >= 60]\n",
    "#elderlyHouseholds = elderly.groupby('household_id').agg({'age': 'mean', 'person_id': 'count'})\n",
    "#elderlyHouseholds.head()\n",
    "#axs.hist(households[\"person_id\"], bins=100)\n",
    "# the question: what percentage of households with one elderly person contain MORE than one elderly person?"
   ]
  },
  {
   "cell_type": "code",
   "execution_count": 59,
   "metadata": {},
   "outputs": [
    {
     "data": {
      "text/plain": [
       "0.5464829650497403"
      ]
     },
     "execution_count": 59,
     "metadata": {},
     "output_type": "execute_result"
    }
   ],
   "source": [
    "sum(elderlyHouseholds[\"numElderly\"] > 1) / len(elderlyHouseholds[\"numElderly\"])"
   ]
  },
  {
   "cell_type": "code",
   "execution_count": 58,
   "metadata": {},
   "outputs": [
    {
     "data": {
      "text/plain": [
       "0.15045332026464103"
      ]
     },
     "execution_count": 58,
     "metadata": {},
     "output_type": "execute_result"
    }
   ],
   "source": [
    "len(elderlyHouseholds[\"numElderly\"]) / len(households[\"person_id\"])"
   ]
  },
  {
   "cell_type": "markdown",
   "metadata": {},
   "source": [
    "So we can see that\n",
    "* overall, the simulated cases skew older\n",
    "* fewer children, proportionately, are infected in the multi (movement) model than in the single district model\n"
   ]
  },
  {
   "cell_type": "markdown",
   "metadata": {},
   "source": [
    "### Correlation between age in district and case rate"
   ]
  },
  {
   "cell_type": "code",
   "execution_count": null,
   "metadata": {},
   "outputs": [],
   "source": [
    "results_filename = \"/Users/swise/workspace/worldbank/Disease-Modelling-SSA/java/WorldBankCovid19/infections_0.1_1_60_1234.txt\"\n",
    "r_data = pd.read_csv(results_filename, sep='\\t')"
   ]
  },
  {
   "cell_type": "code",
   "execution_count": null,
   "metadata": {},
   "outputs": [],
   "source": [
    "x = pd.Series(r_data[\"LocOfTransmission\"])\n",
    "b = x.value_counts()\n",
    "b.index\n",
    "\n",
    "cases = pd.DataFrame(b)\n",
    "cases[\"district\"] = b.index\n",
    "cases[\"num\"] = [int(x.split(\"_\")[1]) for x in cases[\"district\"]]\n",
    "cases.head()"
   ]
  },
  {
   "cell_type": "code",
   "execution_count": null,
   "metadata": {},
   "outputs": [],
   "source": []
  },
  {
   "cell_type": "code",
   "execution_count": null,
   "metadata": {},
   "outputs": [],
   "source": [
    "elderly = census_data[census_data['age'] >= 60]\n",
    "countElderly = elderly.groupby([\"district_id\"]).count()\n",
    "elderlyByDistrict = pd.DataFrame(countElderly[\"person_id\"])\n",
    "elderlyByDistrict[\"num\"] = countElderly.index"
   ]
  },
  {
   "cell_type": "code",
   "execution_count": null,
   "metadata": {},
   "outputs": [],
   "source": [
    "merged = cases.merge(elderlyByDistrict, on=\"num\", how=\"left\")\n",
    "merged.head()"
   ]
  },
  {
   "cell_type": "code",
   "execution_count": null,
   "metadata": {},
   "outputs": [],
   "source": [
    "from sklearn.linear_model import LinearRegression\n",
    "import numpy as np"
   ]
  },
  {
   "cell_type": "code",
   "execution_count": null,
   "metadata": {},
   "outputs": [],
   "source": [
    "xval = np.array(merged[\"LocOfTransmission\"]).reshape(-1, 1)\n",
    "yval = np.array(merged[\"person_id\"])\n",
    "model = LinearRegression().fit(xval, yval)\n",
    "r_sq = model.score(xval, yval)"
   ]
  },
  {
   "cell_type": "code",
   "execution_count": null,
   "metadata": {},
   "outputs": [],
   "source": [
    "r_sq"
   ]
  },
  {
   "cell_type": "code",
   "execution_count": null,
   "metadata": {},
   "outputs": [],
   "source": [
    "y_pred = model.predict(xval)\n",
    "y_pred"
   ]
  },
  {
   "cell_type": "code",
   "execution_count": null,
   "metadata": {},
   "outputs": [],
   "source": [
    "plt.scatter(xval, y_pred, c=\"blue\")\n",
    "plt.scatter(xval, yval, c=\"red\")\n",
    "plt.show()"
   ]
  }
 ],
 "metadata": {
  "kernelspec": {
   "display_name": "Python 3",
   "language": "python",
   "name": "python3"
  },
  "language_info": {
   "codemirror_mode": {
    "name": "ipython",
    "version": 3
   },
   "file_extension": ".py",
   "mimetype": "text/x-python",
   "name": "python",
   "nbconvert_exporter": "python",
   "pygments_lexer": "ipython3",
   "version": "3.8.5"
  }
 },
 "nbformat": 4,
 "nbformat_minor": 4
}
