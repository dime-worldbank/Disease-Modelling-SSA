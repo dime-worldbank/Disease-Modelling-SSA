{
 "cells": [
  {
   "cell_type": "code",
   "execution_count": 25,
   "metadata": {},
   "outputs": [],
   "source": [
    "import pandas as pd\n",
    "from sklearn.ensemble import GradientBoostingRegressor, RandomForestRegressor\n",
    "import numpy as np\n",
    "from collections import Counter\n",
    "\n",
    "from covid19_abm.dir_manager import get_data_dir"
   ]
  },
  {
   "cell_type": "code",
   "execution_count": 26,
   "metadata": {},
   "outputs": [],
   "source": [
    "age_map = {\n",
    "    'less than 1 year': 0,\n",
    "    'less than 1 year ': 0,\n",
    "    '1 year': 1,\n",
    "    '1 year ': 1,\n",
    "    '2 years': 2,\n",
    "    '2 years ': 2,\n",
    "    '98': 98,\n",
    "    '98 ': 98,\n",
    "    'not reported/missing': None,\n",
    "    'not reported/missing ': None,\n",
    "}\n",
    "\n",
    "econ_stat_map = {\n",
    "    'Not working, inactive, not': 'Not working, inactive, not in universe',\n",
    "\n",
    "}\n",
    "\n",
    "#full_individual_df = pd.read_stata(\n",
    "    #get_data_dir('raw', 'census', 'abm_individual_new_092220_final_merged_complete_FINAL.dta'))\n",
    "\n",
    "    \n",
    "full_individual_df = pd.read_stata(get_data_dir('raw', 'census', '5_perc_sample', 'census_sample_5perc_040521.dta'))\n",
    "full_individual_df['age'] = full_individual_df['age'].map(lambda x: age_map.get(x, x))\n",
    "\n",
    "\n",
    "full_individual_df['economic_status'] = full_individual_df['economic_status'].astype(str)\n",
    "full_individual_df.loc[full_individual_df['teachers'] != 0, 'economic_status'] = 'Teachers'\n",
    "full_individual_df['economic_status'] = full_individual_df['economic_status'].str.strip().map(lambda x: econ_stat_map.get(x, x))"
   ]
  },
  {
   "cell_type": "code",
   "execution_count": 27,
   "metadata": {},
   "outputs": [
    {
     "data": {
      "text/plain": [
       "Current Students                          229861\n",
       "Not working, inactive, not in universe    182559\n",
       "Agriculture workers                       120555\n",
       "Service workers                           111559\n",
       "Homemakers/Housework                       66645\n",
       "Office workers                             17241\n",
       "Disabled and not working                    8902\n",
       "Teachers                                    7129\n",
       "Industry Workers                            6301\n",
       "In the army                                 2144\n",
       "Name: economic_status, dtype: int64"
      ]
     },
     "execution_count": 27,
     "metadata": {},
     "output_type": "execute_result"
    }
   ],
   "source": [
    "full_individual_df['economic_status'].value_counts()"
   ]
  },
  {
   "cell_type": "code",
   "execution_count": 28,
   "metadata": {},
   "outputs": [
    {
     "data": {
      "text/html": [
       "<div>\n",
       "<style scoped>\n",
       "    .dataframe tbody tr th:only-of-type {\n",
       "        vertical-align: middle;\n",
       "    }\n",
       "\n",
       "    .dataframe tbody tr th {\n",
       "        vertical-align: top;\n",
       "    }\n",
       "\n",
       "    .dataframe thead th {\n",
       "        text-align: right;\n",
       "    }\n",
       "</style>\n",
       "<table border=\"1\" class=\"dataframe\">\n",
       "  <thead>\n",
       "    <tr style=\"text-align: right;\">\n",
       "      <th></th>\n",
       "      <th>household_id</th>\n",
       "      <th>persons</th>\n",
       "      <th>strata</th>\n",
       "      <th>gq</th>\n",
       "      <th>urban</th>\n",
       "      <th>hhtype</th>\n",
       "      <th>nfams</th>\n",
       "      <th>pernum</th>\n",
       "      <th>famunit</th>\n",
       "      <th>famsize</th>\n",
       "      <th>...</th>\n",
       "      <th>Ed_dist</th>\n",
       "      <th>Type</th>\n",
       "      <th>HotseatingIndicator</th>\n",
       "      <th>hotseating_session</th>\n",
       "      <th>phase</th>\n",
       "      <th>boardingschool</th>\n",
       "      <th>school_goers_detailed</th>\n",
       "      <th>geo1_zw2012</th>\n",
       "      <th>geo2_zw2012</th>\n",
       "      <th>economic_status</th>\n",
       "    </tr>\n",
       "  </thead>\n",
       "  <tbody>\n",
       "    <tr>\n",
       "      <th>0</th>\n",
       "      <td>7012000</td>\n",
       "      <td>5</td>\n",
       "      <td>2515</td>\n",
       "      <td>households</td>\n",
       "      <td>urban</td>\n",
       "      <td>married/cohab couple with children</td>\n",
       "      <td>1 family</td>\n",
       "      <td>2</td>\n",
       "      <td>1</td>\n",
       "      <td>5</td>\n",
       "      <td>...</td>\n",
       "      <td></td>\n",
       "      <td></td>\n",
       "      <td>NaN</td>\n",
       "      <td>NaN</td>\n",
       "      <td>0.0</td>\n",
       "      <td>NaN</td>\n",
       "      <td>0</td>\n",
       "      <td>bulawayo</td>\n",
       "      <td>bulawayo urban</td>\n",
       "      <td>Homemakers/Housework</td>\n",
       "    </tr>\n",
       "  </tbody>\n",
       "</table>\n",
       "<p>1 rows × 61 columns</p>\n",
       "</div>"
      ],
      "text/plain": [
       "   household_id  persons  strata          gq  urban  \\\n",
       "0       7012000        5    2515  households  urban   \n",
       "\n",
       "                               hhtype     nfams  pernum  famunit famsize  ...  \\\n",
       "0  married/cohab couple with children  1 family       2        1       5  ...   \n",
       "\n",
       "  Ed_dist Type HotseatingIndicator hotseating_session phase boardingschool  \\\n",
       "0                              NaN                NaN   0.0            NaN   \n",
       "\n",
       "  school_goers_detailed geo1_zw2012     geo2_zw2012       economic_status  \n",
       "0                     0    bulawayo  bulawayo urban  Homemakers/Housework  \n",
       "\n",
       "[1 rows x 61 columns]"
      ]
     },
     "execution_count": 28,
     "metadata": {},
     "output_type": "execute_result"
    }
   ],
   "source": [
    "full_individual_df.head(1)"
   ]
  },
  {
   "cell_type": "code",
   "execution_count": 29,
   "metadata": {},
   "outputs": [
    {
     "data": {
      "text/plain": [
       "0.0             516322\n",
       "School Goers    236574\n",
       "Name: school_goers, dtype: int64"
      ]
     },
     "execution_count": 29,
     "metadata": {},
     "output_type": "execute_result"
    }
   ],
   "source": [
    "full_individual_df[\"school_goers\"].value_counts()"
   ]
  },
  {
   "cell_type": "code",
   "execution_count": 30,
   "metadata": {},
   "outputs": [
    {
     "data": {
      "text/plain": [
       "(6713, 6713, 7129)"
      ]
     },
     "execution_count": 30,
     "metadata": {},
     "output_type": "execute_result"
    }
   ],
   "source": [
    "(\n",
    "    ((full_individual_df[\"teachers\"] > 0) & (full_individual_df[\"school_goers\"] > 0)).sum(),\n",
    "    ((full_individual_df[\"teachers\"] > 0) & (full_individual_df[\"school_goers\"] > 0) & (full_individual_df[\"Schoolnumber\"].notnull())).sum(),\n",
    "    (full_individual_df[\"teachers\"] > 0).sum()\n",
    ")"
   ]
  },
  {
   "cell_type": "markdown",
   "metadata": {},
   "source": [
    "# Fill unknown age"
   ]
  },
  {
   "cell_type": "code",
   "execution_count": 31,
   "metadata": {},
   "outputs": [
    {
     "data": {
      "text/plain": [
       "household_id                  0\n",
       "persons                       0\n",
       "strata                        0\n",
       "gq                            0\n",
       "urban                         0\n",
       "                          ...  \n",
       "boardingschool           516322\n",
       "school_goers_detailed         0\n",
       "geo1_zw2012                   0\n",
       "geo2_zw2012                   0\n",
       "economic_status               0\n",
       "Length: 61, dtype: int64"
      ]
     },
     "execution_count": 31,
     "metadata": {},
     "output_type": "execute_result"
    }
   ],
   "source": [
    "# first identify if there are missing ages \n",
    "full_individual_df.isnull().sum()"
   ]
  },
  {
   "cell_type": "code",
   "execution_count": 33,
   "metadata": {},
   "outputs": [
    {
     "data": {
      "text/plain": [
       "1639"
      ]
     },
     "execution_count": 33,
     "metadata": {},
     "output_type": "execute_result"
    }
   ],
   "source": [
    "full_individual_df['age'].isnull().sum()"
   ]
  },
  {
   "cell_type": "code",
   "execution_count": 39,
   "metadata": {},
   "outputs": [
    {
     "data": {
      "text/plain": [
       "0     24768\n",
       "1     24532\n",
       "12    23780\n",
       "2     23741\n",
       "4     21076\n",
       "      ...  \n",
       "94      181\n",
       "93      125\n",
       "95       70\n",
       "96       55\n",
       "97       53\n",
       "Name: age, Length: 99, dtype: int64"
      ]
     },
     "execution_count": 39,
     "metadata": {},
     "output_type": "execute_result"
    }
   ],
   "source": [
    "full_individual_df['age'].value_counts()"
   ]
  },
  {
   "cell_type": "code",
   "execution_count": 34,
   "metadata": {},
   "outputs": [],
   "source": [
    "individual_df = full_individual_df\n",
    "\n",
    "age_cols = [\n",
    "    'district_id',\n",
    "    'urban', 'persons', 'sex', 'marst', 'citizen', 'race', 'disabled', 'economic_status']\n",
    "X = pd.get_dummies(individual_df[age_cols], drop_first=True)\n",
    "\n",
    "X_train = X[individual_df['age'].notnull()]"
   ]
  },
  {
   "cell_type": "code",
   "execution_count": 35,
   "metadata": {},
   "outputs": [],
   "source": [
    "gb = GradientBoostingRegressor(n_estimators=100, max_depth=3, random_state=1029)\n",
    "# rf = RandomForestRegressor(n_estimators=100, max_depth=3, random_state=1029, n_jobs=50)\n",
    "\n",
    "frac = 0.05\n",
    "X_tr = X_train.sample(frac=frac, random_state=1029)\n",
    "gb.fit(X_tr, individual_df.loc[X_tr.index, 'age'])\n",
    "\n",
    "missing_age = X[individual_df['age'].isnull()]"
   ]
  },
  {
   "cell_type": "code",
   "execution_count": 36,
   "metadata": {},
   "outputs": [
    {
     "data": {
      "text/plain": [
       "<AxesSubplot:>"
      ]
     },
     "execution_count": 36,
     "metadata": {},
     "output_type": "execute_result"
    },
    {
     "data": {
      "image/png": "[encoded data removed]",
      "text/plain": [
       "<Figure size 432x288 with 1 Axes>"
      ]
     },
     "metadata": {
      "needs_background": "light"
     },
     "output_type": "display_data"
    }
   ],
   "source": [
    "pd.Series(gb.predict(missing_age)).hist()\n",
    "\n",
    "#code is reincluded for 5 perc"
   ]
  },
  {
   "cell_type": "code",
   "execution_count": 37,
   "metadata": {},
   "outputs": [
    {
     "data": {
      "text/plain": [
       "(37563, 26)"
      ]
     },
     "execution_count": 37,
     "metadata": {},
     "output_type": "execute_result"
    }
   ],
   "source": [
    "X_tr.shape"
   ]
  },
  {
   "cell_type": "code",
   "execution_count": 40,
   "metadata": {},
   "outputs": [
    {
     "data": {
      "text/plain": [
       "1639"
      ]
     },
     "execution_count": 40,
     "metadata": {},
     "output_type": "execute_result"
    }
   ],
   "source": [
    "full_individual_df['age'].isnull().sum()"
   ]
  },
  {
   "cell_type": "code",
   "execution_count": 41,
   "metadata": {},
   "outputs": [
    {
     "data": {
      "text/html": [
       "<div>\n",
       "<style scoped>\n",
       "    .dataframe tbody tr th:only-of-type {\n",
       "        vertical-align: middle;\n",
       "    }\n",
       "\n",
       "    .dataframe tbody tr th {\n",
       "        vertical-align: top;\n",
       "    }\n",
       "\n",
       "    .dataframe thead th {\n",
       "        text-align: right;\n",
       "    }\n",
       "</style>\n",
       "<table border=\"1\" class=\"dataframe\">\n",
       "  <thead>\n",
       "    <tr style=\"text-align: right;\">\n",
       "      <th></th>\n",
       "      <th>household_id</th>\n",
       "      <th>persons</th>\n",
       "      <th>strata</th>\n",
       "      <th>gq</th>\n",
       "      <th>urban</th>\n",
       "      <th>hhtype</th>\n",
       "      <th>nfams</th>\n",
       "      <th>pernum</th>\n",
       "      <th>famunit</th>\n",
       "      <th>famsize</th>\n",
       "      <th>...</th>\n",
       "      <th>Ed_dist</th>\n",
       "      <th>Type</th>\n",
       "      <th>HotseatingIndicator</th>\n",
       "      <th>hotseating_session</th>\n",
       "      <th>phase</th>\n",
       "      <th>boardingschool</th>\n",
       "      <th>school_goers_detailed</th>\n",
       "      <th>geo1_zw2012</th>\n",
       "      <th>geo2_zw2012</th>\n",
       "      <th>economic_status</th>\n",
       "    </tr>\n",
       "  </thead>\n",
       "  <tbody>\n",
       "    <tr>\n",
       "      <th>898</th>\n",
       "      <td>2274000</td>\n",
       "      <td>8</td>\n",
       "      <td>15841</td>\n",
       "      <td>households</td>\n",
       "      <td>urban</td>\n",
       "      <td>extended family, relatives only</td>\n",
       "      <td>1 family</td>\n",
       "      <td>2</td>\n",
       "      <td>1</td>\n",
       "      <td>8</td>\n",
       "      <td>...</td>\n",
       "      <td></td>\n",
       "      <td></td>\n",
       "      <td>NaN</td>\n",
       "      <td>NaN</td>\n",
       "      <td>0.0</td>\n",
       "      <td>NaN</td>\n",
       "      <td>0</td>\n",
       "      <td>bulawayo</td>\n",
       "      <td>bulawayo urban</td>\n",
       "      <td>Not working, inactive, not in universe</td>\n",
       "    </tr>\n",
       "  </tbody>\n",
       "</table>\n",
       "<p>1 rows × 61 columns</p>\n",
       "</div>"
      ],
      "text/plain": [
       "     household_id  persons  strata          gq  urban  \\\n",
       "898       2274000        8   15841  households  urban   \n",
       "\n",
       "                              hhtype     nfams  pernum  famunit famsize  ...  \\\n",
       "898  extended family, relatives only  1 family       2        1       8  ...   \n",
       "\n",
       "    Ed_dist Type HotseatingIndicator hotseating_session phase boardingschool  \\\n",
       "898                              NaN                NaN   0.0            NaN   \n",
       "\n",
       "    school_goers_detailed geo1_zw2012     geo2_zw2012  \\\n",
       "898                     0    bulawayo  bulawayo urban   \n",
       "\n",
       "                            economic_status  \n",
       "898  Not working, inactive, not in universe  \n",
       "\n",
       "[1 rows x 61 columns]"
      ]
     },
     "execution_count": 41,
     "metadata": {},
     "output_type": "execute_result"
    }
   ],
   "source": [
    "#individual_df.loc[missing_age.index, 'age'] = gb.predict(missing_age).astype(int)\n",
    "individual_df.loc[missing_age.index].head(1)"
   ]
  },
  {
   "cell_type": "code",
   "execution_count": 46,
   "metadata": {},
   "outputs": [
    {
     "data": {
      "text/html": [
       "<div>\n",
       "<style scoped>\n",
       "    .dataframe tbody tr th:only-of-type {\n",
       "        vertical-align: middle;\n",
       "    }\n",
       "\n",
       "    .dataframe tbody tr th {\n",
       "        vertical-align: top;\n",
       "    }\n",
       "\n",
       "    .dataframe thead th {\n",
       "        text-align: right;\n",
       "    }\n",
       "</style>\n",
       "<table border=\"1\" class=\"dataframe\">\n",
       "  <thead>\n",
       "    <tr style=\"text-align: right;\">\n",
       "      <th></th>\n",
       "      <th>household_id</th>\n",
       "      <th>persons</th>\n",
       "      <th>strata</th>\n",
       "      <th>gq</th>\n",
       "      <th>urban</th>\n",
       "      <th>hhtype</th>\n",
       "      <th>nfams</th>\n",
       "      <th>pernum</th>\n",
       "      <th>famunit</th>\n",
       "      <th>famsize</th>\n",
       "      <th>...</th>\n",
       "      <th>Ed_dist</th>\n",
       "      <th>Type</th>\n",
       "      <th>HotseatingIndicator</th>\n",
       "      <th>hotseating_session</th>\n",
       "      <th>phase</th>\n",
       "      <th>boardingschool</th>\n",
       "      <th>school_goers_detailed</th>\n",
       "      <th>geo1_zw2012</th>\n",
       "      <th>geo2_zw2012</th>\n",
       "      <th>economic_status</th>\n",
       "    </tr>\n",
       "  </thead>\n",
       "  <tbody>\n",
       "    <tr>\n",
       "      <th>0</th>\n",
       "      <td>7012000</td>\n",
       "      <td>5</td>\n",
       "      <td>2515</td>\n",
       "      <td>households</td>\n",
       "      <td>urban</td>\n",
       "      <td>married/cohab couple with children</td>\n",
       "      <td>1 family</td>\n",
       "      <td>2</td>\n",
       "      <td>1</td>\n",
       "      <td>5</td>\n",
       "      <td>...</td>\n",
       "      <td></td>\n",
       "      <td></td>\n",
       "      <td>NaN</td>\n",
       "      <td>NaN</td>\n",
       "      <td>0.0</td>\n",
       "      <td>NaN</td>\n",
       "      <td>0</td>\n",
       "      <td>bulawayo</td>\n",
       "      <td>bulawayo urban</td>\n",
       "      <td>Homemakers/Housework</td>\n",
       "    </tr>\n",
       "  </tbody>\n",
       "</table>\n",
       "<p>1 rows × 61 columns</p>\n",
       "</div>"
      ],
      "text/plain": [
       "   household_id  persons  strata          gq  urban  \\\n",
       "0       7012000        5    2515  households  urban   \n",
       "\n",
       "                               hhtype     nfams  pernum  famunit famsize  ...  \\\n",
       "0  married/cohab couple with children  1 family       2        1       5  ...   \n",
       "\n",
       "  Ed_dist Type HotseatingIndicator hotseating_session phase boardingschool  \\\n",
       "0                              NaN                NaN   0.0            NaN   \n",
       "\n",
       "  school_goers_detailed geo1_zw2012     geo2_zw2012       economic_status  \n",
       "0                     0    bulawayo  bulawayo urban  Homemakers/Housework  \n",
       "\n",
       "[1 rows x 61 columns]"
      ]
     },
     "execution_count": 46,
     "metadata": {},
     "output_type": "execute_result"
    }
   ],
   "source": [
    "full_individual_df.head(1)"
   ]
  },
  {
   "cell_type": "code",
   "execution_count": 44,
   "metadata": {},
   "outputs": [
    {
     "ename": "AttributeError",
     "evalue": "'DataFrame' object has no attribute 'missing_age'",
     "output_type": "error",
     "traceback": [
      "\u001b[0;31m---------------------------------------------------------------------------\u001b[0m",
      "\u001b[0;31mAttributeError\u001b[0m                            Traceback (most recent call last)",
      "\u001b[0;32m<ipython-input-44-0e0854be344c>\u001b[0m in \u001b[0;36m<module>\u001b[0;34m\u001b[0m\n\u001b[1;32m      1\u001b[0m \u001b[0;31m# replace the missing ages with predicted values where missing\u001b[0m\u001b[0;34m\u001b[0m\u001b[0;34m\u001b[0m\u001b[0;34m\u001b[0m\u001b[0m\n\u001b[0;32m----> 2\u001b[0;31m \u001b[0mindividual_df\u001b[0m\u001b[0;34m.\u001b[0m\u001b[0mage\u001b[0m\u001b[0;34m(\u001b[0m\u001b[0;32mNone\u001b[0m\u001b[0;34m,\u001b[0m \u001b[0mindividual_df\u001b[0m\u001b[0;34m.\u001b[0m\u001b[0mmissing_age\u001b[0m\u001b[0;34m,\u001b[0m \u001b[0minplace\u001b[0m\u001b[0;34m=\u001b[0m\u001b[0;32mTrue\u001b[0m\u001b[0;34m)\u001b[0m\u001b[0;34m\u001b[0m\u001b[0;34m\u001b[0m\u001b[0m\n\u001b[0m",
      "\u001b[0;32m/opt/anaconda3/envs/covid19_abm/lib/python3.8/site-packages/pandas/core/generic.py\u001b[0m in \u001b[0;36m__getattr__\u001b[0;34m(self, name)\u001b[0m\n\u001b[1;32m   5177\u001b[0m             \u001b[0;32mif\u001b[0m \u001b[0mself\u001b[0m\u001b[0;34m.\u001b[0m\u001b[0m_info_axis\u001b[0m\u001b[0;34m.\u001b[0m\u001b[0m_can_hold_identifiers_and_holds_name\u001b[0m\u001b[0;34m(\u001b[0m\u001b[0mname\u001b[0m\u001b[0;34m)\u001b[0m\u001b[0;34m:\u001b[0m\u001b[0;34m\u001b[0m\u001b[0;34m\u001b[0m\u001b[0m\n\u001b[1;32m   5178\u001b[0m                 \u001b[0;32mreturn\u001b[0m \u001b[0mself\u001b[0m\u001b[0;34m[\u001b[0m\u001b[0mname\u001b[0m\u001b[0;34m]\u001b[0m\u001b[0;34m\u001b[0m\u001b[0;34m\u001b[0m\u001b[0m\n\u001b[0;32m-> 5179\u001b[0;31m             \u001b[0;32mreturn\u001b[0m \u001b[0mobject\u001b[0m\u001b[0;34m.\u001b[0m\u001b[0m__getattribute__\u001b[0m\u001b[0;34m(\u001b[0m\u001b[0mself\u001b[0m\u001b[0;34m,\u001b[0m \u001b[0mname\u001b[0m\u001b[0;34m)\u001b[0m\u001b[0;34m\u001b[0m\u001b[0;34m\u001b[0m\u001b[0m\n\u001b[0m\u001b[1;32m   5180\u001b[0m \u001b[0;34m\u001b[0m\u001b[0m\n\u001b[1;32m   5181\u001b[0m     \u001b[0;32mdef\u001b[0m \u001b[0m__setattr__\u001b[0m\u001b[0;34m(\u001b[0m\u001b[0mself\u001b[0m\u001b[0;34m,\u001b[0m \u001b[0mname\u001b[0m\u001b[0;34m,\u001b[0m \u001b[0mvalue\u001b[0m\u001b[0;34m)\u001b[0m\u001b[0;34m:\u001b[0m\u001b[0;34m\u001b[0m\u001b[0;34m\u001b[0m\u001b[0m\n",
      "\u001b[0;31mAttributeError\u001b[0m: 'DataFrame' object has no attribute 'missing_age'"
     ]
    }
   ],
   "source": [
    "# replace the missing ages with predicted values where missing\n",
    "individual_df.age(None, individual_df.missing_age, inplace=True)"
   ]
  },
  {
   "cell_type": "code",
   "execution_count": 40,
   "metadata": {},
   "outputs": [
    {
     "data": {
      "text/plain": [
       "In School                                 43\n",
       "Not working, inactive, not in universe    41\n",
       "Agriculture Workers                       22\n",
       "Homemakers/Housework                      16\n",
       "Service Workers                           14\n",
       "Office workers                             7\n",
       "Disabled and not working                   3\n",
       "Teachers                                   2\n",
       "Indusrtry Workers                          1\n",
       "Name: economic_status, dtype: int64"
      ]
     },
     "execution_count": 40,
     "metadata": {},
     "output_type": "execute_result"
    },
    {
     "name": "stdout",
     "output_type": "stream",
     "text": [
      "time: 4.35 ms\n"
     ]
    }
   ],
   "source": [
    "individual_df.economic_status.astype(str).value_counts()"
   ]
  },
  {
   "cell_type": "markdown",
   "metadata": {},
   "source": [
    "## Create `district_id`, `household_id` and `economic_activity_location_id`"
   ]
  },
  {
   "cell_type": "code",
   "execution_count": 41,
   "metadata": {},
   "outputs": [
    {
     "name": "stdout",
     "output_type": "stream",
     "text": [
      "time: 417 µs\n"
     ]
    }
   ],
   "source": [
    "relevant_cols = [\n",
    "    'person_id', 'age', 'sex',\n",
    "    'household_id', 'district_id',\n",
    "    'economic_status', 'economic_activity_location_id',\n",
    "    'school_id',\n",
    "    'hotseating_session',\n",
    "    'phase',\n",
    "    'boardingschool'\n",
    "    # 'household', 'district'\n",
    "]"
   ]
  },
  {
   "cell_type": "code",
   "execution_count": 42,
   "metadata": {},
   "outputs": [
    {
     "data": {
      "text/plain": [
       "16810.0    1\n",
       "4201.0     1\n",
       "2987.0     1\n",
       "16771.0    1\n",
       "14529.0    1\n",
       "6029.0     1\n",
       "11105.0    1\n",
       "8408.0     1\n",
       "2541.0     1\n",
       "2954.0     1\n",
       "12641.0    1\n",
       "16214.0    1\n",
       "8669.0     1\n",
       "16889.0    1\n",
       "17110.0    1\n",
       "10701.0    1\n",
       "6281.0     1\n",
       "12432.0    1\n",
       "1116.0     1\n",
       "1192.0     1\n",
       "1024.0     1\n",
       "6623.0     1\n",
       "1306.0     1\n",
       "7066.0     1\n",
       "2878.0     1\n",
       "2223.0     1\n",
       "16759.0    1\n",
       "16738.0    1\n",
       "6261.0     1\n",
       "16603.0    1\n",
       "14385.0    1\n",
       "12600.0    1\n",
       "17040.0    1\n",
       "2550.0     1\n",
       "10235.0    1\n",
       "12447.0    1\n",
       "14655.0    1\n",
       "6931.0     1\n",
       "8429.0     1\n",
       "6393.0     1\n",
       "2413.0     1\n",
       "6145.0     1\n",
       "16180.0    1\n",
       "1226.0     1\n",
       "12640.0    1\n",
       "Name: Schoolnumber, dtype: int64"
      ]
     },
     "execution_count": 42,
     "metadata": {},
     "output_type": "execute_result"
    },
    {
     "name": "stdout",
     "output_type": "stream",
     "text": [
      "time: 5.24 ms\n"
     ]
    }
   ],
   "source": [
    "individual_df['Schoolnumber'].value_counts()"
   ]
  },
  {
   "cell_type": "code",
   "execution_count": 43,
   "metadata": {},
   "outputs": [
    {
     "name": "stdout",
     "output_type": "stream",
     "text": [
      "***FLAG***/Users/sophieayling/Documents/GitHub/covid19-agent-based-model\n",
      "time: 15.6 ms\n"
     ]
    }
   ],
   "source": [
    "old_new_districts = pd.read_csv(\n",
    "    get_data_dir('raw', 'district_relation.csv'), index_col=0)\n",
    "old_new_districts.index = old_new_districts['ADMIN_NAME'].str.lower()"
   ]
  },
  {
   "cell_type": "code",
   "execution_count": 44,
   "metadata": {},
   "outputs": [
    {
     "name": "stdout",
     "output_type": "stream",
     "text": [
      "time: 1.5 ms\n"
     ]
    }
   ],
   "source": [
    "individual_df['serial_expanded'] = individual_df['serial_cycle']"
   ]
  },
  {
   "cell_type": "code",
   "execution_count": 45,
   "metadata": {},
   "outputs": [
    {
     "data": {
      "text/plain": [
       "2     24\n",
       "1      8\n",
       "7      5\n",
       "57     4\n",
       "55     4\n",
       "Name: new_district_id, dtype: int64"
      ]
     },
     "execution_count": 45,
     "metadata": {},
     "output_type": "execute_result"
    },
    {
     "name": "stdout",
     "output_type": "stream",
     "text": [
      "time: 5.56 ms\n"
     ]
    }
   ],
   "source": [
    "individual_df['new_district_id'].value_counts().head()"
   ]
  },
  {
   "cell_type": "code",
   "execution_count": 46,
   "metadata": {},
   "outputs": [
    {
     "name": "stdout",
     "output_type": "stream",
     "text": [
      "time: 2.98 ms\n"
     ]
    }
   ],
   "source": [
    "individual_df['household_id'] = individual_df['serial_expanded'].map(lambda x: f'h_{x}')\n",
    "individual_df['new_district_id'] = individual_df['new_district_id'].map(lambda x: f'd_{x}')"
   ]
  },
  {
   "cell_type": "code",
   "execution_count": 47,
   "metadata": {},
   "outputs": [
    {
     "data": {
      "text/html": [
       "<div>\n",
       "<style scoped>\n",
       "    .dataframe tbody tr th:only-of-type {\n",
       "        vertical-align: middle;\n",
       "    }\n",
       "\n",
       "    .dataframe tbody tr th {\n",
       "        vertical-align: top;\n",
       "    }\n",
       "\n",
       "    .dataframe thead th {\n",
       "        text-align: right;\n",
       "    }\n",
       "</style>\n",
       "<table border=\"1\" class=\"dataframe\">\n",
       "  <thead>\n",
       "    <tr style=\"text-align: right;\">\n",
       "      <th></th>\n",
       "      <th>serial</th>\n",
       "      <th>persons</th>\n",
       "      <th>strata</th>\n",
       "      <th>gq</th>\n",
       "      <th>urban</th>\n",
       "      <th>hhtype</th>\n",
       "      <th>nfams</th>\n",
       "      <th>pernum</th>\n",
       "      <th>famunit</th>\n",
       "      <th>famsize</th>\n",
       "      <th>...</th>\n",
       "      <th>SchoolLevel</th>\n",
       "      <th>Grant_Class</th>\n",
       "      <th>Ed_dist</th>\n",
       "      <th>Type</th>\n",
       "      <th>HotseatingIndicator</th>\n",
       "      <th>hotseating_session</th>\n",
       "      <th>phase</th>\n",
       "      <th>boardingschool</th>\n",
       "      <th>serial_expanded</th>\n",
       "      <th>household_id</th>\n",
       "    </tr>\n",
       "  </thead>\n",
       "  <tbody>\n",
       "    <tr>\n",
       "      <th>0</th>\n",
       "      <td>4718000</td>\n",
       "      <td>5</td>\n",
       "      <td>6994</td>\n",
       "      <td>households</td>\n",
       "      <td>urban</td>\n",
       "      <td>married/cohab couple with children</td>\n",
       "      <td>1 family</td>\n",
       "      <td>3</td>\n",
       "      <td>1</td>\n",
       "      <td>5</td>\n",
       "      <td>...</td>\n",
       "      <td>Secondary</td>\n",
       "      <td>S2</td>\n",
       "      <td>Bulawayo</td>\n",
       "      <td>Government</td>\n",
       "      <td>1.0</td>\n",
       "      <td>Morning</td>\n",
       "      <td>3.0</td>\n",
       "      <td>Not Boarding School</td>\n",
       "      <td>471800018</td>\n",
       "      <td>h_471800018</td>\n",
       "    </tr>\n",
       "  </tbody>\n",
       "</table>\n",
       "<p>1 rows × 61 columns</p>\n",
       "</div>"
      ],
      "text/plain": [
       "    serial  persons  strata          gq  urban  \\\n",
       "0  4718000        5    6994  households  urban   \n",
       "\n",
       "                               hhtype     nfams  pernum  famunit famsize  ...  \\\n",
       "0  married/cohab couple with children  1 family       3        1       5  ...   \n",
       "\n",
       "  SchoolLevel Grant_Class   Ed_dist        Type HotseatingIndicator  \\\n",
       "0   Secondary          S2  Bulawayo  Government                 1.0   \n",
       "\n",
       "  hotseating_session phase       boardingschool serial_expanded household_id  \n",
       "0            Morning   3.0  Not Boarding School       471800018  h_471800018  \n",
       "\n",
       "[1 rows x 61 columns]"
      ]
     },
     "execution_count": 47,
     "metadata": {},
     "output_type": "execute_result"
    },
    {
     "name": "stdout",
     "output_type": "stream",
     "text": [
      "time: 34.9 ms\n"
     ]
    }
   ],
   "source": [
    "expanded_individual_df = individual_df.copy()\n",
    "expanded_individual_df.head(1)"
   ]
  },
  {
   "cell_type": "code",
   "execution_count": 48,
   "metadata": {},
   "outputs": [
    {
     "data": {
      "text/plain": [
       "0.0        35\n",
       "Morning     7\n",
       "Evening     3\n",
       "Name: hotseating_session, dtype: int64"
      ]
     },
     "execution_count": 48,
     "metadata": {},
     "output_type": "execute_result"
    },
    {
     "name": "stdout",
     "output_type": "stream",
     "text": [
      "time: 11.6 ms\n"
     ]
    }
   ],
   "source": [
    "individual_df['hotseating_session'].value_counts()"
   ]
  },
  {
   "cell_type": "code",
   "execution_count": 49,
   "metadata": {},
   "outputs": [
    {
     "name": "stdout",
     "output_type": "stream",
     "text": [
      "time: 2.12 ms\n"
     ]
    }
   ],
   "source": [
    "expanded_individual_df['school_goers'] = 1 * (expanded_individual_df['school_goers'] != 0)"
   ]
  },
  {
   "cell_type": "code",
   "execution_count": 50,
   "metadata": {},
   "outputs": [
    {
     "data": {
      "text/plain": [
       "(1.0, 1.0)"
      ]
     },
     "execution_count": 50,
     "metadata": {},
     "output_type": "execute_result"
    },
    {
     "name": "stdout",
     "output_type": "stream",
     "text": [
      "time: 12.9 ms\n"
     ]
    }
   ],
   "source": [
    "(expanded_individual_df.groupby('serial_expanded')['sex'].count().mean(), \n",
    "expanded_individual_df.shape[0] / expanded_individual_df['serial_expanded'].nunique())"
   ]
  },
  {
   "cell_type": "code",
   "execution_count": 51,
   "metadata": {},
   "outputs": [
    {
     "data": {
      "text/plain": [
       "45"
      ]
     },
     "execution_count": 51,
     "metadata": {},
     "output_type": "execute_result"
    },
    {
     "name": "stdout",
     "output_type": "stream",
     "text": [
      "time: 2.79 ms\n"
     ]
    }
   ],
   "source": [
    "(expanded_individual_df['school_goers'] == 1).sum()"
   ]
  },
  {
   "cell_type": "markdown",
   "metadata": {},
   "source": [
    "# Data consolidation"
   ]
  },
  {
   "cell_type": "code",
   "execution_count": 52,
   "metadata": {},
   "outputs": [
    {
     "name": "stdout",
     "output_type": "stream",
     "text": [
      "time: 411 µs\n"
     ]
    }
   ],
   "source": [
    "relevant_cols = [\n",
    "    'person_id', 'age', 'sex',\n",
    "    'household_id', 'district_id',\n",
    "    'economic_status', 'economic_activity_location_id',\n",
    "    # 'school_id_district', \n",
    "    'school_goers',\n",
    "    'manufacturing_workers',\n",
    "    'school_id',\n",
    "    'hotseating_session', \n",
    "    'phase',\n",
    "    'boardingschool'\n",
    "    # 'mining_district_id'\n",
    "    # 'household', 'district'\n",
    "]"
   ]
  },
  {
   "cell_type": "code",
   "execution_count": 53,
   "metadata": {},
   "outputs": [
    {
     "name": "stdout",
     "output_type": "stream",
     "text": [
      "time: 39.6 ms\n"
     ]
    }
   ],
   "source": [
    "consolidated_df = expanded_individual_df.copy()\n",
    "\n",
    "p = consolidated_df['economic_status']\n",
    "\n",
    "consolidated_df.loc[p == 'Disabled and not working', 'economic_activity_location_id'] = consolidated_df.loc[p == 'Disabled and not working', 'household_id']\n",
    "consolidated_df.loc[p != 'Disabled and not working', 'economic_activity_location_id'] = consolidated_df.loc[p != 'Disabled and not working', 'new_district_id']\n",
    "\n",
    "try:\n",
    "    consolidated_df.drop('person_id', axis=1, inplace=True)\n",
    "except KeyError:\n",
    "    pass\n",
    "\n",
    "consolidated_df['person_id'] = consolidated_df.index\n",
    "consolidated_df['age'] = consolidated_df['age'].astype(int)\n",
    "consolidated_df['economic_status'] = consolidated_df['economic_status'].str.strip()\n",
    "\n",
    "consolidated_df.rename(columns={'district_id': 'old_district_id1'}, inplace=True) # added 30th Nov (Sophie, Anne, Sarah)\n",
    "\n",
    "consolidated_df['school_id'] = consolidated_df['Schoolnumber'].fillna(-1).astype(int).map(lambda x: f's_{x}')  # if x != -1 else '')\n",
    "consolidated_df['district_id'] = consolidated_df['new_district_id']"
   ]
  },
  {
   "cell_type": "code",
   "execution_count": 54,
   "metadata": {},
   "outputs": [
    {
     "name": "stdout",
     "output_type": "stream",
     "text": [
      "***FLAG***/Users/sophieayling/Documents/GitHub/covid19-agent-based-model\n",
      "time: 16 ms\n"
     ]
    }
   ],
   "source": [
    "consolidated_df[relevant_cols].to_pickle(\n",
    "    get_data_dir('preprocessed', 'census', 'zimbabwe_expanded_census_consolidated_100pct.pickle'))"
   ]
  },
  {
   "cell_type": "code",
   "execution_count": 55,
   "metadata": {},
   "outputs": [
    {
     "data": {
      "text/html": [
       "<div>\n",
       "<style scoped>\n",
       "    .dataframe tbody tr th:only-of-type {\n",
       "        vertical-align: middle;\n",
       "    }\n",
       "\n",
       "    .dataframe tbody tr th {\n",
       "        vertical-align: top;\n",
       "    }\n",
       "\n",
       "    .dataframe thead th {\n",
       "        text-align: right;\n",
       "    }\n",
       "</style>\n",
       "<table border=\"1\" class=\"dataframe\">\n",
       "  <thead>\n",
       "    <tr style=\"text-align: right;\">\n",
       "      <th></th>\n",
       "      <th>person_id</th>\n",
       "      <th>age</th>\n",
       "      <th>sex</th>\n",
       "      <th>household_id</th>\n",
       "      <th>district_id</th>\n",
       "      <th>economic_status</th>\n",
       "      <th>economic_activity_location_id</th>\n",
       "      <th>school_goers</th>\n",
       "      <th>manufacturing_workers</th>\n",
       "      <th>school_id</th>\n",
       "      <th>hotseating_session</th>\n",
       "      <th>phase</th>\n",
       "      <th>boardingschool</th>\n",
       "    </tr>\n",
       "  </thead>\n",
       "  <tbody>\n",
       "    <tr>\n",
       "      <th>0</th>\n",
       "      <td>0</td>\n",
       "      <td>14</td>\n",
       "      <td>male</td>\n",
       "      <td>h_471800018</td>\n",
       "      <td>d_1</td>\n",
       "      <td>In School</td>\n",
       "      <td>d_1</td>\n",
       "      <td>1</td>\n",
       "      <td>0.0</td>\n",
       "      <td>s_12641</td>\n",
       "      <td>Morning</td>\n",
       "      <td>3.0</td>\n",
       "      <td>Not Boarding School</td>\n",
       "    </tr>\n",
       "    <tr>\n",
       "      <th>1</th>\n",
       "      <td>1</td>\n",
       "      <td>4</td>\n",
       "      <td>male</td>\n",
       "      <td>h_667100009</td>\n",
       "      <td>d_1</td>\n",
       "      <td>Not working, inactive, not in universe</td>\n",
       "      <td>d_1</td>\n",
       "      <td>0</td>\n",
       "      <td>0.0</td>\n",
       "      <td>s_-1</td>\n",
       "      <td>NaN</td>\n",
       "      <td>0.0</td>\n",
       "      <td>NaN</td>\n",
       "    </tr>\n",
       "    <tr>\n",
       "      <th>2</th>\n",
       "      <td>2</td>\n",
       "      <td>35</td>\n",
       "      <td>male</td>\n",
       "      <td>h_113600005</td>\n",
       "      <td>d_1</td>\n",
       "      <td>Not working, inactive, not in universe</td>\n",
       "      <td>d_1</td>\n",
       "      <td>0</td>\n",
       "      <td>0.0</td>\n",
       "      <td>s_-1</td>\n",
       "      <td>NaN</td>\n",
       "      <td>0.0</td>\n",
       "      <td>NaN</td>\n",
       "    </tr>\n",
       "    <tr>\n",
       "      <th>3</th>\n",
       "      <td>3</td>\n",
       "      <td>0</td>\n",
       "      <td>female</td>\n",
       "      <td>h_217800002</td>\n",
       "      <td>d_1</td>\n",
       "      <td>Not working, inactive, not in universe</td>\n",
       "      <td>d_1</td>\n",
       "      <td>0</td>\n",
       "      <td>0.0</td>\n",
       "      <td>s_-1</td>\n",
       "      <td>NaN</td>\n",
       "      <td>0.0</td>\n",
       "      <td>NaN</td>\n",
       "    </tr>\n",
       "    <tr>\n",
       "      <th>4</th>\n",
       "      <td>4</td>\n",
       "      <td>16</td>\n",
       "      <td>female</td>\n",
       "      <td>h_299800010</td>\n",
       "      <td>d_1</td>\n",
       "      <td>In School</td>\n",
       "      <td>d_1</td>\n",
       "      <td>1</td>\n",
       "      <td>0.0</td>\n",
       "      <td>s_12640</td>\n",
       "      <td>0</td>\n",
       "      <td>2.0</td>\n",
       "      <td>Not Boarding School</td>\n",
       "    </tr>\n",
       "  </tbody>\n",
       "</table>\n",
       "</div>"
      ],
      "text/plain": [
       "   person_id  age     sex household_id district_id  \\\n",
       "0          0   14    male  h_471800018         d_1   \n",
       "1          1    4    male  h_667100009         d_1   \n",
       "2          2   35    male  h_113600005         d_1   \n",
       "3          3    0  female  h_217800002         d_1   \n",
       "4          4   16  female  h_299800010         d_1   \n",
       "\n",
       "                          economic_status economic_activity_location_id  \\\n",
       "0                               In School                           d_1   \n",
       "1  Not working, inactive, not in universe                           d_1   \n",
       "2  Not working, inactive, not in universe                           d_1   \n",
       "3  Not working, inactive, not in universe                           d_1   \n",
       "4                               In School                           d_1   \n",
       "\n",
       "   school_goers  manufacturing_workers school_id hotseating_session  phase  \\\n",
       "0             1                    0.0   s_12641            Morning    3.0   \n",
       "1             0                    0.0      s_-1                NaN    0.0   \n",
       "2             0                    0.0      s_-1                NaN    0.0   \n",
       "3             0                    0.0      s_-1                NaN    0.0   \n",
       "4             1                    0.0   s_12640                  0    2.0   \n",
       "\n",
       "        boardingschool  \n",
       "0  Not Boarding School  \n",
       "1                  NaN  \n",
       "2                  NaN  \n",
       "3                  NaN  \n",
       "4  Not Boarding School  "
      ]
     },
     "execution_count": 55,
     "metadata": {},
     "output_type": "execute_result"
    },
    {
     "name": "stdout",
     "output_type": "stream",
     "text": [
      "time: 19.3 ms\n"
     ]
    }
   ],
   "source": [
    "consolidated_df[relevant_cols].head()"
   ]
  },
  {
   "cell_type": "code",
   "execution_count": 56,
   "metadata": {},
   "outputs": [
    {
     "data": {
      "text/html": [
       "<div>\n",
       "<style scoped>\n",
       "    .dataframe tbody tr th:only-of-type {\n",
       "        vertical-align: middle;\n",
       "    }\n",
       "\n",
       "    .dataframe tbody tr th {\n",
       "        vertical-align: top;\n",
       "    }\n",
       "\n",
       "    .dataframe thead th {\n",
       "        text-align: right;\n",
       "    }\n",
       "</style>\n",
       "<table border=\"1\" class=\"dataframe\">\n",
       "  <thead>\n",
       "    <tr style=\"text-align: right;\">\n",
       "      <th></th>\n",
       "      <th>person_id</th>\n",
       "      <th>age</th>\n",
       "      <th>sex</th>\n",
       "      <th>household_id</th>\n",
       "      <th>district_id</th>\n",
       "      <th>economic_status</th>\n",
       "      <th>economic_activity_location_id</th>\n",
       "      <th>school_goers</th>\n",
       "      <th>manufacturing_workers</th>\n",
       "      <th>school_id</th>\n",
       "      <th>hotseating_session</th>\n",
       "      <th>phase</th>\n",
       "      <th>boardingschool</th>\n",
       "    </tr>\n",
       "  </thead>\n",
       "  <tbody>\n",
       "    <tr>\n",
       "      <th>24</th>\n",
       "      <td>24</td>\n",
       "      <td>17</td>\n",
       "      <td>male</td>\n",
       "      <td>h_14033200009</td>\n",
       "      <td>d_2</td>\n",
       "      <td>In School</td>\n",
       "      <td>d_2</td>\n",
       "      <td>1</td>\n",
       "      <td>0.0</td>\n",
       "      <td>s_1306</td>\n",
       "      <td>0</td>\n",
       "      <td>1.0</td>\n",
       "      <td>Not Boarding School</td>\n",
       "    </tr>\n",
       "    <tr>\n",
       "      <th>78</th>\n",
       "      <td>78</td>\n",
       "      <td>17</td>\n",
       "      <td>male</td>\n",
       "      <td>h_4753900017</td>\n",
       "      <td>d_25</td>\n",
       "      <td>In School</td>\n",
       "      <td>d_25</td>\n",
       "      <td>1</td>\n",
       "      <td>0.0</td>\n",
       "      <td>s_6029</td>\n",
       "      <td>0</td>\n",
       "      <td>1.0</td>\n",
       "      <td>Day and Boarding</td>\n",
       "    </tr>\n",
       "    <tr>\n",
       "      <th>79</th>\n",
       "      <td>79</td>\n",
       "      <td>13</td>\n",
       "      <td>male</td>\n",
       "      <td>h_5976300010</td>\n",
       "      <td>d_26</td>\n",
       "      <td>In School</td>\n",
       "      <td>d_26</td>\n",
       "      <td>1</td>\n",
       "      <td>0.0</td>\n",
       "      <td>s_8429</td>\n",
       "      <td>Morning</td>\n",
       "      <td>1.0</td>\n",
       "      <td>Not Boarding School</td>\n",
       "    </tr>\n",
       "    <tr>\n",
       "      <th>139</th>\n",
       "      <td>139</td>\n",
       "      <td>17</td>\n",
       "      <td>male</td>\n",
       "      <td>h_10971600011</td>\n",
       "      <td>d_56</td>\n",
       "      <td>In School</td>\n",
       "      <td>d_56</td>\n",
       "      <td>1</td>\n",
       "      <td>0.0</td>\n",
       "      <td>s_16771</td>\n",
       "      <td>Morning</td>\n",
       "      <td>1.0</td>\n",
       "      <td>Not Boarding School</td>\n",
       "    </tr>\n",
       "    <tr>\n",
       "      <th>144</th>\n",
       "      <td>144</td>\n",
       "      <td>17</td>\n",
       "      <td>female</td>\n",
       "      <td>h_11037000013</td>\n",
       "      <td>d_57</td>\n",
       "      <td>In School</td>\n",
       "      <td>d_57</td>\n",
       "      <td>1</td>\n",
       "      <td>0.0</td>\n",
       "      <td>s_16214</td>\n",
       "      <td>0</td>\n",
       "      <td>1.0</td>\n",
       "      <td>Not Boarding School</td>\n",
       "    </tr>\n",
       "  </tbody>\n",
       "</table>\n",
       "</div>"
      ],
      "text/plain": [
       "     person_id  age     sex   household_id district_id economic_status  \\\n",
       "24          24   17    male  h_14033200009         d_2       In School   \n",
       "78          78   17    male   h_4753900017        d_25       In School   \n",
       "79          79   13    male   h_5976300010        d_26       In School   \n",
       "139        139   17    male  h_10971600011        d_56       In School   \n",
       "144        144   17  female  h_11037000013        d_57       In School   \n",
       "\n",
       "    economic_activity_location_id  school_goers  manufacturing_workers  \\\n",
       "24                            d_2             1                    0.0   \n",
       "78                           d_25             1                    0.0   \n",
       "79                           d_26             1                    0.0   \n",
       "139                          d_56             1                    0.0   \n",
       "144                          d_57             1                    0.0   \n",
       "\n",
       "    school_id hotseating_session  phase       boardingschool  \n",
       "24     s_1306                  0    1.0  Not Boarding School  \n",
       "78     s_6029                  0    1.0     Day and Boarding  \n",
       "79     s_8429            Morning    1.0  Not Boarding School  \n",
       "139   s_16771            Morning    1.0  Not Boarding School  \n",
       "144   s_16214                  0    1.0  Not Boarding School  "
      ]
     },
     "execution_count": 56,
     "metadata": {},
     "output_type": "execute_result"
    },
    {
     "name": "stdout",
     "output_type": "stream",
     "text": [
      "time: 23.3 ms\n"
     ]
    }
   ],
   "source": [
    "consolidated_df[relevant_cols][consolidated_df[relevant_cols][\"phase\"] == 1].head()"
   ]
  },
  {
   "cell_type": "code",
   "execution_count": 57,
   "metadata": {},
   "outputs": [
    {
     "data": {
      "text/plain": [
       "0      s_12641\n",
       "1         s_-1\n",
       "2         s_-1\n",
       "3         s_-1\n",
       "4      s_12640\n",
       "        ...   \n",
       "144    s_16214\n",
       "145    s_16759\n",
       "146    s_16180\n",
       "147    s_16738\n",
       "148    s_16889\n",
       "Name: school_id, Length: 149, dtype: object"
      ]
     },
     "execution_count": 57,
     "metadata": {},
     "output_type": "execute_result"
    },
    {
     "name": "stdout",
     "output_type": "stream",
     "text": [
      "time: 10.5 ms\n"
     ]
    }
   ],
   "source": [
    "consolidated_df[consolidated_df['school_id'] != '']['school_id']"
   ]
  },
  {
   "cell_type": "code",
   "execution_count": 58,
   "metadata": {},
   "outputs": [
    {
     "data": {
      "text/plain": [
       "array(['s_12641', 's_-1', 's_12640', 's_1024', 's_1192', 's_1306',\n",
       "       's_1116', 's_1226', 's_2413', 's_2541', 's_2550', 's_2987',\n",
       "       's_2954', 's_2223', 's_2878', 's_4201', 's_6931', 's_6281',\n",
       "       's_6145', 's_6393', 's_6261', 's_6623', 's_7066', 's_6029',\n",
       "       's_8429', 's_8408', 's_8669', 's_10701', 's_10235', 's_11105',\n",
       "       's_12432', 's_12447', 's_12600', 's_14529', 's_14655', 's_14385',\n",
       "       's_17110', 's_16771', 's_17040', 's_16810', 's_16603', 's_16214',\n",
       "       's_16759', 's_16180', 's_16738', 's_16889'], dtype=object)"
      ]
     },
     "execution_count": 58,
     "metadata": {},
     "output_type": "execute_result"
    },
    {
     "name": "stdout",
     "output_type": "stream",
     "text": [
      "time: 3.51 ms\n"
     ]
    }
   ],
   "source": [
    "consolidated_df.loc[consolidated_df['school_id'] != '', 'school_id'].unique()"
   ]
  },
  {
   "cell_type": "code",
   "execution_count": 59,
   "metadata": {},
   "outputs": [
    {
     "data": {
      "text/html": [
       "<div>\n",
       "<style scoped>\n",
       "    .dataframe tbody tr th:only-of-type {\n",
       "        vertical-align: middle;\n",
       "    }\n",
       "\n",
       "    .dataframe tbody tr th {\n",
       "        vertical-align: top;\n",
       "    }\n",
       "\n",
       "    .dataframe thead th {\n",
       "        text-align: right;\n",
       "    }\n",
       "</style>\n",
       "<table border=\"1\" class=\"dataframe\">\n",
       "  <thead>\n",
       "    <tr style=\"text-align: right;\">\n",
       "      <th></th>\n",
       "      <th>person_id</th>\n",
       "      <th>age</th>\n",
       "      <th>sex</th>\n",
       "      <th>household_id</th>\n",
       "      <th>district_id</th>\n",
       "      <th>economic_status</th>\n",
       "      <th>economic_activity_location_id</th>\n",
       "      <th>school_goers</th>\n",
       "      <th>manufacturing_workers</th>\n",
       "      <th>school_id</th>\n",
       "      <th>hotseating_session</th>\n",
       "      <th>phase</th>\n",
       "      <th>boardingschool</th>\n",
       "    </tr>\n",
       "  </thead>\n",
       "  <tbody>\n",
       "    <tr>\n",
       "      <th>0</th>\n",
       "      <td>0</td>\n",
       "      <td>14</td>\n",
       "      <td>male</td>\n",
       "      <td>h_471800018</td>\n",
       "      <td>d_1</td>\n",
       "      <td>In School</td>\n",
       "      <td>d_1</td>\n",
       "      <td>1</td>\n",
       "      <td>0.0</td>\n",
       "      <td>s_12641</td>\n",
       "      <td>Morning</td>\n",
       "      <td>3.0</td>\n",
       "      <td>Not Boarding School</td>\n",
       "    </tr>\n",
       "    <tr>\n",
       "      <th>1</th>\n",
       "      <td>1</td>\n",
       "      <td>4</td>\n",
       "      <td>male</td>\n",
       "      <td>h_667100009</td>\n",
       "      <td>d_1</td>\n",
       "      <td>Not working, inactive, not in universe</td>\n",
       "      <td>d_1</td>\n",
       "      <td>0</td>\n",
       "      <td>0.0</td>\n",
       "      <td>s_-1</td>\n",
       "      <td>NaN</td>\n",
       "      <td>0.0</td>\n",
       "      <td>NaN</td>\n",
       "    </tr>\n",
       "    <tr>\n",
       "      <th>2</th>\n",
       "      <td>2</td>\n",
       "      <td>35</td>\n",
       "      <td>male</td>\n",
       "      <td>h_113600005</td>\n",
       "      <td>d_1</td>\n",
       "      <td>Not working, inactive, not in universe</td>\n",
       "      <td>d_1</td>\n",
       "      <td>0</td>\n",
       "      <td>0.0</td>\n",
       "      <td>s_-1</td>\n",
       "      <td>NaN</td>\n",
       "      <td>0.0</td>\n",
       "      <td>NaN</td>\n",
       "    </tr>\n",
       "    <tr>\n",
       "      <th>3</th>\n",
       "      <td>3</td>\n",
       "      <td>0</td>\n",
       "      <td>female</td>\n",
       "      <td>h_217800002</td>\n",
       "      <td>d_1</td>\n",
       "      <td>Not working, inactive, not in universe</td>\n",
       "      <td>d_1</td>\n",
       "      <td>0</td>\n",
       "      <td>0.0</td>\n",
       "      <td>s_-1</td>\n",
       "      <td>NaN</td>\n",
       "      <td>0.0</td>\n",
       "      <td>NaN</td>\n",
       "    </tr>\n",
       "    <tr>\n",
       "      <th>4</th>\n",
       "      <td>4</td>\n",
       "      <td>16</td>\n",
       "      <td>female</td>\n",
       "      <td>h_299800010</td>\n",
       "      <td>d_1</td>\n",
       "      <td>In School</td>\n",
       "      <td>d_1</td>\n",
       "      <td>1</td>\n",
       "      <td>0.0</td>\n",
       "      <td>s_12640</td>\n",
       "      <td>0</td>\n",
       "      <td>2.0</td>\n",
       "      <td>Not Boarding School</td>\n",
       "    </tr>\n",
       "  </tbody>\n",
       "</table>\n",
       "</div>"
      ],
      "text/plain": [
       "   person_id  age     sex household_id district_id  \\\n",
       "0          0   14    male  h_471800018         d_1   \n",
       "1          1    4    male  h_667100009         d_1   \n",
       "2          2   35    male  h_113600005         d_1   \n",
       "3          3    0  female  h_217800002         d_1   \n",
       "4          4   16  female  h_299800010         d_1   \n",
       "\n",
       "                          economic_status economic_activity_location_id  \\\n",
       "0                               In School                           d_1   \n",
       "1  Not working, inactive, not in universe                           d_1   \n",
       "2  Not working, inactive, not in universe                           d_1   \n",
       "3  Not working, inactive, not in universe                           d_1   \n",
       "4                               In School                           d_1   \n",
       "\n",
       "   school_goers  manufacturing_workers school_id hotseating_session  phase  \\\n",
       "0             1                    0.0   s_12641            Morning    3.0   \n",
       "1             0                    0.0      s_-1                NaN    0.0   \n",
       "2             0                    0.0      s_-1                NaN    0.0   \n",
       "3             0                    0.0      s_-1                NaN    0.0   \n",
       "4             1                    0.0   s_12640                  0    2.0   \n",
       "\n",
       "        boardingschool  \n",
       "0  Not Boarding School  \n",
       "1                  NaN  \n",
       "2                  NaN  \n",
       "3                  NaN  \n",
       "4  Not Boarding School  "
      ]
     },
     "execution_count": 59,
     "metadata": {},
     "output_type": "execute_result"
    },
    {
     "name": "stdout",
     "output_type": "stream",
     "text": [
      "time: 19.2 ms\n"
     ]
    }
   ],
   "source": [
    "consolidated_df[relevant_cols].head()"
   ]
  },
  {
   "cell_type": "code",
   "execution_count": 60,
   "metadata": {},
   "outputs": [
    {
     "data": {
      "text/plain": [
       "count    149.000000\n",
       "mean       0.234899\n",
       "std        0.425366\n",
       "min        0.000000\n",
       "25%        0.000000\n",
       "50%        0.000000\n",
       "75%        0.000000\n",
       "max        1.000000\n",
       "Name: mining_districts, dtype: float64"
      ]
     },
     "execution_count": 60,
     "metadata": {},
     "output_type": "execute_result"
    },
    {
     "name": "stdout",
     "output_type": "stream",
     "text": [
      "time: 13.9 ms\n"
     ]
    }
   ],
   "source": [
    "individual_df['mining_districts'].describe()"
   ]
  },
  {
   "cell_type": "code",
   "execution_count": 61,
   "metadata": {},
   "outputs": [
    {
     "name": "stdout",
     "output_type": "stream",
     "text": [
      "Index(['manufacturing_workers'], dtype='object')\n",
      "Index(['mining_workers', 'mining_districts'], dtype='object')\n",
      "time: 1.84 ms\n"
     ]
    }
   ],
   "source": [
    "print(individual_df.columns[individual_df.columns.str.contains('manufacturing')])\n",
    "print(individual_df.columns[individual_df.columns.str.contains('mining')])"
   ]
  },
  {
   "cell_type": "markdown",
   "metadata": {},
   "source": [
    "# Contingent on available data"
   ]
  },
  {
   "cell_type": "code",
   "execution_count": 62,
   "metadata": {},
   "outputs": [
    {
     "ename": "KeyError",
     "evalue": "'mining_district_id'",
     "output_type": "error",
     "traceback": [
      "\u001b[0;31m---------------------------------------------------------------------------\u001b[0m",
      "\u001b[0;31mKeyError\u001b[0m                                  Traceback (most recent call last)",
      "\u001b[0;32m/opt/anaconda3/envs/covid19_abm/lib/python3.8/site-packages/pandas/core/indexes/base.py\u001b[0m in \u001b[0;36mget_loc\u001b[0;34m(self, key, method, tolerance)\u001b[0m\n\u001b[1;32m   2894\u001b[0m             \u001b[0;32mtry\u001b[0m\u001b[0;34m:\u001b[0m\u001b[0;34m\u001b[0m\u001b[0;34m\u001b[0m\u001b[0m\n\u001b[0;32m-> 2895\u001b[0;31m                 \u001b[0;32mreturn\u001b[0m \u001b[0mself\u001b[0m\u001b[0;34m.\u001b[0m\u001b[0m_engine\u001b[0m\u001b[0;34m.\u001b[0m\u001b[0mget_loc\u001b[0m\u001b[0;34m(\u001b[0m\u001b[0mcasted_key\u001b[0m\u001b[0;34m)\u001b[0m\u001b[0;34m\u001b[0m\u001b[0;34m\u001b[0m\u001b[0m\n\u001b[0m\u001b[1;32m   2896\u001b[0m             \u001b[0;32mexcept\u001b[0m \u001b[0mKeyError\u001b[0m \u001b[0;32mas\u001b[0m \u001b[0merr\u001b[0m\u001b[0;34m:\u001b[0m\u001b[0;34m\u001b[0m\u001b[0;34m\u001b[0m\u001b[0m\n",
      "\u001b[0;32mpandas/_libs/index.pyx\u001b[0m in \u001b[0;36mpandas._libs.index.IndexEngine.get_loc\u001b[0;34m()\u001b[0m\n",
      "\u001b[0;32mpandas/_libs/index.pyx\u001b[0m in \u001b[0;36mpandas._libs.index.IndexEngine.get_loc\u001b[0;34m()\u001b[0m\n",
      "\u001b[0;32mpandas/_libs/hashtable_class_helper.pxi\u001b[0m in \u001b[0;36mpandas._libs.hashtable.PyObjectHashTable.get_item\u001b[0;34m()\u001b[0m\n",
      "\u001b[0;32mpandas/_libs/hashtable_class_helper.pxi\u001b[0m in \u001b[0;36mpandas._libs.hashtable.PyObjectHashTable.get_item\u001b[0;34m()\u001b[0m\n",
      "\u001b[0;31mKeyError\u001b[0m: 'mining_district_id'",
      "\nThe above exception was the direct cause of the following exception:\n",
      "\u001b[0;31mKeyError\u001b[0m                                  Traceback (most recent call last)",
      "\u001b[0;32m<ipython-input-62-5050cd88b104>\u001b[0m in \u001b[0;36m<module>\u001b[0;34m\u001b[0m\n\u001b[1;32m      1\u001b[0m \u001b[0;31m# consolidated_df['serial_expanded'] = consolidated_df['serial'].map(lambda x: f'{x}_01')\u001b[0m\u001b[0;34m\u001b[0m\u001b[0;34m\u001b[0m\u001b[0;34m\u001b[0m\u001b[0m\n\u001b[1;32m      2\u001b[0m \u001b[0;31m# consolidated_df['household_id'] = consolidated_df['serial_expanded'].map(lambda x: f'h_{x}')\u001b[0m\u001b[0;34m\u001b[0m\u001b[0;34m\u001b[0m\u001b[0;34m\u001b[0m\u001b[0m\n\u001b[0;32m----> 3\u001b[0;31m \u001b[0mconsolidated_df\u001b[0m\u001b[0;34m.\u001b[0m\u001b[0mloc\u001b[0m\u001b[0;34m[\u001b[0m\u001b[0mconsolidated_df\u001b[0m\u001b[0;34m[\u001b[0m\u001b[0;34m'mining_district_id'\u001b[0m\u001b[0;34m]\u001b[0m \u001b[0;34m!=\u001b[0m \u001b[0;34m''\u001b[0m\u001b[0;34m,\u001b[0m \u001b[0;34m'mining_district_id'\u001b[0m\u001b[0;34m]\u001b[0m \u001b[0;34m=\u001b[0m \u001b[0mconsolidated_df\u001b[0m\u001b[0;34m.\u001b[0m\u001b[0mloc\u001b[0m\u001b[0;34m[\u001b[0m\u001b[0mconsolidated_df\u001b[0m\u001b[0;34m[\u001b[0m\u001b[0;34m'mining_district_id'\u001b[0m\u001b[0;34m]\u001b[0m \u001b[0;34m!=\u001b[0m \u001b[0;34m''\u001b[0m\u001b[0;34m,\u001b[0m \u001b[0;34m'mining_district_id'\u001b[0m\u001b[0;34m]\u001b[0m\u001b[0;34m.\u001b[0m\u001b[0mmap\u001b[0m\u001b[0;34m(\u001b[0m\u001b[0;32mlambda\u001b[0m \u001b[0mx\u001b[0m\u001b[0;34m:\u001b[0m \u001b[0;34mf'mining_{x}'\u001b[0m\u001b[0;34m)\u001b[0m\u001b[0;34m\u001b[0m\u001b[0;34m\u001b[0m\u001b[0m\n\u001b[0m\u001b[1;32m      4\u001b[0m \u001b[0mconsolidated_df\u001b[0m\u001b[0;34m.\u001b[0m\u001b[0mloc\u001b[0m\u001b[0;34m[\u001b[0m\u001b[0mconsolidated_df\u001b[0m\u001b[0;34m[\u001b[0m\u001b[0;34m'school_id_district'\u001b[0m\u001b[0;34m]\u001b[0m \u001b[0;34m!=\u001b[0m \u001b[0;34m''\u001b[0m\u001b[0;34m,\u001b[0m \u001b[0;34m'school_id_district'\u001b[0m\u001b[0;34m]\u001b[0m \u001b[0;34m=\u001b[0m \u001b[0mconsolidated_df\u001b[0m\u001b[0;34m.\u001b[0m\u001b[0mloc\u001b[0m\u001b[0;34m[\u001b[0m\u001b[0mconsolidated_df\u001b[0m\u001b[0;34m[\u001b[0m\u001b[0;34m'school_id_district'\u001b[0m\u001b[0;34m]\u001b[0m \u001b[0;34m!=\u001b[0m \u001b[0;34m''\u001b[0m\u001b[0;34m,\u001b[0m \u001b[0;34m'school_id_district'\u001b[0m\u001b[0;34m]\u001b[0m\u001b[0;34m.\u001b[0m\u001b[0mmap\u001b[0m\u001b[0;34m(\u001b[0m\u001b[0;32mlambda\u001b[0m \u001b[0mx\u001b[0m\u001b[0;34m:\u001b[0m \u001b[0;34mf'school_{x}'\u001b[0m\u001b[0;34m)\u001b[0m\u001b[0;34m\u001b[0m\u001b[0;34m\u001b[0m\u001b[0m\n",
      "\u001b[0;32m/opt/anaconda3/envs/covid19_abm/lib/python3.8/site-packages/pandas/core/frame.py\u001b[0m in \u001b[0;36m__getitem__\u001b[0;34m(self, key)\u001b[0m\n\u001b[1;32m   2900\u001b[0m             \u001b[0;32mif\u001b[0m \u001b[0mself\u001b[0m\u001b[0;34m.\u001b[0m\u001b[0mcolumns\u001b[0m\u001b[0;34m.\u001b[0m\u001b[0mnlevels\u001b[0m \u001b[0;34m>\u001b[0m \u001b[0;36m1\u001b[0m\u001b[0;34m:\u001b[0m\u001b[0;34m\u001b[0m\u001b[0;34m\u001b[0m\u001b[0m\n\u001b[1;32m   2901\u001b[0m                 \u001b[0;32mreturn\u001b[0m \u001b[0mself\u001b[0m\u001b[0;34m.\u001b[0m\u001b[0m_getitem_multilevel\u001b[0m\u001b[0;34m(\u001b[0m\u001b[0mkey\u001b[0m\u001b[0;34m)\u001b[0m\u001b[0;34m\u001b[0m\u001b[0;34m\u001b[0m\u001b[0m\n\u001b[0;32m-> 2902\u001b[0;31m             \u001b[0mindexer\u001b[0m \u001b[0;34m=\u001b[0m \u001b[0mself\u001b[0m\u001b[0;34m.\u001b[0m\u001b[0mcolumns\u001b[0m\u001b[0;34m.\u001b[0m\u001b[0mget_loc\u001b[0m\u001b[0;34m(\u001b[0m\u001b[0mkey\u001b[0m\u001b[0;34m)\u001b[0m\u001b[0;34m\u001b[0m\u001b[0;34m\u001b[0m\u001b[0m\n\u001b[0m\u001b[1;32m   2903\u001b[0m             \u001b[0;32mif\u001b[0m \u001b[0mis_integer\u001b[0m\u001b[0;34m(\u001b[0m\u001b[0mindexer\u001b[0m\u001b[0;34m)\u001b[0m\u001b[0;34m:\u001b[0m\u001b[0;34m\u001b[0m\u001b[0;34m\u001b[0m\u001b[0m\n\u001b[1;32m   2904\u001b[0m                 \u001b[0mindexer\u001b[0m \u001b[0;34m=\u001b[0m \u001b[0;34m[\u001b[0m\u001b[0mindexer\u001b[0m\u001b[0;34m]\u001b[0m\u001b[0;34m\u001b[0m\u001b[0;34m\u001b[0m\u001b[0m\n",
      "\u001b[0;32m/opt/anaconda3/envs/covid19_abm/lib/python3.8/site-packages/pandas/core/indexes/base.py\u001b[0m in \u001b[0;36mget_loc\u001b[0;34m(self, key, method, tolerance)\u001b[0m\n\u001b[1;32m   2895\u001b[0m                 \u001b[0;32mreturn\u001b[0m \u001b[0mself\u001b[0m\u001b[0;34m.\u001b[0m\u001b[0m_engine\u001b[0m\u001b[0;34m.\u001b[0m\u001b[0mget_loc\u001b[0m\u001b[0;34m(\u001b[0m\u001b[0mcasted_key\u001b[0m\u001b[0;34m)\u001b[0m\u001b[0;34m\u001b[0m\u001b[0;34m\u001b[0m\u001b[0m\n\u001b[1;32m   2896\u001b[0m             \u001b[0;32mexcept\u001b[0m \u001b[0mKeyError\u001b[0m \u001b[0;32mas\u001b[0m \u001b[0merr\u001b[0m\u001b[0;34m:\u001b[0m\u001b[0;34m\u001b[0m\u001b[0;34m\u001b[0m\u001b[0m\n\u001b[0;32m-> 2897\u001b[0;31m                 \u001b[0;32mraise\u001b[0m \u001b[0mKeyError\u001b[0m\u001b[0;34m(\u001b[0m\u001b[0mkey\u001b[0m\u001b[0;34m)\u001b[0m \u001b[0;32mfrom\u001b[0m \u001b[0merr\u001b[0m\u001b[0;34m\u001b[0m\u001b[0;34m\u001b[0m\u001b[0m\n\u001b[0m\u001b[1;32m   2898\u001b[0m \u001b[0;34m\u001b[0m\u001b[0m\n\u001b[1;32m   2899\u001b[0m         \u001b[0;32mif\u001b[0m \u001b[0mtolerance\u001b[0m \u001b[0;32mis\u001b[0m \u001b[0;32mnot\u001b[0m \u001b[0;32mNone\u001b[0m\u001b[0;34m:\u001b[0m\u001b[0;34m\u001b[0m\u001b[0;34m\u001b[0m\u001b[0m\n",
      "\u001b[0;31mKeyError\u001b[0m: 'mining_district_id'"
     ]
    },
    {
     "name": "stdout",
     "output_type": "stream",
     "text": [
      "time: 36.8 ms\n"
     ]
    }
   ],
   "source": [
    "# consolidated_df['serial_expanded'] = consolidated_df['serial'].map(lambda x: f'{x}_01')\n",
    "# consolidated_df['household_id'] = consolidated_df['serial_expanded'].map(lambda x: f'h_{x}')\n",
    "consolidated_df.loc[consolidated_df['mining_district_id'] != '', 'mining_district_id'] = consolidated_df.loc[consolidated_df['mining_district_id'] != '', 'mining_district_id'].map(lambda x: f'mining_{x}')\n",
    "consolidated_df.loc[consolidated_df['school_id_district'] != '', 'school_id_district'] = consolidated_df.loc[consolidated_df['school_id_district'] != '', 'school_id_district'].map(lambda x: f'school_{x}')"
   ]
  },
  {
   "cell_type": "code",
   "execution_count": null,
   "metadata": {},
   "outputs": [],
   "source": [
    "consolidated_df.head()"
   ]
  },
  {
   "cell_type": "code",
   "execution_count": null,
   "metadata": {},
   "outputs": [],
   "source": [
    "p = consolidated_df['economic_status']\n",
    "\n",
    "consolidated_df.loc[p == 'Disabled and not working', 'economic_activity_location_id'] = consolidated_df.loc[p == 'Disabled and not working', 'household_id']\n",
    "consolidated_df.loc[p != 'Disabled and not working', 'economic_activity_location_id'] = consolidated_df.loc[p != 'Disabled and not working', 'new_district_id']"
   ]
  },
  {
   "cell_type": "code",
   "execution_count": null,
   "metadata": {},
   "outputs": [],
   "source": [
    "try:\n",
    "    consolidated_df.drop('person_id', axis=1, inplace=True)\n",
    "except KeyError:\n",
    "    pass\n",
    "\n",
    "consolidated_df['person_id'] = consolidated_df.index\n",
    "consolidated_df['age'] = consolidated_df['age'].astype(int)\n",
    "consolidated_df['economic_status'] = consolidated_df['economic_status'].str.strip()\n",
    "consolidated_df.rename(columns={'new_district_id': 'district_id'}, inplace=True)"
   ]
  },
  {
   "cell_type": "code",
   "execution_count": null,
   "metadata": {},
   "outputs": [],
   "source": []
  },
  {
   "cell_type": "code",
   "execution_count": null,
   "metadata": {},
   "outputs": [],
   "source": []
  },
  {
   "cell_type": "code",
   "execution_count": null,
   "metadata": {},
   "outputs": [],
   "source": [
    "consolidated_df[relevant_cols][\n",
    "    consolidated_df.serial_expanded.str.endswith('_01')\n",
    "].to_pickle('../../data/zimbabwe_ipums_mining_manufacturing_school_new_dist_5pct.pickle')"
   ]
  },
  {
   "cell_type": "code",
   "execution_count": null,
   "metadata": {},
   "outputs": [],
   "source": [
    "consolidated_df[relevant_cols][\n",
    "    consolidated_df.serial_expanded.str.endswith('_01') | consolidated_df.serial_expanded.str.endswith('_02')\n",
    "].to_pickle('../../data/zimbabwe_ipums_mining_manufacturing_school_new_dist_10pct.pickle')"
   ]
  },
  {
   "cell_type": "code",
   "execution_count": null,
   "metadata": {},
   "outputs": [],
   "source": [
    "consolidated_df.shape"
   ]
  },
  {
   "cell_type": "code",
   "execution_count": null,
   "metadata": {},
   "outputs": [],
   "source": [
    "import pandas as pd"
   ]
  },
  {
   "cell_type": "code",
   "execution_count": null,
   "metadata": {},
   "outputs": [],
   "source": [
    "consolidated_df = pd.read_pickle('../../data/zimbabwe_ipums_mining_manufacturing_school_new_dist_10pct.pickle')"
   ]
  },
  {
   "cell_type": "code",
   "execution_count": null,
   "metadata": {},
   "outputs": [],
   "source": [
    "consolidated_df[consolidated_df['school_id_district'] != '']['person_id']"
   ]
  },
  {
   "cell_type": "code",
   "execution_count": null,
   "metadata": {},
   "outputs": [],
   "source": []
  },
  {
   "cell_type": "markdown",
   "metadata": {},
   "source": [
    "# Expand to 10%"
   ]
  },
  {
   "cell_type": "code",
   "execution_count": null,
   "metadata": {},
   "outputs": [],
   "source": [
    "mining_df"
   ]
  },
  {
   "cell_type": "code",
   "execution_count": null,
   "metadata": {},
   "outputs": [],
   "source": []
  },
  {
   "cell_type": "markdown",
   "metadata": {},
   "source": [
    "# Scratch"
   ]
  },
  {
   "cell_type": "code",
   "execution_count": null,
   "metadata": {},
   "outputs": [],
   "source": [
    "mining_df[~mining_df['household_id'].str.startswith('h_')]['person_id'].values"
   ]
  },
  {
   "cell_type": "code",
   "execution_count": null,
   "metadata": {},
   "outputs": [],
   "source": [
    "mining_df[mining_df.manufacturing_workers.notnull()].person_id"
   ]
  },
  {
   "cell_type": "code",
   "execution_count": null,
   "metadata": {},
   "outputs": [],
   "source": [
    "mining_df[mining_df['manufacturing_workers'].notnull()]['person_id'].values"
   ]
  },
  {
   "cell_type": "code",
   "execution_count": null,
   "metadata": {},
   "outputs": [],
   "source": [
    "mining_df[mining_df['school_id_district'] != '']['person_id'].values"
   ]
  },
  {
   "cell_type": "code",
   "execution_count": null,
   "metadata": {},
   "outputs": [],
   "source": [
    "mining_df['school_id_district'].shape"
   ]
  },
  {
   "cell_type": "code",
   "execution_count": null,
   "metadata": {},
   "outputs": [],
   "source": []
  }
 ],
 "metadata": {
  "kernelspec": {
   "display_name": "Python 3",
   "language": "python",
   "name": "python3"
  },
  "language_info": {
   "codemirror_mode": {
    "name": "ipython",
    "version": 3
   },
   "file_extension": ".py",
   "mimetype": "text/x-python",
   "name": "python",
   "nbconvert_exporter": "python",
   "pygments_lexer": "ipython3",
   "version": "3.8.5"
  }
 },
 "nbformat": 4,
 "nbformat_minor": 4
}
