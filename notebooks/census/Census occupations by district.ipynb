{
 "cells": [
  {
   "cell_type": "code",
   "execution_count": 10,
   "id": "featured-spell",
   "metadata": {},
   "outputs": [],
   "source": [
    "import pandas as pd\n",
    "import numpy as np"
   ]
  },
  {
   "cell_type": "code",
   "execution_count": 11,
   "id": "composite-wallet",
   "metadata": {},
   "outputs": [],
   "source": [
    "path_import= '/Users/sophieayling/Library/CloudStorage/OneDrive-UniversityCollegeLondon/GitHub/Disease-Modelling-SSA/data/raw/census/'\n"
   ]
  },
  {
   "cell_type": "code",
   "execution_count": 12,
   "id": "checked-eleven",
   "metadata": {},
   "outputs": [],
   "source": [
    "census = pd.read_stata(path_import+'100_perc/abm_individual_new_092320_final_merged_complete_FINAL.dta')"
   ]
  },
  {
   "cell_type": "code",
   "execution_count": null,
   "id": "premium-insulin",
   "metadata": {},
   "outputs": [],
   "source": [
    "# Create an empty DataFrame to store the results\n",
    "combined_df = pd.DataFrame()\n",
    "\n",
    "# Set the maximum number of economic_status categories\n",
    "max_categories = 60\n",
    "\n",
    "# Loop over values 1-60\n",
    "for i in range(1, max_categories + 1):\n",
    "    # Filter DataFrame for each new_district_id\n",
    "    subset_df = census[census['new_district_id'] == i]\n",
    "    \n",
    "    # Create a new column in the combined DataFrame\n",
    "    combined_df[f'tab{i}'] = subset_df['economic_status'].value_counts()\n"
   ]
  }
 ],
 "metadata": {
  "kernelspec": {
   "display_name": "Python 3",
   "language": "python",
   "name": "python3"
  },
  "language_info": {
   "codemirror_mode": {
    "name": "ipython",
    "version": 3
   },
   "file_extension": ".py",
   "mimetype": "text/x-python",
   "name": "python",
   "nbconvert_exporter": "python",
   "pygments_lexer": "ipython3",
   "version": "3.8.5"
  }
 },
 "nbformat": 4,
 "nbformat_minor": 5
}
