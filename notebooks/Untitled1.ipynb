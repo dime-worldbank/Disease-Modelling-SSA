{
 "cells": [
  {
   "cell_type": "code",
   "execution_count": null,
   "id": "1f9b1e8f-39db-4d59-afba-e87fa85f2880",
   "metadata": {},
   "outputs": [],
   "source": [
    "import pandas as plt\n",
    "\n",
    "import numpy as np\n",
    "# import the data\n",
    "data = pd.read_csv(\"/Users/robbiework/eclipse-workspace/Disease-Modelling-SSA/data/verification/\"\n",
    "                   \"dailyDistrictTransitionProb_preLockdown_multiDist.csv\")\n",
    "# Get a list of district names\n",
    "district_names = data.columns[2:]\n",
    "# create a dataframe to store the travel probabilities in\n",
    "travel_df = pd.DataFrame(index=[0, 1, 2, 3, 4, 5, 6])\n",
    "travel_df.index.name = 'weekday'\n",
    "# Iterate over the names\n",
    "for name in district_names:\n",
    "    # find index of the district's column name\n",
    "    column_index = np.where(data.columns == name)\n",
    "    # get the data relevant to this district\n",
    "    this_district = data.loc[data['home_region'] == name]\n",
    "    # get column name of the previous column\n",
    "    prior_column_name = this_district[this_district.columns[column_index[0][0] - 1]].name\n",
    "    if prior_column_name.startswith('d'):\n",
    "        prob_travel_from_district_per_day = this_district[this_district.columns[column_index[0][0]]] - \\\n",
    "                                            this_district[this_district.columns[column_index[0][0] - 1]]\n",
    "        travel_df[name] = 100 - prob_travel_from_district_per_day.values\n",
    "    else:\n",
    "        travel_df[name] = 100 - this_district[this_district.columns[column_index[0][0]]].values\n",
    "travel_df.to_csv(\"/Users/robbiework/PycharmProjects/spacialEpidemiologyAnalysis/data/\"\n",
    "                 \"percent_leave_district_each_day.csv\")"
   ]
  }
 ],
 "metadata": {
  "kernelspec": {
   "display_name": "Python 3 (ipykernel)",
   "language": "python",
   "name": "python3"
  },
  "language_info": {
   "codemirror_mode": {
    "name": "ipython",
    "version": 3
   },
   "file_extension": ".py",
   "mimetype": "text/x-python",
   "name": "python",
   "nbconvert_exporter": "python",
   "pygments_lexer": "ipython3",
   "version": "3.9.12"
  }
 },
 "nbformat": 4,
 "nbformat_minor": 5
}
