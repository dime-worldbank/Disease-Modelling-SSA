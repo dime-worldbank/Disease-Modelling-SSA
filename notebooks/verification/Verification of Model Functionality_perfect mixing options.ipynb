{
 "cells": [
  {
   "cell_type": "markdown",
   "metadata": {},
   "source": [
    "# Significant aspects of model construction\n",
    "\n",
    "* econ status\n",
    "* ~bubbles~\n",
    "* spatiality\n",
    "* mobility\n",
    "\n",
    "Metrics upon which to assess these:\n",
    "* cases over time\n",
    "* deaths over time\n",
    "* effective R at different points\n",
    "* constraint-specific measures (e.g. cases over time per district in models with districts)"
   ]
  },
  {
   "cell_type": "code",
   "execution_count": 1,
   "metadata": {},
   "outputs": [],
   "source": [
    "import pandas as pd\n",
    "import numpy as np\n",
    "from datetime import datetime, timedelta\n",
    "import matplotlib as mpl\n",
    "import matplotlib.pyplot as plt\n",
    "import os\n",
    "import pylab as plt\n",
    "from os.path import isfile, join\n",
    "from glob import glob\n",
    "import subprocess\n",
    "import re\n",
    "\n",
    "\n",
    "import seaborn as sns\n",
    "sns.set(style=\"darkgrid\")"
   ]
  },
  {
   "cell_type": "markdown",
   "metadata": {},
   "source": [
    "## Section A. Define Functions needed \n",
    "### A1. First the model inputs and outputs to include:\n",
    "- processModelOutput: decides the format of the files that will be output\n",
    "- processInfections: the format of the infections file\n",
    "- findROFInstance: total number of individuals infected by the introduction of an infected person (is this returned at the end of a model run?\n",
    "- WorldBankMASONmodel: defines teh input directory for the parameters to be used, the format of the output files with the aggregate figures and the infections, and how we edit the parameters and includes the amount of memory used in the server to run the model"
   ]
  },
  {
   "cell_type": "code",
   "execution_count": 2,
   "metadata": {},
   "outputs": [],
   "source": [
    "def processModelOutput(filename):\n",
    "    r_data = pd.read_csv(filename, sep='\\t')\n",
    "    r_data['districtId'] = [int(str(x).split('_')[1]) for x in r_data[\"myId\"]]\n",
    "    return {'results': r_data}\n",
    "\n",
    "def processInfections(filename):\n",
    "    r_data = pd.read_csv(filename, sep='\\t')\n",
    "    return {'results': r_data}\n",
    "    \n",
    "\n",
    "def findROFInstance():\n",
    "    # total number of individuals infected by the introduction of an infectious person\n",
    "    return beta * n\n",
    "\n",
    "def WorldBankMASONmodel(myOutputPrefix, seed, paramfile, beta, numDays=90):\n",
    "    \n",
    "    dataDir = \"/home/wb488473/Disease-Modelling-SSA/data/verification/\"\n",
    "    #\"/Users/swise/workspace/worldbank/Disease-Modelling-SSA/data/verification/\"\n",
    "    exportFilename = myOutputPrefix + \"_agg_\" + str(seed) + \"_\" + str(beta) + \".txt\"\n",
    "    exportInfectionsFilename = myOutputPrefix + \"_Infections_\" + str(seed) + \"_\" + str(beta) + \".txt\"\n",
    "    \n",
    "    subprocess.call(['java', '-Xms20G', '-jar', '../java/WorldBankCovid19/libs/WB_covid19ABM.jar', str(numDays), \n",
    "                     dataDir, str(beta), str(seed), exportFilename, paramfile, exportInfectionsFilename])\n",
    "    \n",
    "    # Sophie upped the -Xms to 20G from 6GB\n",
    "    #return processModelOutput(exportFilename)\n",
    "    return processInfections(exportInfectionsFilename)"
   ]
  },
  {
   "cell_type": "markdown",
   "metadata": {},
   "source": [
    "### A2. Then the function needed for plots"
   ]
  },
  {
   "cell_type": "code",
   "execution_count": 3,
   "metadata": {
    "scrolled": true
   },
   "outputs": [],
   "source": [
    "def plotMetric(files, prefix, suffix, metrics = [], symbol = \"-\", alpha=1, weighting = 1):\n",
    "    myAvgLine = []\n",
    "    index = 0\n",
    "    template = \"^\" + prefix + \".*\" + suffix + \"$\"\n",
    "\n",
    "    for f in files:\n",
    "\n",
    "        if(re.search(template, f) != None): # f.startswith(prefix) and \n",
    "            r_data_raw = pd.read_csv(path + f, sep='\\t')\n",
    "            #we need to add an if statement here for only if it's a multidistrict model do we do this aggregation\n",
    "            unique_dist_names = pd.unique(r_data_raw['myId'])\n",
    "            if len(unique_dist_names) == 1:\n",
    "                r_data = r_data_raw\n",
    "            else:\n",
    "                r_data = r_data_raw.groupby('time', as_index=False).agg({'metric_died_count': 'sum', 'metric_new_hospitalized': 'sum', \n",
    "                                    'metric_new_critical': 'sum', 'metric_new_cases_asympt': 'sum',\n",
    "                                    'metric_new_cases_sympt': 'sum', 'metric_new_deaths': 'sum', \n",
    "                                    'metric_new_recovered': 'sum', 'metric_currently_infected': 'sum'})\n",
    "            totcases = []\n",
    "            for metric in metrics:\n",
    "                if len(totcases) == 0:\n",
    "                    totcases = r_data[metric]\n",
    "                else:        \n",
    "                    totcases = totcases + r_data[metric]\n",
    "            #totcases = r_data[metric]\n",
    "            \n",
    "            if len(myAvgLine) == 0:\n",
    "                myAvgLine = totcases\n",
    "            else:\n",
    "                myAvgLine += totcases\n",
    "            \n",
    "            # plot it\n",
    "            plt.plot(r_data[\"time\"][1:], weighting * totcases[1:], symbol, alpha=alpha)\n",
    "            index += 1\n",
    "    return {\"myLine\": weighting * myAvgLine/index, \"myTime\": r_data[\"time\"]}"
   ]
  },
  {
   "cell_type": "markdown",
   "metadata": {},
   "source": [
    "## Section B: Run the model scenarios\n",
    "In this part we are able to use the functions defined above to run different versions of the model to create different outputs"
   ]
  },
  {
   "cell_type": "markdown",
   "metadata": {},
   "source": [
    "### B0. Description of the process (Sarah/edits by Sophie)\n",
    "\n",
    "Individuals are created without distinct statuses and their interaction is perfect mixing with the entire community. There is a single district in which each agent is initialised and movement between districts (being meaningless) is zeroed out. Thus, status, social groups, and space are all excluded from this scenario.\n",
    "\n",
    "The data directory associated with this case is inunder the directory **data/verification/** and the specific set of parameters is as given in the file **data/verification/params_default1Dist.txt**. In particular:\n",
    "\n",
    "* the census file has all economic statuses set to the value \"Default\" and all locations for home and work set to an imaginary \"District 1\"\n",
    "* the daily transitions files are both set to 100% chance of moving from District 1 to District 1.\n",
    "* mobility rates do not decrease after a lockdown...\n",
    "* the lockdown file is empty of scheduled lockdowns, however, for belt-and-bracers insurance!\n",
    "\n",
    "The infection parameters are the defaults as seen in the config/covasim_infect_transitions.txt\n",
    "\n",
    "The data to vary are therefore the following:\n",
    "* **numWeeklyInteractionsByStatus_default.txt**: a record of how many interactions agents with the \"Default\" status should have per week\n",
    "* **lineList_5Perc_singleDist.txt**: the infections to seed in the single district.\n",
    "\n",
    "\n",
    "Sophie modified the example base case in below examples B1.1-B1.3 by making it 90 days long rather than 30 in the function of WorldBankMasonModel itself. Then, I have added betasPerScenario below so as to have a range between 0.03 and 0.9, to show the full trajectory across this time period. The i in range just refers to the number of iterations for each run and the number assigned to it. Below the model runs iterations labelled 2,3,4 and 5. The mean value is generated but all are displayed in the plot. \n",
    "\n",
    "In B1.1 and 1.2 we excluded weekends. We note that in B1.3 when we include weekends, it really messes with the curves, so we've decided to exclude weekends from all subsequent runs."
   ]
  },
  {
   "cell_type": "markdown",
   "metadata": {},
   "source": [
    "### B1. Single District models"
   ]
  },
  {
   "cell_type": "markdown",
   "metadata": {},
   "source": [
    "### B1.1 Perfect mixing without weekends"
   ]
  },
  {
   "cell_type": "code",
   "execution_count": null,
   "metadata": {},
   "outputs": [],
   "source": [
    "paramsPerScenario = [\"../data/verification/params_default1Dist_noWkends.txt\"]   \n",
    "betasPerScenario = [0.03, 0.3, 0.6, 0.9]\n",
    "myOutputPrefix= \"/home/wb488473/Disease-Modelling-SSA/data/verification/output/sweep/\"\n",
    "\n",
    "outputs = {}\n",
    "for paramsFile in paramsPerScenario:\n",
    "    for myBeta in betasPerScenario:\n",
    "        for i in range(2,5):\n",
    "            myRunName = paramsFile + \"_\" + str(myBeta) + \"_\" + str(i)\n",
    "            exportFilename =\"sweep_default1Dist_noWkends_betaComparison_\"\n",
    "            myO = WorldBankMASONmodel(myOutputPrefix + exportFilename, i, paramsFile, myBeta)\n",
    "            outputs[myRunName] = myO"
   ]
  },
  {
   "cell_type": "markdown",
   "metadata": {},
   "source": [
    "### B1.2 Perfect mixing without weekends and without homes"
   ]
  },
  {
   "cell_type": "code",
   "execution_count": null,
   "metadata": {},
   "outputs": [],
   "source": [
    "paramsPerScenario = [\"../data/verification/params_default1Dist_noWkends_nohomes.txt\"]   \n",
    "betasPerScenario = [0.03, 0.3, 0.6, 0.9]\n",
    "myOutputPrefix= \"/home/wb488473/Disease-Modelling-SSA/data/verification/output/sweep/\"\n",
    "\n",
    "outputs = {}\n",
    "for paramsFile in paramsPerScenario:\n",
    "    for myBeta in betasPerScenario:\n",
    "        for i in range(2,5):\n",
    "            myRunName = paramsFile + \"_\" + str(myBeta) + \"_\" + str(i)\n",
    "            exportFilename =\"sweep_default1Dist_noWkends_nohomes_betaComparison_\"\n",
    "            myO = WorldBankMASONmodel(myOutputPrefix + exportFilename, i, paramsFile, myBeta)\n",
    "            outputs[myRunName] = myO"
   ]
  },
  {
   "cell_type": "markdown",
   "metadata": {},
   "source": [
    "### B1.3 Beta comparisons on country as one district with weekends\n"
   ]
  },
  {
   "cell_type": "code",
   "execution_count": null,
   "metadata": {
    "scrolled": true
   },
   "outputs": [],
   "source": [
    "paramsPerScenario = [\"../data/verification/params_default1Dist.txt\"]   \n",
    "betasPerScenario = [0.03, 0.3, 0.6, 0.9]\n",
    "myOutputPrefix= \"/home/wb488473/Disease-Modelling-SSA/data/verification/output/sweep/\"\n",
    "\n",
    "outputs = {}\n",
    "for paramsFile in paramsPerScenario:\n",
    "    for myBeta in betasPerScenario:\n",
    "        for i in range(2,5):\n",
    "            myRunName = paramsFile + \"_\" + str(myBeta) + \"_\" + str(i)\n",
    "            exportFilename =\"sweep_default1Dist_betaComparison_\"\n",
    "            myO = WorldBankMASONmodel(myOutputPrefix + exportFilename, i, paramsFile, myBeta)\n",
    "            outputs[myRunName] = myO"
   ]
  },
  {
   "cell_type": "markdown",
   "metadata": {},
   "source": [
    "### B2. Beta comparisons on country as multiple districts (but single econ status)\n",
    "So this scenario is for comparison to check that the mobility between districts is working, when compared to the whole country as one district. It is to enable us to compare the two. Note that people still are only moving between home and community, and this doesn't include the work/school compartment. "
   ]
  },
  {
   "cell_type": "markdown",
   "metadata": {},
   "source": [
    "### B2.1 MultiDistricts, One status, No Weekends"
   ]
  },
  {
   "cell_type": "code",
   "execution_count": null,
   "metadata": {},
   "outputs": [],
   "source": [
    "paramsPerScenario = [\"../data/verification/params_defaultMultiDist_noWknds.txt\"]   \n",
    "betasPerScenario = [0.03, 0.3, 0.6, 0.9]\n",
    "myOutputPrefix= \"/home/wb488473/Disease-Modelling-SSA/data/verification/output/sweep/\"\n",
    "\n",
    "outputs = {}\n",
    "for paramsFile in paramsPerScenario:\n",
    "    for myBeta in betasPerScenario:\n",
    "        for i in range(2,5):\n",
    "            myRunName = paramsFile + \"_\" + str(myBeta) + \"_\" + str(i)\n",
    "            exportFilename =\"sweep_defaultMultiDist_noWknds_betaComparison_\"\n",
    "            myO = WorldBankMASONmodel(myOutputPrefix + exportFilename, i, paramsFile, myBeta)\n",
    "            outputs[myRunName] = myO"
   ]
  },
  {
   "cell_type": "markdown",
   "metadata": {},
   "source": [
    "### B2.2 MultiDists, one status, weekends"
   ]
  },
  {
   "cell_type": "code",
   "execution_count": null,
   "metadata": {},
   "outputs": [],
   "source": [
    "paramsPerScenario = [\"../data/verification/params_defaultMultiDist.txt\"]   \n",
    "betasPerScenario = [0.03, 0.3, 0.6, 0.9]\n",
    "myOutputPrefix= \"/home/wb488473/Disease-Modelling-SSA/data/verification/output/sweep/\"\n",
    "\n",
    "outputs = {}\n",
    "for paramsFile in paramsPerScenario:\n",
    "    for myBeta in betasPerScenario:\n",
    "        for i in range(2,5):\n",
    "            myRunName = paramsFile + \"_\" + str(myBeta) + \"_\" + str(i)\n",
    "            exportFilename =\"sweep_defaultMultiDist_betaComparison_\"\n",
    "            myO = WorldBankMASONmodel(myOutputPrefix + exportFilename, i, paramsFile, myBeta)\n",
    "            outputs[myRunName] = myO"
   ]
  },
  {
   "cell_type": "markdown",
   "metadata": {},
   "source": [
    "### B3. Beta comparisons on country as multiple districts (with multiple econ statuses)\n",
    "Once establishing mobility is working, this then enables us to see what happens when we add the work/school compartment, along with its accompanying changes in probabilities of leaving the house, and mixing differently for 8 hours a day during the week, depending on the interaction matrix. It is to enable us to compare whether people moving between home and community, versus moving between home-work/school-community makes a difference to the dynamics of the infection in the model. \n",
    "\n",
    "By this point we just discard weekends. "
   ]
  },
  {
   "cell_type": "code",
   "execution_count": null,
   "metadata": {},
   "outputs": [],
   "source": [
    "paramsPerScenario = [\"../data/verification/params_multiStatusMultiDist_noWknds.txt\"]   \n",
    "betasPerScenario = [0.03, 0.3, 0.6, 0.9]\n",
    "myOutputPrefix= \"/home/wb488473/Disease-Modelling-SSA/data/verification/output/sweep/\"\n",
    "\n",
    "outputs = {}\n",
    "for paramsFile in paramsPerScenario:\n",
    "    for myBeta in betasPerScenario:\n",
    "        for i in range(2,5):\n",
    "            myRunName = paramsFile + \"_\" + str(myBeta) + \"_\" + str(i)\n",
    "            exportFilename =\"sweep_multiStatusMultiDist_noWknds_betaComparison_\"\n",
    "            myO = WorldBankMASONmodel(myOutputPrefix + exportFilename, i, paramsFile, myBeta)\n",
    "            outputs[myRunName] = myO"
   ]
  },
  {
   "cell_type": "markdown",
   "metadata": {},
   "source": [
    "Now before running the next section, I transfer all the outputs to relevant folders within sweep because otherwise if we accidentally run the code again for producing new output, it will write to the same file and append, which can cause issues later on"
   ]
  },
  {
   "cell_type": "markdown",
   "metadata": {},
   "source": [
    "## Section C: Plot the model results\n",
    "In this section, we're able to plot different outputs on the same graph to compare (using the plotMetric function created in section A)"
   ]
  },
  {
   "cell_type": "markdown",
   "metadata": {},
   "source": [
    "### C1.1 Plot B1.1 results - Single dist, no weekends"
   ]
  },
  {
   "cell_type": "code",
   "execution_count": null,
   "metadata": {},
   "outputs": [],
   "source": [
    "path = \"/home/wb488473/Disease-Modelling-SSA/data/verification/output/sweep/singledist_no_wknds/\"\n",
    "#path = \"/Users/swise/workspace/worldbank/Disease-Modelling-SSA/data/verification/single_district/\"\n",
    "\n",
    "files = os.listdir(path)\n",
    "\n",
    "prefix = \"sweep_default1Dist_noWkends_betaComparison__agg\"\n",
    "\n",
    "\n",
    "line1 = plotMetric(files, prefix, \"0.03.txt\", [\"metric_new_cases_sympt\"],'r-', 0.15) #, weighting=4 \n",
    "# weighting is for the purpose of comparing between diff census sizes i.e. it scales by x4 the results being plotted\n",
    "line2 = plotMetric(files, prefix, \"0.3.txt\", [\"metric_new_cases_sympt\"], 'b-', 0.15)\n",
    "line3 = plotMetric(files, prefix, \"0.6.txt\", [\"metric_new_cases_sympt\"], 'y-', 0.15)\n",
    "line4 = plotMetric(files, prefix, \"0.9.txt\", [\"metric_new_cases_sympt\"], 'g-', 0.15)\n",
    "#line5 = plotMetric(files, prefix2, \"0.1.txt\", \"metric_new_cases_sympt\", 'g', 0.15)\n",
    "#line6 = plotMetric(files, prefix2, \"0.05.txt\", \"metric_new_cases_sympt\", 'y', 0.15)\n",
    "\n",
    "plt.plot(line1[\"myTime\"][1:], line1['myLine'][1:], 'r', label=\"OneDistNoWknds- 5% - 0.03 Beta\")\n",
    "plt.plot(line2[\"myTime\"][1:], line2['myLine'][1:], 'b', label=\"OneDistNoWknds - 5% - 0.3 Beta\")\n",
    "plt.plot(line3[\"myTime\"][1:], line3['myLine'][1:], 'y', label=\"OneDistNoWknds - 5% - 0.6 Beta\")\n",
    "plt.plot(line4[\"myTime\"][1:], line4['myLine'][1:], 'g', label=\"OneDistNoWknds - 5% - 0.9 Beta\")\n",
    "#plt.plot(line3[\"myTime\"][1:], line3['myLine'][1:], 'g', label=\"Perfect Mixing - .10 Beta\")\n",
    "plt.legend()\n",
    "\n",
    "plt.savefig(path + \"1DistNoWknds_beta_comps_90days.png\", dpi=300)"
   ]
  },
  {
   "cell_type": "markdown",
   "metadata": {},
   "source": [
    "### C1.2 Plot B1.2 results - No weekends, homeless"
   ]
  },
  {
   "cell_type": "code",
   "execution_count": null,
   "metadata": {},
   "outputs": [],
   "source": [
    "path = \"/home/wb488473/Disease-Modelling-SSA/data/verification/output/sweep/singledist_no_wknds_homeless/\"\n",
    "#path = \"/Users/swise/workspace/worldbank/Disease-Modelling-SSA/data/verification/single_district/\"\n",
    "\n",
    "files = os.listdir(path)\n",
    "\n",
    "prefix = \"sweep_default1Dist_noWkends_nohomes_betaComparison__agg_\"  \n",
    "prefix2 = \"sweep_default1Dist_noWkends_nohomes_betaComparison__agg_\"\n",
    "#prefix3 = \"\"\n",
    "\n",
    "line1 = plotMetric(files, prefix, \"0.03.txt\", [\"metric_new_cases_sympt\"],'r-', 0.15)\n",
    "line2 = plotMetric(files, prefix, \"0.3.txt\", [\"metric_new_cases_sympt\"], 'b-', 0.15)\n",
    "line3 = plotMetric(files, prefix, \"0.6.txt\", [\"metric_new_cases_sympt\"], 'y-', 0.15)\n",
    "line4 = plotMetric(files, prefix, \"0.9.txt\", [\"metric_new_cases_sympt\"], 'g-', 0.15)\n",
    "#line5 = plotMetric(files, prefix2, \"0.1.txt\", \"metric_new_cases_sympt\", 'g', 0.15)\n",
    "#line6 = plotMetric(files, prefix2, \"0.05.txt\", \"metric_new_cases_sympt\", 'y', 0.15)\n",
    "\n",
    "plt.plot(line1[\"myTime\"][1:], line1['myLine'][1:], 'r', label=\"OneDistNoWkndsH- 5% - 0.03 Beta\")\n",
    "plt.plot(line2[\"myTime\"][1:], line2['myLine'][1:], 'b', label=\"OneDistNoWkndsH - 5% - 0.3 Beta\")\n",
    "plt.plot(line3[\"myTime\"][1:], line3['myLine'][1:], 'y', label=\"OneDistNoWkndsH - 5% - 0.6 Beta\")\n",
    "plt.plot(line4[\"myTime\"][1:], line4['myLine'][1:], 'g', label=\"OneDistNoWkndsH - 5% - 0.9 Beta\")\n",
    "#plt.plot(line3[\"myTime\"][1:], line3['myLine'][1:], 'g', label=\"Perfect Mixing - .10 Beta\")\n",
    "plt.legend()\n",
    "\n",
    "plt.savefig(path + \"1DistNoWkndsH_beta_comps_90days.png\", dpi=300)"
   ]
  },
  {
   "cell_type": "markdown",
   "metadata": {},
   "source": [
    "Note that there are slightly more cases in version B1.2 of the model because agents stay mingling in the district and never go home where they have a more limited number of interactions"
   ]
  },
  {
   "cell_type": "markdown",
   "metadata": {},
   "source": [
    "### C1.3 Plot B1.3 results - with weekends"
   ]
  },
  {
   "cell_type": "code",
   "execution_count": null,
   "metadata": {},
   "outputs": [],
   "source": [
    "path = \"/home/wb488473/Disease-Modelling-SSA/data/verification/output/sweep/single_district/\"\n",
    "#path = \"/Users/swise/workspace/worldbank/Disease-Modelling-SSA/data/verification/single_district/\"\n",
    "\n",
    "files = os.listdir(path)\n",
    "\n",
    "prefix = \"sweep_default1Dist_betaComparison__agg_\"\n",
    "prefix2 = \"sweep_default1Dist_betaComparison__agg_\"\n",
    "#prefix3 = \"\"\n",
    "\n",
    "line1 = plotMetric(files, prefix, \"0.03.txt\", [\"metric_new_cases_sympt\"],'r-', 0.15)\n",
    "line2 = plotMetric(files, prefix, \"0.3.txt\", [\"metric_new_cases_sympt\"], 'b-', 0.15)\n",
    "line3 = plotMetric(files, prefix, \"0.6.txt\", [\"metric_new_cases_sympt\"], 'y-', 0.15)\n",
    "line4 = plotMetric(files, prefix, \"0.9.txt\", [\"metric_new_cases_sympt\"], 'g-', 0.15)\n",
    "#line5 = plotMetric(files, prefix2, \"0.1.txt\", \"metric_new_cases_sympt\", 'g', 0.15)\n",
    "#line6 = plotMetric(files, prefix2, \"0.05.txt\", \"metric_new_cases_sympt\", 'y', 0.15)\n",
    "\n",
    "plt.plot(line1[\"myTime\"][1:], line1['myLine'][1:], 'r', label=\"OneDist- 5% - 0.03 Beta\")\n",
    "plt.plot(line2[\"myTime\"][1:], line2['myLine'][1:], 'b', label=\"OneDist - 5% - 0.3 Beta\")\n",
    "plt.plot(line3[\"myTime\"][1:], line3['myLine'][1:], 'y', label=\"OneDist - 5% - 0.6 Beta\")\n",
    "plt.plot(line4[\"myTime\"][1:], line4['myLine'][1:], 'g', label=\"OneDist - 5% - 0.9 Beta\")\n",
    "#plt.plot(line3[\"myTime\"][1:], line3['myLine'][1:], 'g', label=\"Perfect Mixing - .10 Beta\")\n",
    "plt.legend()\n",
    "\n",
    "plt.savefig(path + \"1Dist_beta_comps_90days.png\", dpi=300)"
   ]
  },
  {
   "cell_type": "markdown",
   "metadata": {},
   "source": [
    "This produces really wonky curves. We have decided we don't know why weekends throw out the model but they do and thus we will exclude them in other runs"
   ]
  },
  {
   "cell_type": "markdown",
   "metadata": {},
   "source": [
    "### C2. Plot B2.1 results - Beta comparisons on country as multiple districts - no weekends"
   ]
  },
  {
   "cell_type": "code",
   "execution_count": null,
   "metadata": {},
   "outputs": [],
   "source": [
    "path = \"/home/wb488473/Disease-Modelling-SSA/data/verification/output/sweep/multi_district_nowknds/\"\n",
    "#path = \"/Users/swise/workspace/worldbank/Disease-Modelling-SSA/data/verification/multi_district/\"\n",
    "\n",
    "\n",
    "files = os.listdir(path)\n",
    "\n",
    "prefix = \"sweep_defaultMultiDist_noWknds_betaComparison__agg_\"\n",
    "#prefix3 = \"\"\n",
    "\n",
    "line1 = plotMetric(files, prefix, \"0.03.txt\", [\"metric_new_cases_sympt\"], 'r-', 0.15)\n",
    "line2 = plotMetric(files, prefix, \"0.3.txt\", [\"metric_new_cases_sympt\"], 'b-', 0.15)\n",
    "line3 = plotMetric(files, prefix, \"0.6.txt\", [\"metric_new_cases_sympt\"], 'y-', 0.15)\n",
    "line4 = plotMetric(files, prefix, \"0.9.txt\", [\"metric_new_cases_sympt\"], 'g-', 0.15)\n",
    "#line5 = plotMetric(files, prefix2, \"0.1.txt\", \"metric_new_cases_sympt\", 'g', 0.15)\n",
    "#line6 = plotMetric(files, prefix2, \"0.05.txt\", \"metric_new_cases_sympt\", 'y', 0.15)\n",
    "\n",
    "plt.plot(line1[\"myTime\"][1:], line1['myLine'][1:], 'r-', label=\"MultiDist- 5% - 0.03 Beta\")\n",
    "plt.plot(line2[\"myTime\"][1:], line2['myLine'][1:], 'b-', label=\"MultiDist - 5% - 0.3 Beta\")\n",
    "plt.plot(line3[\"myTime\"][1:], line3['myLine'][1:], 'y-', label=\"MultiDist - 5% - 0.6 Beta\")\n",
    "plt.plot(line4[\"myTime\"][1:], line4['myLine'][1:], 'g-', label=\"MultiDist - 5% - 0.9 Beta\")\n",
    "#plt.plot(line3[\"myTime\"][1:], line3['myLine'][1:], 'g', label=\"Perfect Mixing - .10 Beta\")\n",
    "plt.legend()\n",
    "\n",
    "plt.savefig(path + \"MultiDist_noWknds_beta_comps_90days.png\", dpi=300)"
   ]
  },
  {
   "cell_type": "markdown",
   "metadata": {},
   "source": [
    "### C2. B2.2 Beta comparisons on country as multiple districts - with weekends"
   ]
  },
  {
   "cell_type": "code",
   "execution_count": null,
   "metadata": {},
   "outputs": [],
   "source": [
    "path = \"/home/wb488473/Disease-Modelling-SSA/data/verification/output/sweep/multi_district/\"\n",
    "#path = \"/Users/swise/workspace/worldbank/Disease-Modelling-SSA/data/verification/multi_district/\"\n",
    "\n",
    "\n",
    "files = os.listdir(path)\n",
    "\n",
    "prefix = \"sweep_defaultMultiDist_betaComparison__agg_\"\n",
    "prefix2 = \"sweep_multiStatusMultiDist_betaComparison__agg_\"\n",
    "#prefix3 = \"\"\n",
    "\n",
    "line1 = plotMetric(files, prefix, \"0.03.txt\", [\"metric_new_cases_sympt\"], 'r-', 0.15)\n",
    "line2 = plotMetric(files, prefix, \"0.3.txt\", [\"metric_new_cases_sympt\"], 'b-', 0.15)\n",
    "line3 = plotMetric(files, prefix, \"0.6.txt\", [\"metric_new_cases_sympt\"], 'y-', 0.15)\n",
    "line4 = plotMetric(files, prefix, \"0.9.txt\", [\"metric_new_cases_sympt\"], 'g-', 0.15)\n",
    "#line5 = plotMetric(files, prefix2, \"0.1.txt\", \"metric_new_cases_sympt\", 'g', 0.15)\n",
    "#line6 = plotMetric(files, prefix2, \"0.05.txt\", \"metric_new_cases_sympt\", 'y', 0.15)\n",
    "\n",
    "plt.plot(line1[\"myTime\"][1:], line1['myLine'][1:], 'r-', label=\"MultiDist- 5% - 0.03 Beta\")\n",
    "plt.plot(line2[\"myTime\"][1:], line2['myLine'][1:], 'b-', label=\"MultiDist - 5% - 0.3 Beta\")\n",
    "plt.plot(line3[\"myTime\"][1:], line3['myLine'][1:], 'y-', label=\"MultiDist - 5% - 0.6 Beta\")\n",
    "plt.plot(line4[\"myTime\"][1:], line4['myLine'][1:], 'g-', label=\"MultiDist - 5% - 0.9 Beta\")\n",
    "#plt.plot(line3[\"myTime\"][1:], line3['myLine'][1:], 'g', label=\"Perfect Mixing - .10 Beta\")\n",
    "plt.legend()\n",
    "\n",
    "plt.savefig(path + \"MultiDist_beta_comps_90days.png\", dpi=300)"
   ]
  },
  {
   "cell_type": "markdown",
   "metadata": {},
   "source": [
    "### C3. Plot B3 results - Beta comparisons on country as multiple districts, with multiple econ statuses - no weekends (don't bother plotting the one with)"
   ]
  },
  {
   "cell_type": "code",
   "execution_count": null,
   "metadata": {},
   "outputs": [],
   "source": [
    "path = \"/home/wb488473/Disease-Modelling-SSA/data/verification/output/sweep/multidist_multistatus_nowknds/\"\n",
    "#path = \"/Users/swise/workspace/worldbank/Disease-Modelling-SSA/data/verification/multidist_multistatus/\"\n",
    "\n",
    "\n",
    "files = os.listdir(path)\n",
    "\n",
    "prefix = \"sweep_multiStatusMultiDist_noWknds_betaComparison__agg_\"\n",
    "\n",
    "line1 = plotMetric(files, prefix, \"0.03.txt\", [\"metric_new_cases_sympt\"], 'r-', 0.15)\n",
    "line2 = plotMetric(files, prefix, \"0.3.txt\", [\"metric_new_cases_sympt\"], 'b-', 0.15)\n",
    "line3 = plotMetric(files, prefix, \"0.6.txt\", [\"metric_new_cases_sympt\"], 'y-', 0.15)\n",
    "line4 = plotMetric(files, prefix, \"0.9.txt\", [\"metric_new_cases_sympt\"], 'g-', 0.15)\n",
    "#line5 = plotMetric(files, prefix2, \"0.1.txt\", \"metric_new_cases_sympt\", 'g', 0.15)\n",
    "#line6 = plotMetric(files, prefix2, \"0.05.txt\", \"metric_new_cases_sympt\", 'y', 0.15)\n",
    "\n",
    "plt.plot(line1[\"myTime\"][1:], line1['myLine'][1:], 'r', label=\"MDistMStat- 5% - 0.03 Beta\")\n",
    "plt.plot(line2[\"myTime\"][1:], line2['myLine'][1:], 'b', label=\"MDistMStat - 5% - 0.3 Beta\")\n",
    "plt.plot(line3[\"myTime\"][1:], line3['myLine'][1:], 'y', label=\"MDistMStat - 5% - 0.6 Beta\")\n",
    "plt.plot(line4[\"myTime\"][1:], line4['myLine'][1:], 'g', label=\"MDistMStat - 5% - 0.9 Beta\")\n",
    "#plt.plot(line3[\"myTime\"][1:], line3['myLine'][1:], 'g', label=\"Perfect Mixing - .10 Beta\")\n",
    "plt.legend()\n",
    "\n",
    "plt.savefig(path + \"MultiDistMultiStat_nowknds_beta_comps_90days.png\", dpi=300)"
   ]
  },
  {
   "cell_type": "markdown",
   "metadata": {},
   "source": [
    "### C4. Now choose one beta and compare across B1, B2, B3 model types"
   ]
  },
  {
   "cell_type": "markdown",
   "metadata": {},
   "source": [
    "### 4.1 without weekends"
   ]
  },
  {
   "cell_type": "code",
   "execution_count": null,
   "metadata": {},
   "outputs": [],
   "source": [
    "path = \"/home/wb488473/Disease-Modelling-SSA/data/verification/output/sweep/compare/\"\n",
    "#path = \"/Users/swise/workspace/worldbank/Disease-Modelling-SSA/data/verification/compare/\"\n",
    "\n",
    "files = os.listdir(path)\n",
    "\n",
    "prefix  = \"sweep_default1Dist_noWkends_betaComparison__agg_\"\n",
    "prefix2 = \"sweep_defaultMultiDist_noWknds_betaComparison__agg_\"\n",
    "prefix3 = \"sweep_multiStatusMultiDist_noWknds_betaComparison__agg_\"\n",
    "\n",
    "line1 = plotMetric(files, prefix, \"0.3.txt\", [\"metric_new_cases_sympt\"], 'r-', 0.15)\n",
    "line2 = plotMetric(files, prefix2, \"0.3.txt\", [\"metric_new_cases_sympt\"], 'b-', 0.15)\n",
    "line3 = plotMetric(files, prefix3, \"0.3.txt\", [\"metric_new_cases_sympt\"], 'y-', 0.15)\n",
    "#line3 = plotMetric(files, prefix, \"0.1.txt\", \"metric_new_cases_sympt\", 'g-', 0.15)\n",
    "#line5 = plotMetric(files, prefix2, \"0.1.txt\", \"metric_new_cases_sympt\", 'g', 0.15)\n",
    "#line6 = plotMetric(files, prefix2, \"0.05.txt\", \"metric_new_cases_sympt\", 'y', 0.15)\n",
    "\n",
    "plt.plot(line1[\"myTime\"][1:], line1['myLine'][1:], 'r', label=\"SingleDist - 5% - 0.3 Beta\")\n",
    "plt.plot(line2[\"myTime\"][1:], line2['myLine'][1:], 'b', label=\"MultiDist - 5% - 0.3 Beta\")\n",
    "plt.plot(line3[\"myTime\"][1:], line3['myLine'][1:], 'y', label=\"MultiDistMultiStatus - 5% - 0.3 Beta\")\n",
    "#plt.plot(line4[\"myTime\"][1:], line4['myLine'][1:], 'y', label=\"Perfect Mixing - .05 Beta\")\n",
    "#plt.plot(line3[\"myTime\"][1:], line3['myLine'][1:], 'g', label=\"Perfect Mixing - .10 Beta\")\n",
    "plt.legend()\n",
    "\n",
    "plt.savefig(path + \"comp_dist_statuses_p3beta_noWknds.png\", dpi=300)\n",
    "\n"
   ]
  },
  {
   "cell_type": "markdown",
   "metadata": {},
   "source": [
    "### 4.2 with weekends"
   ]
  },
  {
   "cell_type": "code",
   "execution_count": null,
   "metadata": {},
   "outputs": [],
   "source": [
    "path = \"/home/wb488473/Disease-Modelling-SSA/data/verification/output/sweep/compare/\"\n",
    "#path = \"/Users/swise/workspace/worldbank/Disease-Modelling-SSA/data/verification/compare/\"\n",
    "\n",
    "files = os.listdir(path)\n",
    "\n",
    "prefix  = \"sweep_default1Dist_betaComparison__agg_\"\n",
    "prefix2 = \"sweep_defaultMultiDist_betaComparison__agg_\"\n",
    "prefix3 = \"sweep_multiStatusMultiDist_betaComparison__agg_\"\n",
    "\n",
    "line1 = plotMetric(files, prefix, \"0.3.txt\", [\"metric_new_cases_sympt\"], 'r-', 0.15, weighting=4)\n",
    "line2 = plotMetric(files, prefix2, \"0.3.txt\", [\"metric_new_cases_sympt\"], 'b-', 0.15)\n",
    "line3 = plotMetric(files, prefix3, \"0.3.txt\", [\"metric_new_cases_sympt\"], 'y-', 0.15)\n",
    "#line3 = plotMetric(files, prefix, \"0.1.txt\", \"metric_new_cases_sympt\", 'g-', 0.15)\n",
    "#line5 = plotMetric(files, prefix2, \"0.1.txt\", \"metric_new_cases_sympt\", 'g', 0.15)\n",
    "#line6 = plotMetric(files, prefix2, \"0.05.txt\", \"metric_new_cases_sympt\", 'y', 0.15)\n",
    "\n",
    "plt.plot(line1[\"myTime\"][1:], line1['myLine'][1:], 'r', label=\"SingleDist - 5% - 0.3 Beta\")\n",
    "plt.plot(line2[\"myTime\"][1:], line2['myLine'][1:], 'b', label=\"MultiDist - 5% - 0.3 Beta\")\n",
    "plt.plot(line3[\"myTime\"][1:], line3['myLine'][1:], 'y', label=\"MultiDistMultiStatus - 5% - 0.3 Beta\")\n",
    "#plt.plot(line4[\"myTime\"][1:], line4['myLine'][1:], 'y', label=\"Perfect Mixing - .05 Beta\")\n",
    "#plt.plot(line3[\"myTime\"][1:], line3['myLine'][1:], 'g', label=\"Perfect Mixing - .10 Beta\")\n",
    "plt.legend()\n",
    "\n",
    "plt.savefig(path + \"comp_dist_statuses_0.3beta.png\", dpi=300)\n",
    "\n"
   ]
  },
  {
   "cell_type": "code",
   "execution_count": null,
   "metadata": {},
   "outputs": [],
   "source": [
    "#line3 = plotMetric(files, \"exportPerfect\", \"0.3.txt\", \"metric_new_cases_sympt\", 'b-', 0.15)\n",
    "#plt.plot(line3[\"myTime\"][1:], line3['myLine'][1:], 'r', label=\"Perfect Mixing - .30 Beta\")\n"
   ]
  },
  {
   "cell_type": "markdown",
   "metadata": {},
   "source": [
    "Direct comparison of spikiness in bubble version"
   ]
  },
  {
   "cell_type": "code",
   "execution_count": null,
   "metadata": {},
   "outputs": [],
   "source": [
    "path = \"/Users/swise/workspace/worldbank/Disease-Modelling-SSA/data/verification/output/\"\n",
    "files = os.listdir(path)\n",
    "\n",
    "prefix = \"exportBubblesOf30_0_\"\n",
    "prefix2 = \"testing_30bubbles_weekdayWeekendSame_\"\n",
    "\n",
    "line1 = plotMetric(files, prefix, \"0.1.txt\", [\"metric_new_cases_sympt\"], 'r-', 0.15)\n",
    "line2 = plotMetric(files, prefix2, \"0.1.txt\", [\"metric_new_cases_sympt\"], 'b-', 0.15)\n",
    "#line4 = plotMetric(files, prefix, \"0.05.txt\", \"metric_new_cases_sympt\", 'y-', 0.15)\n",
    "#line3 = plotMetric(files, prefix, \"0.1.txt\", \"metric_new_cases_sympt\", 'g-', 0.15)\n",
    "#line5 = plotMetric(files, prefix2, \"0.1.txt\", \"metric_new_cases_sympt\", 'g', 0.15)\n",
    "#line6 = plotMetric(files, prefix2, \"0.05.txt\", \"metric_new_cases_sympt\", 'y', 0.15)\n",
    "\n",
    "plt.plot(line1[\"myTime\"][1:], line1['myLine'][1:], 'r', label=\"1hr WD, 3hr WE\")\n",
    "plt.plot(line2[\"myTime\"][1:], line2['myLine'][1:], 'b', label=\"2hr both\")\n",
    "#plt.plot(line2[\"myTime\"][1:], line2['myLine'][1:], 'b', label=\"Perfect Mixing - .03 Beta\")\n",
    "#plt.plot(line4[\"myTime\"][1:], line4['myLine'][1:], 'y', label=\"Perfect Mixing - .05 Beta\")\n",
    "#plt.plot(line3[\"myTime\"][1:], line3['myLine'][1:], 'g', label=\"Perfect Mixing - .10 Beta\")\n",
    "plt.title(\"Bubbles - 5% - .1 Beta\")\n",
    "plt.legend()\n",
    "\n",
    "plt.savefig(path + \"leisureTimeComparison.png\", dpi=300)"
   ]
  },
  {
   "cell_type": "markdown",
   "metadata": {},
   "source": [
    "Calculating the r_eff"
   ]
  },
  {
   "cell_type": "code",
   "execution_count": null,
   "metadata": {},
   "outputs": [],
   "source": [
    "path = \"/Users/swise/workspace/worldbank/Disease-Modelling-SSA/notebooks/\"\n",
    "filename = \"infections_0.016_4_180_4.txt\"\n",
    "r_data = pd.read_csv(path + filename, sep='\\t')\n"
   ]
  },
  {
   "cell_type": "code",
   "execution_count": null,
   "metadata": {
    "scrolled": true
   },
   "outputs": [],
   "source": [
    "infections = r_data[r_data[\"ContagiousAt\"] != '1.7976931348623157E308']\n",
    "infections[\"HostNew\"] = infections[\"Host\"].astype(float).astype(str)\n",
    "infections[\"SourceNew\"] = infections[\"Source\"].astype(str)\n",
    "infections\n"
   ]
  },
  {
   "cell_type": "code",
   "execution_count": null,
   "metadata": {},
   "outputs": [],
   "source": [
    "allSources = infections[\"SourceNew\"]"
   ]
  },
  {
   "cell_type": "code",
   "execution_count": null,
   "metadata": {},
   "outputs": [],
   "source": [
    "infections[\"finishedAt\"] = min(infections[\"DiedAt\"], infections[\"RecoveredAt\"])"
   ]
  },
  {
   "cell_type": "code",
   "execution_count": null,
   "metadata": {},
   "outputs": [],
   "source": [
    "allSources.value_counts()"
   ]
  },
  {
   "cell_type": "code",
   "execution_count": null,
   "metadata": {},
   "outputs": [],
   "source": [
    "x = \"../data/verification/params_5perc_bubbles_30.txt\"\n",
    "\n",
    "x.split(\".\")[-2].split(\"/\")[-1]"
   ]
  },
  {
   "cell_type": "code",
   "execution_count": null,
   "metadata": {},
   "outputs": [],
   "source": []
  },
  {
   "cell_type": "markdown",
   "metadata": {},
   "source": [
    "## Comparison of population sizes"
   ]
  },
  {
   "cell_type": "code",
   "execution_count": null,
   "metadata": {},
   "outputs": [],
   "source": []
  },
  {
   "cell_type": "markdown",
   "metadata": {},
   "source": [
    "#### Deaths over time"
   ]
  },
  {
   "cell_type": "code",
   "execution_count": null,
   "metadata": {},
   "outputs": [],
   "source": []
  },
  {
   "cell_type": "markdown",
   "metadata": {},
   "source": [
    "#### Measuring R"
   ]
  },
  {
   "cell_type": "markdown",
   "metadata": {},
   "source": [
    "## Introducing one constraint at a time"
   ]
  },
  {
   "cell_type": "markdown",
   "metadata": {},
   "source": [
    "### Social Bubbles"
   ]
  },
  {
   "cell_type": "markdown",
   "metadata": {},
   "source": [
    "### Status"
   ]
  },
  {
   "cell_type": "markdown",
   "metadata": {},
   "source": [
    "### Spatial Partitioning\n",
    "\n",
    "(districts exist)"
   ]
  },
  {
   "cell_type": "markdown",
   "metadata": {},
   "source": [
    "## Combining these constraints\n",
    "\n",
    "* Social bubbles + status\n",
    "* Social bubbles + space\n",
    "* Status + space\n",
    "* All three"
   ]
  },
  {
   "cell_type": "markdown",
   "metadata": {},
   "source": [
    "## Mobility"
   ]
  },
  {
   "cell_type": "markdown",
   "metadata": {},
   "source": [
    "### Weekday/weekend"
   ]
  },
  {
   "cell_type": "markdown",
   "metadata": {},
   "source": [
    "### Interdisctrict"
   ]
  },
  {
   "cell_type": "markdown",
   "metadata": {},
   "source": [
    "## Future work: interventions\n",
    "\n",
    "* lockdowns\n",
    "* someday, hygiene\n",
    "* someday, school closures"
   ]
  },
  {
   "cell_type": "code",
   "execution_count": null,
   "metadata": {},
   "outputs": [],
   "source": []
  },
  {
   "cell_type": "code",
   "execution_count": null,
   "metadata": {},
   "outputs": [],
   "source": []
  },
  {
   "cell_type": "markdown",
   "metadata": {},
   "source": [
    "## Template\n",
    "\n",
    "such description wow"
   ]
  },
  {
   "cell_type": "markdown",
   "metadata": {},
   "source": [
    "#### Cases over time\n"
   ]
  },
  {
   "cell_type": "markdown",
   "metadata": {},
   "source": [
    "#### Deaths over time"
   ]
  },
  {
   "cell_type": "markdown",
   "metadata": {},
   "source": [
    "#### Measuring R"
   ]
  },
  {
   "cell_type": "markdown",
   "metadata": {},
   "source": [
    "#### Constraint-specific?"
   ]
  }
 ],
 "metadata": {
  "kernelspec": {
   "display_name": "Python 3",
   "language": "python",
   "name": "python3"
  },
  "language_info": {
   "codemirror_mode": {
    "name": "ipython",
    "version": 3
   },
   "file_extension": ".py",
   "mimetype": "text/x-python",
   "name": "python",
   "nbconvert_exporter": "python",
   "pygments_lexer": "ipython3",
   "version": "3.8.3"
  }
 },
 "nbformat": 4,
 "nbformat_minor": 4
}
