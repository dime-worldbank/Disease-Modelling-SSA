{
 "cells": [
  {
   "cell_type": "code",
   "execution_count": 1,
   "metadata": {},
   "outputs": [],
   "source": [
    "%load_ext autotime"
   ]
  },
  {
   "cell_type": "code",
   "execution_count": 2,
   "metadata": {},
   "outputs": [
    {
     "name": "stdout",
     "output_type": "stream",
     "text": [
      "time: 1.97 s\n"
     ]
    }
   ],
   "source": [
    "import pandas as pd\n",
    "from sklearn.ensemble import GradientBoostingRegressor, RandomForestRegressor\n",
    "import numpy as np\n",
    "from collections import Counter\n",
    "\n",
    "from covid19_abm.dir_manager import get_data_dir"
   ]
  },
  {
   "cell_type": "code",
   "execution_count": 3,
   "metadata": {},
   "outputs": [
    {
     "name": "stdout",
     "output_type": "stream",
     "text": [
      "time: 582 µs\n"
     ]
    }
   ],
   "source": [
    "age_map = {\n",
    "    'less than 1 year': 0,\n",
    "    'less than 1 year ': 0,\n",
    "    '1 year': 1,\n",
    "    '1 year ': 1,\n",
    "    '2 years': 2,\n",
    "    '2 years ': 2,\n",
    "    '98': 98,\n",
    "    '98 ': 98,\n",
    "    'not reported/missing': None,\n",
    "    'not reported/missing ': None,\n",
    "}\n",
    "\n",
    "econ_stat_map = {\n",
    "    'Not working, inactive, not': 'Not working, inactive, not in universe',\n",
    "}"
   ]
  },
  {
   "cell_type": "code",
   "execution_count": 4,
   "metadata": {},
   "outputs": [
    {
     "name": "stdout",
     "output_type": "stream",
     "text": [
      "time: 348 µs\n"
     ]
    }
   ],
   "source": [
    "#full_individual_df = pd.read_stata(\n",
    " #   get_data_dir('raw', 'census', 'census_dummy_0.001_pct'))\n",
    "    \n",
    "#for unknown reasons this code doesn't work"
   ]
  },
  {
   "cell_type": "code",
   "execution_count": 5,
   "metadata": {},
   "outputs": [
    {
     "name": "stdout",
     "output_type": "stream",
     "text": [
      "time: 152 ms\n"
     ]
    }
   ],
   "source": [
    "full_individual_df = pd.read_stata('/Users/sophieayling/Documents/GitHub/covid19-agent-based-model/data/raw/census/census_dummy_0.001_pct.dta')"
   ]
  },
  {
   "cell_type": "code",
   "execution_count": 6,
   "metadata": {},
   "outputs": [
    {
     "name": "stdout",
     "output_type": "stream",
     "text": [
      "time: 7.78 ms\n"
     ]
    }
   ],
   "source": [
    "full_individual_df['age'] = full_individual_df['age'].map(lambda x: age_map.get(x, x))\n",
    "full_individual_df['economic_status'] = full_individual_df['economic_status'].str.strip().map(lambda x: econ_stat_map.get(x, x))"
   ]
  },
  {
   "cell_type": "code",
   "execution_count": 7,
   "metadata": {},
   "outputs": [
    {
     "data": {
      "text/html": [
       "<div>\n",
       "<style scoped>\n",
       "    .dataframe tbody tr th:only-of-type {\n",
       "        vertical-align: middle;\n",
       "    }\n",
       "\n",
       "    .dataframe tbody tr th {\n",
       "        vertical-align: top;\n",
       "    }\n",
       "\n",
       "    .dataframe thead th {\n",
       "        text-align: right;\n",
       "    }\n",
       "</style>\n",
       "<table border=\"1\" class=\"dataframe\">\n",
       "  <thead>\n",
       "    <tr style=\"text-align: right;\">\n",
       "      <th></th>\n",
       "      <th>serial</th>\n",
       "      <th>persons</th>\n",
       "      <th>district_id</th>\n",
       "      <th>new_district_id</th>\n",
       "      <th>age</th>\n",
       "      <th>sex</th>\n",
       "      <th>teachers</th>\n",
       "      <th>nfams</th>\n",
       "      <th>isco88a</th>\n",
       "      <th>famunit</th>\n",
       "      <th>...</th>\n",
       "      <th>new_dist_pop_share</th>\n",
       "      <th>geo1_zw</th>\n",
       "      <th>geo1_zw2012</th>\n",
       "      <th>geo1_string</th>\n",
       "      <th>geo2_zw</th>\n",
       "      <th>geo2_zw2012</th>\n",
       "      <th>dhs_ipumsi_zw</th>\n",
       "      <th>province_id_shpfile</th>\n",
       "      <th>province_name_shpfile</th>\n",
       "      <th>district_name_shpfile</th>\n",
       "    </tr>\n",
       "  </thead>\n",
       "  <tbody>\n",
       "    <tr>\n",
       "      <th>0</th>\n",
       "      <td>3645901</td>\n",
       "      <td>6</td>\n",
       "      <td>21</td>\n",
       "      <td>1</td>\n",
       "      <td>32</td>\n",
       "      <td>female</td>\n",
       "      <td>0</td>\n",
       "      <td>1 family</td>\n",
       "      <td>niu (not in universe)</td>\n",
       "      <td>1</td>\n",
       "      <td>...</td>\n",
       "      <td>1.0</td>\n",
       "      <td>bulawayo</td>\n",
       "      <td>bulawayo</td>\n",
       "      <td>0</td>\n",
       "      <td>bulawayo urban</td>\n",
       "      <td>bulawayo urban</td>\n",
       "      <td>bulawayo</td>\n",
       "      <td>1</td>\n",
       "      <td>Bulawayo</td>\n",
       "      <td>Bulawayo</td>\n",
       "    </tr>\n",
       "    <tr>\n",
       "      <th>1</th>\n",
       "      <td>2837395</td>\n",
       "      <td>3</td>\n",
       "      <td>21</td>\n",
       "      <td>1</td>\n",
       "      <td>3</td>\n",
       "      <td>female</td>\n",
       "      <td>0</td>\n",
       "      <td>1 family</td>\n",
       "      <td>niu (not in universe)</td>\n",
       "      <td>1</td>\n",
       "      <td>...</td>\n",
       "      <td>1.0</td>\n",
       "      <td>bulawayo</td>\n",
       "      <td>bulawayo</td>\n",
       "      <td>0</td>\n",
       "      <td>bulawayo urban</td>\n",
       "      <td>bulawayo urban</td>\n",
       "      <td>bulawayo</td>\n",
       "      <td>1</td>\n",
       "      <td>Bulawayo</td>\n",
       "      <td>Bulawayo</td>\n",
       "    </tr>\n",
       "    <tr>\n",
       "      <th>2</th>\n",
       "      <td>3643108</td>\n",
       "      <td>4</td>\n",
       "      <td>21</td>\n",
       "      <td>1</td>\n",
       "      <td>27</td>\n",
       "      <td>female</td>\n",
       "      <td>0</td>\n",
       "      <td>1 family</td>\n",
       "      <td>niu (not in universe)</td>\n",
       "      <td>1</td>\n",
       "      <td>...</td>\n",
       "      <td>1.0</td>\n",
       "      <td>bulawayo</td>\n",
       "      <td>bulawayo</td>\n",
       "      <td>0</td>\n",
       "      <td>bulawayo urban</td>\n",
       "      <td>bulawayo urban</td>\n",
       "      <td>bulawayo</td>\n",
       "      <td>1</td>\n",
       "      <td>Bulawayo</td>\n",
       "      <td>Bulawayo</td>\n",
       "    </tr>\n",
       "    <tr>\n",
       "      <th>3</th>\n",
       "      <td>127433</td>\n",
       "      <td>6</td>\n",
       "      <td>21</td>\n",
       "      <td>1</td>\n",
       "      <td>9</td>\n",
       "      <td>male</td>\n",
       "      <td>0</td>\n",
       "      <td>1 family</td>\n",
       "      <td>niu (not in universe)</td>\n",
       "      <td>1</td>\n",
       "      <td>...</td>\n",
       "      <td>1.0</td>\n",
       "      <td>bulawayo</td>\n",
       "      <td>bulawayo</td>\n",
       "      <td>0</td>\n",
       "      <td>bulawayo urban</td>\n",
       "      <td>bulawayo urban</td>\n",
       "      <td>bulawayo</td>\n",
       "      <td>1</td>\n",
       "      <td>Bulawayo</td>\n",
       "      <td>Bulawayo</td>\n",
       "    </tr>\n",
       "    <tr>\n",
       "      <th>4</th>\n",
       "      <td>142476</td>\n",
       "      <td>8</td>\n",
       "      <td>21</td>\n",
       "      <td>1</td>\n",
       "      <td>19</td>\n",
       "      <td>male</td>\n",
       "      <td>0</td>\n",
       "      <td>1 family</td>\n",
       "      <td>niu (not in universe)</td>\n",
       "      <td>1</td>\n",
       "      <td>...</td>\n",
       "      <td>1.0</td>\n",
       "      <td>bulawayo</td>\n",
       "      <td>bulawayo</td>\n",
       "      <td>0</td>\n",
       "      <td>bulawayo urban</td>\n",
       "      <td>bulawayo urban</td>\n",
       "      <td>bulawayo</td>\n",
       "      <td>1</td>\n",
       "      <td>Bulawayo</td>\n",
       "      <td>Bulawayo</td>\n",
       "    </tr>\n",
       "  </tbody>\n",
       "</table>\n",
       "<p>5 rows × 59 columns</p>\n",
       "</div>"
      ],
      "text/plain": [
       "    serial  persons district_id  new_district_id age     sex teachers  \\\n",
       "0  3645901        6          21                1  32  female        0   \n",
       "1  2837395        3          21                1   3  female        0   \n",
       "2  3643108        4          21                1  27  female        0   \n",
       "3   127433        6          21                1   9    male        0   \n",
       "4   142476        8          21                1  19    male        0   \n",
       "\n",
       "      nfams                isco88a  famunit  ... new_dist_pop_share   geo1_zw  \\\n",
       "0  1 family  niu (not in universe)        1  ...                1.0  bulawayo   \n",
       "1  1 family  niu (not in universe)        1  ...                1.0  bulawayo   \n",
       "2  1 family  niu (not in universe)        1  ...                1.0  bulawayo   \n",
       "3  1 family  niu (not in universe)        1  ...                1.0  bulawayo   \n",
       "4  1 family  niu (not in universe)        1  ...                1.0  bulawayo   \n",
       "\n",
       "  geo1_zw2012 geo1_string         geo2_zw     geo2_zw2012 dhs_ipumsi_zw  \\\n",
       "0    bulawayo           0  bulawayo urban  bulawayo urban      bulawayo   \n",
       "1    bulawayo           0  bulawayo urban  bulawayo urban      bulawayo   \n",
       "2    bulawayo           0  bulawayo urban  bulawayo urban      bulawayo   \n",
       "3    bulawayo           0  bulawayo urban  bulawayo urban      bulawayo   \n",
       "4    bulawayo           0  bulawayo urban  bulawayo urban      bulawayo   \n",
       "\n",
       "  province_id_shpfile province_name_shpfile district_name_shpfile  \n",
       "0                   1              Bulawayo              Bulawayo  \n",
       "1                   1              Bulawayo              Bulawayo  \n",
       "2                   1              Bulawayo              Bulawayo  \n",
       "3                   1              Bulawayo              Bulawayo  \n",
       "4                   1              Bulawayo              Bulawayo  \n",
       "\n",
       "[5 rows x 59 columns]"
      ]
     },
     "execution_count": 7,
     "metadata": {},
     "output_type": "execute_result"
    },
    {
     "name": "stdout",
     "output_type": "stream",
     "text": [
      "time: 72.6 ms\n"
     ]
    }
   ],
   "source": [
    "full_individual_df.head()"
   ]
  },
  {
   "cell_type": "code",
   "execution_count": 8,
   "metadata": {},
   "outputs": [
    {
     "data": {
      "text/plain": [
       "Not working, inactive, not in universe    41\n",
       "In School                                 36\n",
       "Homemakers/Housework                      17\n",
       "Office workers                             2\n",
       "Service Workers                           21\n",
       "Agriculture Workers                       23\n",
       "Disabled and not working                   1\n",
       "Name: economic_status, dtype: int64"
      ]
     },
     "execution_count": 8,
     "metadata": {},
     "output_type": "execute_result"
    },
    {
     "name": "stdout",
     "output_type": "stream",
     "text": [
      "time: 8.64 ms\n"
     ]
    }
   ],
   "source": [
    "l = '''Not working, inactive, not in universe\n",
    "In School\n",
    "Homemakers/Housework\n",
    "Office workers\n",
    "Service Workers\n",
    "Agriculture Workers\n",
    "Disabled and not working'''\n",
    "l = l.split('\\n')\n",
    "full_individual_df['economic_status'].value_counts()[l]\n",
    "\n",
    "# industry workers and in the army have been removed from here because they are not in the smaller sample"
   ]
  },
  {
   "cell_type": "markdown",
   "metadata": {},
   "source": [
    "# Fill unknown age"
   ]
  },
  {
   "cell_type": "code",
   "execution_count": 9,
   "metadata": {},
   "outputs": [
    {
     "name": "stdout",
     "output_type": "stream",
     "text": [
      "time: 395 µs\n"
     ]
    }
   ],
   "source": [
    "individual_df = full_individual_df"
   ]
  },
  {
   "cell_type": "code",
   "execution_count": 10,
   "metadata": {},
   "outputs": [
    {
     "name": "stdout",
     "output_type": "stream",
     "text": [
      "time: 56.8 ms\n"
     ]
    }
   ],
   "source": [
    "# missing_val = 'not reported/missing'\n",
    "age_cols = ['geo1_zw2012', 'urban', 'persons', 'sex', 'marst', 'citizen', 'race', 'disabled', 'economic_status']\n",
    "X = pd.get_dummies(individual_df[age_cols], drop_first=True)\n",
    "\n",
    "X_train = X[individual_df['age'].notnull()]"
   ]
  },
  {
   "cell_type": "code",
   "execution_count": 11,
   "metadata": {},
   "outputs": [
    {
     "name": "stdout",
     "output_type": "stream",
     "text": [
      "time: 69 ms\n"
     ]
    }
   ],
   "source": [
    "gb = GradientBoostingRegressor(n_estimators=100, max_depth=3, random_state=1029)\n",
    "# rf = RandomForestRegressor(n_estimators=100, max_depth=3, random_state=1029, n_jobs=50)\n",
    "\n",
    "frac = 0.05\n",
    "X_tr = X_train.sample(frac=frac, random_state=1029)\n",
    "gb.fit(X_tr, individual_df.loc[X_tr.index, 'age'])\n",
    "\n",
    "missing_age = X[individual_df['age'].isnull()]"
   ]
  },
  {
   "cell_type": "code",
   "execution_count": 12,
   "metadata": {},
   "outputs": [
    {
     "data": {
      "text/plain": [
       "<AxesSubplot:>"
      ]
     },
     "execution_count": 12,
     "metadata": {},
     "output_type": "execute_result"
    },
    {
     "data": {
      "image/png": "[encoded data removed]",
      "text/plain": [
       "<Figure size 432x288 with 1 Axes>"
      ]
     },
     "metadata": {
      "needs_background": "light"
     },
     "output_type": "display_data"
    },
    {
     "name": "stdout",
     "output_type": "stream",
     "text": [
      "time: 813 ms\n"
     ]
    }
   ],
   "source": [
    "pd.Series(gb.predict(missing_age)).hist()"
   ]
  },
  {
   "cell_type": "code",
   "execution_count": 13,
   "metadata": {},
   "outputs": [
    {
     "data": {
      "text/plain": [
       "(7, 25)"
      ]
     },
     "execution_count": 13,
     "metadata": {},
     "output_type": "execute_result"
    },
    {
     "name": "stdout",
     "output_type": "stream",
     "text": [
      "time: 3.93 ms\n"
     ]
    }
   ],
   "source": [
    "X_tr.shape"
   ]
  },
  {
   "cell_type": "code",
   "execution_count": 14,
   "metadata": {},
   "outputs": [
    {
     "data": {
      "text/html": [
       "<div>\n",
       "<style scoped>\n",
       "    .dataframe tbody tr th:only-of-type {\n",
       "        vertical-align: middle;\n",
       "    }\n",
       "\n",
       "    .dataframe tbody tr th {\n",
       "        vertical-align: top;\n",
       "    }\n",
       "\n",
       "    .dataframe thead th {\n",
       "        text-align: right;\n",
       "    }\n",
       "</style>\n",
       "<table border=\"1\" class=\"dataframe\">\n",
       "  <thead>\n",
       "    <tr style=\"text-align: right;\">\n",
       "      <th></th>\n",
       "      <th>serial</th>\n",
       "      <th>persons</th>\n",
       "      <th>district_id</th>\n",
       "      <th>new_district_id</th>\n",
       "      <th>age</th>\n",
       "      <th>sex</th>\n",
       "      <th>teachers</th>\n",
       "      <th>nfams</th>\n",
       "      <th>isco88a</th>\n",
       "      <th>famunit</th>\n",
       "      <th>...</th>\n",
       "      <th>new_dist_pop_share</th>\n",
       "      <th>geo1_zw</th>\n",
       "      <th>geo1_zw2012</th>\n",
       "      <th>geo1_string</th>\n",
       "      <th>geo2_zw</th>\n",
       "      <th>geo2_zw2012</th>\n",
       "      <th>dhs_ipumsi_zw</th>\n",
       "      <th>province_id_shpfile</th>\n",
       "      <th>province_name_shpfile</th>\n",
       "      <th>district_name_shpfile</th>\n",
       "    </tr>\n",
       "  </thead>\n",
       "  <tbody>\n",
       "    <tr>\n",
       "      <th>71</th>\n",
       "      <td>988027</td>\n",
       "      <td>8</td>\n",
       "      <td>3007</td>\n",
       "      <td>22</td>\n",
       "      <td>41</td>\n",
       "      <td>female</td>\n",
       "      <td>0</td>\n",
       "      <td>1 family</td>\n",
       "      <td>subsistence agricultural and fishery workers</td>\n",
       "      <td>1</td>\n",
       "      <td>...</td>\n",
       "      <td>0.108041</td>\n",
       "      <td>mashonaland east</td>\n",
       "      <td>mashonaland east</td>\n",
       "      <td>3</td>\n",
       "      <td>mutoko</td>\n",
       "      <td>mutoko</td>\n",
       "      <td>mashonaland east</td>\n",
       "      <td>5</td>\n",
       "      <td>Mashonaland East</td>\n",
       "      <td>Mutoko</td>\n",
       "    </tr>\n",
       "  </tbody>\n",
       "</table>\n",
       "<p>1 rows × 59 columns</p>\n",
       "</div>"
      ],
      "text/plain": [
       "    serial  persons district_id  new_district_id age     sex teachers  \\\n",
       "71  988027        8        3007               22  41  female        0   \n",
       "\n",
       "       nfams                                       isco88a  famunit  ...  \\\n",
       "71  1 family  subsistence agricultural and fishery workers        1  ...   \n",
       "\n",
       "   new_dist_pop_share           geo1_zw       geo1_zw2012 geo1_string geo2_zw  \\\n",
       "71           0.108041  mashonaland east  mashonaland east           3  mutoko   \n",
       "\n",
       "   geo2_zw2012     dhs_ipumsi_zw province_id_shpfile province_name_shpfile  \\\n",
       "71      mutoko  mashonaland east                   5      Mashonaland East   \n",
       "\n",
       "   district_name_shpfile  \n",
       "71                Mutoko  \n",
       "\n",
       "[1 rows x 59 columns]"
      ]
     },
     "execution_count": 14,
     "metadata": {},
     "output_type": "execute_result"
    },
    {
     "name": "stdout",
     "output_type": "stream",
     "text": [
      "time: 65.7 ms\n"
     ]
    }
   ],
   "source": [
    "individual_df.loc[missing_age.index, 'age'] = gb.predict(missing_age).astype(int)\n",
    "individual_df.loc[missing_age.index].head()"
   ]
  },
  {
   "cell_type": "code",
   "execution_count": 15,
   "metadata": {},
   "outputs": [
    {
     "data": {
      "text/plain": [
       "Not working, inactive, not in universe    41\n",
       "In School                                 36\n",
       "Agriculture Workers                       23\n",
       "Service Workers                           21\n",
       "Homemakers/Housework                      17\n",
       "Office workers                             2\n",
       "Disabled and not working                   1\n",
       "Name: economic_status, dtype: int64"
      ]
     },
     "execution_count": 15,
     "metadata": {},
     "output_type": "execute_result"
    },
    {
     "name": "stdout",
     "output_type": "stream",
     "text": [
      "time: 8.13 ms\n"
     ]
    }
   ],
   "source": [
    "individual_df.economic_status.astype(str).value_counts()"
   ]
  },
  {
   "cell_type": "markdown",
   "metadata": {},
   "source": [
    "## Create `district_id`, `household_id` and `economic_activity_location_id`"
   ]
  },
  {
   "cell_type": "code",
   "execution_count": 16,
   "metadata": {},
   "outputs": [
    {
     "name": "stdout",
     "output_type": "stream",
     "text": [
      "time: 808 µs\n"
     ]
    }
   ],
   "source": [
    "relevant_cols = [\n",
    "    'person_id', 'age', 'sex',\n",
    "    'household_id', 'district_id',\n",
    "    'economic_status', 'economic_activity_location_id',\n",
    "    # 'household', 'district'\n",
    "]"
   ]
  },
  {
   "cell_type": "code",
   "execution_count": 17,
   "metadata": {},
   "outputs": [
    {
     "name": "stdout",
     "output_type": "stream",
     "text": [
      "time: 10.4 ms\n"
     ]
    }
   ],
   "source": [
    "old_new_districts = pd.read_csv('/Users/sophieayling/Documents/GitHub/covid19-agent-based-model/data/raw/district_relation.csv', index_col=0)\n",
    "old_new_districts.index = old_new_districts['ADMIN_NAME'].str.lower()"
   ]
  },
  {
   "cell_type": "code",
   "execution_count": 18,
   "metadata": {},
   "outputs": [
    {
     "name": "stdout",
     "output_type": "stream",
     "text": [
      "time: 6 ms\n"
     ]
    }
   ],
   "source": [
    "individual_df['serial_expanded'] = individual_df['serial']"
   ]
  },
  {
   "cell_type": "code",
   "execution_count": 19,
   "metadata": {},
   "outputs": [
    {
     "name": "stdout",
     "output_type": "stream",
     "text": [
      "time: 10 ms\n"
     ]
    }
   ],
   "source": [
    "individual_df['household_id'] = individual_df['serial_expanded'].map(lambda x: f'h_{x}')\n",
    "individual_df['old_district_id'] = individual_df['geo2_zw2012'].map(lambda x: f'd_{old_new_districts[\"DIST2012\"][x]}')                                          \n",
    "individual_df['new_district_id'] = individual_df['geo2_zw2012'].map(lambda x: f'd_{old_new_districts[\"NEW_DIST_ID_2\"][x]}')"
   ]
  },
  {
   "cell_type": "code",
   "execution_count": 20,
   "metadata": {},
   "outputs": [
    {
     "name": "stdout",
     "output_type": "stream",
     "text": [
      "time: 4.4 ms\n"
     ]
    }
   ],
   "source": [
    "expanded_individual_df = individual_df.copy()"
   ]
  },
  {
   "cell_type": "code",
   "execution_count": 21,
   "metadata": {},
   "outputs": [
    {
     "data": {
      "text/html": [
       "<div>\n",
       "<style scoped>\n",
       "    .dataframe tbody tr th:only-of-type {\n",
       "        vertical-align: middle;\n",
       "    }\n",
       "\n",
       "    .dataframe tbody tr th {\n",
       "        vertical-align: top;\n",
       "    }\n",
       "\n",
       "    .dataframe thead th {\n",
       "        text-align: right;\n",
       "    }\n",
       "</style>\n",
       "<table border=\"1\" class=\"dataframe\">\n",
       "  <thead>\n",
       "    <tr style=\"text-align: right;\">\n",
       "      <th></th>\n",
       "      <th>serial</th>\n",
       "      <th>persons</th>\n",
       "      <th>district_id</th>\n",
       "      <th>new_district_id</th>\n",
       "      <th>age</th>\n",
       "      <th>sex</th>\n",
       "      <th>teachers</th>\n",
       "      <th>nfams</th>\n",
       "      <th>isco88a</th>\n",
       "      <th>famunit</th>\n",
       "      <th>...</th>\n",
       "      <th>geo1_string</th>\n",
       "      <th>geo2_zw</th>\n",
       "      <th>geo2_zw2012</th>\n",
       "      <th>dhs_ipumsi_zw</th>\n",
       "      <th>province_id_shpfile</th>\n",
       "      <th>province_name_shpfile</th>\n",
       "      <th>district_name_shpfile</th>\n",
       "      <th>serial_expanded</th>\n",
       "      <th>household_id</th>\n",
       "      <th>old_district_id</th>\n",
       "    </tr>\n",
       "  </thead>\n",
       "  <tbody>\n",
       "    <tr>\n",
       "      <th>0</th>\n",
       "      <td>3645901</td>\n",
       "      <td>6</td>\n",
       "      <td>21</td>\n",
       "      <td>d_1</td>\n",
       "      <td>32</td>\n",
       "      <td>female</td>\n",
       "      <td>0</td>\n",
       "      <td>1 family</td>\n",
       "      <td>niu (not in universe)</td>\n",
       "      <td>1</td>\n",
       "      <td>...</td>\n",
       "      <td>0</td>\n",
       "      <td>bulawayo urban</td>\n",
       "      <td>bulawayo urban</td>\n",
       "      <td>bulawayo</td>\n",
       "      <td>1</td>\n",
       "      <td>Bulawayo</td>\n",
       "      <td>Bulawayo</td>\n",
       "      <td>3645901</td>\n",
       "      <td>h_3645901</td>\n",
       "      <td>d_21</td>\n",
       "    </tr>\n",
       "    <tr>\n",
       "      <th>1</th>\n",
       "      <td>2837395</td>\n",
       "      <td>3</td>\n",
       "      <td>21</td>\n",
       "      <td>d_1</td>\n",
       "      <td>3</td>\n",
       "      <td>female</td>\n",
       "      <td>0</td>\n",
       "      <td>1 family</td>\n",
       "      <td>niu (not in universe)</td>\n",
       "      <td>1</td>\n",
       "      <td>...</td>\n",
       "      <td>0</td>\n",
       "      <td>bulawayo urban</td>\n",
       "      <td>bulawayo urban</td>\n",
       "      <td>bulawayo</td>\n",
       "      <td>1</td>\n",
       "      <td>Bulawayo</td>\n",
       "      <td>Bulawayo</td>\n",
       "      <td>2837395</td>\n",
       "      <td>h_2837395</td>\n",
       "      <td>d_21</td>\n",
       "    </tr>\n",
       "    <tr>\n",
       "      <th>2</th>\n",
       "      <td>3643108</td>\n",
       "      <td>4</td>\n",
       "      <td>21</td>\n",
       "      <td>d_1</td>\n",
       "      <td>27</td>\n",
       "      <td>female</td>\n",
       "      <td>0</td>\n",
       "      <td>1 family</td>\n",
       "      <td>niu (not in universe)</td>\n",
       "      <td>1</td>\n",
       "      <td>...</td>\n",
       "      <td>0</td>\n",
       "      <td>bulawayo urban</td>\n",
       "      <td>bulawayo urban</td>\n",
       "      <td>bulawayo</td>\n",
       "      <td>1</td>\n",
       "      <td>Bulawayo</td>\n",
       "      <td>Bulawayo</td>\n",
       "      <td>3643108</td>\n",
       "      <td>h_3643108</td>\n",
       "      <td>d_21</td>\n",
       "    </tr>\n",
       "    <tr>\n",
       "      <th>3</th>\n",
       "      <td>127433</td>\n",
       "      <td>6</td>\n",
       "      <td>21</td>\n",
       "      <td>d_1</td>\n",
       "      <td>9</td>\n",
       "      <td>male</td>\n",
       "      <td>0</td>\n",
       "      <td>1 family</td>\n",
       "      <td>niu (not in universe)</td>\n",
       "      <td>1</td>\n",
       "      <td>...</td>\n",
       "      <td>0</td>\n",
       "      <td>bulawayo urban</td>\n",
       "      <td>bulawayo urban</td>\n",
       "      <td>bulawayo</td>\n",
       "      <td>1</td>\n",
       "      <td>Bulawayo</td>\n",
       "      <td>Bulawayo</td>\n",
       "      <td>127433</td>\n",
       "      <td>h_127433</td>\n",
       "      <td>d_21</td>\n",
       "    </tr>\n",
       "    <tr>\n",
       "      <th>4</th>\n",
       "      <td>142476</td>\n",
       "      <td>8</td>\n",
       "      <td>21</td>\n",
       "      <td>d_1</td>\n",
       "      <td>19</td>\n",
       "      <td>male</td>\n",
       "      <td>0</td>\n",
       "      <td>1 family</td>\n",
       "      <td>niu (not in universe)</td>\n",
       "      <td>1</td>\n",
       "      <td>...</td>\n",
       "      <td>0</td>\n",
       "      <td>bulawayo urban</td>\n",
       "      <td>bulawayo urban</td>\n",
       "      <td>bulawayo</td>\n",
       "      <td>1</td>\n",
       "      <td>Bulawayo</td>\n",
       "      <td>Bulawayo</td>\n",
       "      <td>142476</td>\n",
       "      <td>h_142476</td>\n",
       "      <td>d_21</td>\n",
       "    </tr>\n",
       "  </tbody>\n",
       "</table>\n",
       "<p>5 rows × 62 columns</p>\n",
       "</div>"
      ],
      "text/plain": [
       "    serial  persons district_id new_district_id age     sex teachers  \\\n",
       "0  3645901        6          21             d_1  32  female        0   \n",
       "1  2837395        3          21             d_1   3  female        0   \n",
       "2  3643108        4          21             d_1  27  female        0   \n",
       "3   127433        6          21             d_1   9    male        0   \n",
       "4   142476        8          21             d_1  19    male        0   \n",
       "\n",
       "      nfams                isco88a  famunit  ... geo1_string         geo2_zw  \\\n",
       "0  1 family  niu (not in universe)        1  ...           0  bulawayo urban   \n",
       "1  1 family  niu (not in universe)        1  ...           0  bulawayo urban   \n",
       "2  1 family  niu (not in universe)        1  ...           0  bulawayo urban   \n",
       "3  1 family  niu (not in universe)        1  ...           0  bulawayo urban   \n",
       "4  1 family  niu (not in universe)        1  ...           0  bulawayo urban   \n",
       "\n",
       "      geo2_zw2012 dhs_ipumsi_zw province_id_shpfile province_name_shpfile  \\\n",
       "0  bulawayo urban      bulawayo                   1              Bulawayo   \n",
       "1  bulawayo urban      bulawayo                   1              Bulawayo   \n",
       "2  bulawayo urban      bulawayo                   1              Bulawayo   \n",
       "3  bulawayo urban      bulawayo                   1              Bulawayo   \n",
       "4  bulawayo urban      bulawayo                   1              Bulawayo   \n",
       "\n",
       "  district_name_shpfile serial_expanded household_id old_district_id  \n",
       "0              Bulawayo         3645901    h_3645901            d_21  \n",
       "1              Bulawayo         2837395    h_2837395            d_21  \n",
       "2              Bulawayo         3643108    h_3643108            d_21  \n",
       "3              Bulawayo          127433     h_127433            d_21  \n",
       "4              Bulawayo          142476     h_142476            d_21  \n",
       "\n",
       "[5 rows x 62 columns]"
      ]
     },
     "execution_count": 21,
     "metadata": {},
     "output_type": "execute_result"
    },
    {
     "name": "stdout",
     "output_type": "stream",
     "text": [
      "time: 68.3 ms\n"
     ]
    }
   ],
   "source": [
    "expanded_individual_df.head()"
   ]
  },
  {
   "cell_type": "code",
   "execution_count": 22,
   "metadata": {},
   "outputs": [
    {
     "name": "stdout",
     "output_type": "stream",
     "text": [
      "time: 4.99 ms\n"
     ]
    }
   ],
   "source": [
    "expanded_individual_df['school_goers'] = 1 * (expanded_individual_df['school_goers'] != 0)"
   ]
  },
  {
   "cell_type": "code",
   "execution_count": 23,
   "metadata": {},
   "outputs": [
    {
     "data": {
      "text/plain": [
       "Index(['serial', 'persons', 'district_id', 'new_district_id', 'age', 'sex',\n",
       "       'teachers', 'nfams', 'isco88a', 'famunit', 'urban', 'economic_status',\n",
       "       'gq', 'marst', 'citizen', 'race', 'disabled', 'disblnd', 'disdeaf',\n",
       "       'dismntl', 'famsize', 'age2', 'edattain', 'edattaind', 'yrschool',\n",
       "       'educzw', 'empstat', 'empstatd', 'labforce', 'occisco', 'occ',\n",
       "       'manufacturing_workers', 'mining_workers', 'mining_districts', 'pid',\n",
       "       'weight', 'ward', 'school_goers', 'school_goers_detailed', 'pernum',\n",
       "       'geolev1', 'Province', 'Province_str', 'ProvincePop2012',\n",
       "       'ProvincePop2019', 'geolev2', 'new_district_id_st', 'NewDistPop2012',\n",
       "       'NewDistPop2019', 'new_dist_pop_share', 'geo1_zw', 'geo1_zw2012',\n",
       "       'geo1_string', 'geo2_zw', 'geo2_zw2012', 'dhs_ipumsi_zw',\n",
       "       'province_id_shpfile', 'province_name_shpfile', 'district_name_shpfile',\n",
       "       'serial_expanded', 'household_id', 'old_district_id'],\n",
       "      dtype='object')"
      ]
     },
     "execution_count": 23,
     "metadata": {},
     "output_type": "execute_result"
    },
    {
     "name": "stdout",
     "output_type": "stream",
     "text": [
      "time: 4.11 ms\n"
     ]
    }
   ],
   "source": [
    "expanded_individual_df.columns"
   ]
  },
  {
   "cell_type": "code",
   "execution_count": 24,
   "metadata": {},
   "outputs": [
    {
     "data": {
      "text/plain": [
       "1.0"
      ]
     },
     "execution_count": 24,
     "metadata": {},
     "output_type": "execute_result"
    },
    {
     "name": "stdout",
     "output_type": "stream",
     "text": [
      "time: 6.82 ms\n"
     ]
    }
   ],
   "source": [
    "expanded_individual_df.groupby('serial')['sex'].count().mean()"
   ]
  },
  {
   "cell_type": "code",
   "execution_count": 25,
   "metadata": {},
   "outputs": [
    {
     "data": {
      "text/plain": [
       "1.0"
      ]
     },
     "execution_count": 25,
     "metadata": {},
     "output_type": "execute_result"
    },
    {
     "name": "stdout",
     "output_type": "stream",
     "text": [
      "time: 4.29 ms\n"
     ]
    }
   ],
   "source": [
    "expanded_individual_df.shape[0] / expanded_individual_df['serial'].nunique()"
   ]
  },
  {
   "cell_type": "code",
   "execution_count": 26,
   "metadata": {},
   "outputs": [
    {
     "data": {
      "text/plain": [
       "36"
      ]
     },
     "execution_count": 26,
     "metadata": {},
     "output_type": "execute_result"
    },
    {
     "name": "stdout",
     "output_type": "stream",
     "text": [
      "time: 4.06 ms\n"
     ]
    }
   ],
   "source": [
    "(expanded_individual_df['school_goers'] == 1).sum()"
   ]
  },
  {
   "cell_type": "code",
   "execution_count": 27,
   "metadata": {},
   "outputs": [
    {
     "data": {
      "text/plain": [
       "36"
      ]
     },
     "execution_count": 27,
     "metadata": {},
     "output_type": "execute_result"
    },
    {
     "name": "stdout",
     "output_type": "stream",
     "text": [
      "time: 5.2 ms\n"
     ]
    }
   ],
   "source": [
    "(expanded_individual_df['school_goers'] == 1).sum()"
   ]
  },
  {
   "cell_type": "markdown",
   "metadata": {},
   "source": [
    "# Mining"
   ]
  },
  {
   "cell_type": "code",
   "execution_count": 42,
   "metadata": {},
   "outputs": [
    {
     "name": "stdout",
     "output_type": "stream",
     "text": [
      "time: 629 µs\n"
     ]
    }
   ],
   "source": [
    "# relevant_cols = [\n",
    "#     'person_id', 'age', 'sex',\n",
    "#     'household_id', 'district_id',\n",
    "#     'economic_status', 'economic_activity_location_id',\n",
    "#     'school_id_district', \n",
    "#     'manufacturing_workers',\n",
    "#     'mining_district_id'\n",
    "#     # 'household', 'district'\n",
    "# ]\n",
    "\n",
    "relevant_cols = [\n",
    "    'person_id', 'age', 'sex',\n",
    "    'household_id', 'district_id', 'old_district_id', 'old_district_id1',\n",
    "    'economic_status', 'economic_activity_location_id',\n",
    "    # 'school_id_district', \n",
    "    'school_goers',\n",
    "    'manufacturing_workers',\n",
    "    # 'mining_district_id'\n",
    "    # 'household', 'district'\n",
    "]"
   ]
  },
  {
   "cell_type": "code",
   "execution_count": 43,
   "metadata": {},
   "outputs": [
    {
     "name": "stdout",
     "output_type": "stream",
     "text": [
      "***FLAG***/Users/sophieayling/Documents/GitHub/covid19-agent-based-model\n",
      "time: 22.6 ms\n"
     ]
    }
   ],
   "source": [
    "mining_df = expanded_individual_df.copy()\n",
    "\n",
    "p = mining_df['economic_status']\n",
    "\n",
    "mining_df.loc[p == 'Disabled and not working', 'economic_activity_location_id'] = mining_df.loc[p == 'Disabled and not working', 'household_id']\n",
    "mining_df.loc[p != 'Disabled and not working', 'economic_activity_location_id'] = mining_df.loc[p != 'Disabled and not working', 'new_district_id']\n",
    "\n",
    "try:\n",
    "    mining_df.drop('person_id', axis=1, inplace=True)\n",
    "except KeyError:\n",
    "    pass\n",
    "\n",
    "mining_df['person_id'] = mining_df.index\n",
    "mining_df['age'] = mining_df['age'].astype(int)\n",
    "mining_df['economic_status'] = mining_df['economic_status'].str.strip()\n",
    "mining_df.rename(columns={'district_id': 'old_district_id1'}, inplace=True) # added 30th Nov (Sophie, Anne, Sarah)\n",
    "\n",
    "mining_df.rename(columns={'new_district_id': 'district_id'}, inplace=True)\n",
    "\n",
    "mining_df[relevant_cols].to_pickle(\n",
    "    get_data_dir('preprocessed', 'census', 'zimbabwe_ipums_mining_manufacturing_school_new_dist_100pct.pickle'))"
   ]
  },
  {
   "cell_type": "code",
   "execution_count": 44,
   "metadata": {},
   "outputs": [
    {
     "data": {
      "text/html": [
       "<div>\n",
       "<style scoped>\n",
       "    .dataframe tbody tr th:only-of-type {\n",
       "        vertical-align: middle;\n",
       "    }\n",
       "\n",
       "    .dataframe tbody tr th {\n",
       "        vertical-align: top;\n",
       "    }\n",
       "\n",
       "    .dataframe thead th {\n",
       "        text-align: right;\n",
       "    }\n",
       "</style>\n",
       "<table border=\"1\" class=\"dataframe\">\n",
       "  <thead>\n",
       "    <tr style=\"text-align: right;\">\n",
       "      <th></th>\n",
       "      <th>person_id</th>\n",
       "      <th>age</th>\n",
       "      <th>sex</th>\n",
       "      <th>household_id</th>\n",
       "      <th>district_id</th>\n",
       "      <th>old_district_id</th>\n",
       "      <th>old_district_id1</th>\n",
       "      <th>economic_status</th>\n",
       "      <th>economic_activity_location_id</th>\n",
       "      <th>school_goers</th>\n",
       "      <th>manufacturing_workers</th>\n",
       "    </tr>\n",
       "  </thead>\n",
       "  <tbody>\n",
       "    <tr>\n",
       "      <th>0</th>\n",
       "      <td>0</td>\n",
       "      <td>32</td>\n",
       "      <td>female</td>\n",
       "      <td>h_3645901</td>\n",
       "      <td>d_1</td>\n",
       "      <td>d_21</td>\n",
       "      <td>21</td>\n",
       "      <td>Homemakers/Housework</td>\n",
       "      <td>d_1</td>\n",
       "      <td>0</td>\n",
       "      <td>0.0</td>\n",
       "    </tr>\n",
       "    <tr>\n",
       "      <th>1</th>\n",
       "      <td>1</td>\n",
       "      <td>3</td>\n",
       "      <td>female</td>\n",
       "      <td>h_2837395</td>\n",
       "      <td>d_1</td>\n",
       "      <td>d_21</td>\n",
       "      <td>21</td>\n",
       "      <td>Not working, inactive, not in universe</td>\n",
       "      <td>d_1</td>\n",
       "      <td>0</td>\n",
       "      <td>0.0</td>\n",
       "    </tr>\n",
       "    <tr>\n",
       "      <th>2</th>\n",
       "      <td>2</td>\n",
       "      <td>27</td>\n",
       "      <td>female</td>\n",
       "      <td>h_3643108</td>\n",
       "      <td>d_1</td>\n",
       "      <td>d_21</td>\n",
       "      <td>21</td>\n",
       "      <td>Not working, inactive, not in universe</td>\n",
       "      <td>d_1</td>\n",
       "      <td>0</td>\n",
       "      <td>0.0</td>\n",
       "    </tr>\n",
       "    <tr>\n",
       "      <th>3</th>\n",
       "      <td>3</td>\n",
       "      <td>9</td>\n",
       "      <td>male</td>\n",
       "      <td>h_127433</td>\n",
       "      <td>d_1</td>\n",
       "      <td>d_21</td>\n",
       "      <td>21</td>\n",
       "      <td>Not working, inactive, not in universe</td>\n",
       "      <td>d_1</td>\n",
       "      <td>0</td>\n",
       "      <td>0.0</td>\n",
       "    </tr>\n",
       "    <tr>\n",
       "      <th>4</th>\n",
       "      <td>4</td>\n",
       "      <td>19</td>\n",
       "      <td>male</td>\n",
       "      <td>h_142476</td>\n",
       "      <td>d_1</td>\n",
       "      <td>d_21</td>\n",
       "      <td>21</td>\n",
       "      <td>In School</td>\n",
       "      <td>d_1</td>\n",
       "      <td>1</td>\n",
       "      <td>0.0</td>\n",
       "    </tr>\n",
       "  </tbody>\n",
       "</table>\n",
       "</div>"
      ],
      "text/plain": [
       "   person_id  age     sex household_id district_id old_district_id  \\\n",
       "0          0   32  female    h_3645901         d_1            d_21   \n",
       "1          1    3  female    h_2837395         d_1            d_21   \n",
       "2          2   27  female    h_3643108         d_1            d_21   \n",
       "3          3    9    male     h_127433         d_1            d_21   \n",
       "4          4   19    male     h_142476         d_1            d_21   \n",
       "\n",
       "  old_district_id1                         economic_status  \\\n",
       "0               21                    Homemakers/Housework   \n",
       "1               21  Not working, inactive, not in universe   \n",
       "2               21  Not working, inactive, not in universe   \n",
       "3               21  Not working, inactive, not in universe   \n",
       "4               21                               In School   \n",
       "\n",
       "  economic_activity_location_id  school_goers  manufacturing_workers  \n",
       "0                           d_1             0                    0.0  \n",
       "1                           d_1             0                    0.0  \n",
       "2                           d_1             0                    0.0  \n",
       "3                           d_1             0                    0.0  \n",
       "4                           d_1             1                    0.0  "
      ]
     },
     "execution_count": 44,
     "metadata": {},
     "output_type": "execute_result"
    },
    {
     "name": "stdout",
     "output_type": "stream",
     "text": [
      "time: 17.8 ms\n"
     ]
    }
   ],
   "source": [
    "mining_df[relevant_cols].head()"
   ]
  },
  {
   "cell_type": "markdown",
   "metadata": {},
   "source": [
    "# Contingent on available data"
   ]
  },
  {
   "cell_type": "code",
   "execution_count": 31,
   "metadata": {},
   "outputs": [
    {
     "ename": "KeyError",
     "evalue": "'mining_district_id'",
     "output_type": "error",
     "traceback": [
      "\u001b[0;31m---------------------------------------------------------------------------\u001b[0m",
      "\u001b[0;31mKeyError\u001b[0m                                  Traceback (most recent call last)",
      "\u001b[0;32m/opt/anaconda3/envs/covid19_abm/lib/python3.8/site-packages/pandas/core/indexes/base.py\u001b[0m in \u001b[0;36mget_loc\u001b[0;34m(self, key, method, tolerance)\u001b[0m\n\u001b[1;32m   2894\u001b[0m             \u001b[0;32mtry\u001b[0m\u001b[0;34m:\u001b[0m\u001b[0;34m\u001b[0m\u001b[0;34m\u001b[0m\u001b[0m\n\u001b[0;32m-> 2895\u001b[0;31m                 \u001b[0;32mreturn\u001b[0m \u001b[0mself\u001b[0m\u001b[0;34m.\u001b[0m\u001b[0m_engine\u001b[0m\u001b[0;34m.\u001b[0m\u001b[0mget_loc\u001b[0m\u001b[0;34m(\u001b[0m\u001b[0mcasted_key\u001b[0m\u001b[0;34m)\u001b[0m\u001b[0;34m\u001b[0m\u001b[0;34m\u001b[0m\u001b[0m\n\u001b[0m\u001b[1;32m   2896\u001b[0m             \u001b[0;32mexcept\u001b[0m \u001b[0mKeyError\u001b[0m \u001b[0;32mas\u001b[0m \u001b[0merr\u001b[0m\u001b[0;34m:\u001b[0m\u001b[0;34m\u001b[0m\u001b[0;34m\u001b[0m\u001b[0m\n",
      "\u001b[0;32mpandas/_libs/index.pyx\u001b[0m in \u001b[0;36mpandas._libs.index.IndexEngine.get_loc\u001b[0;34m()\u001b[0m\n",
      "\u001b[0;32mpandas/_libs/index.pyx\u001b[0m in \u001b[0;36mpandas._libs.index.IndexEngine.get_loc\u001b[0;34m()\u001b[0m\n",
      "\u001b[0;32mpandas/_libs/index.pyx\u001b[0m in \u001b[0;36mpandas._libs.index.IndexEngine._get_loc_duplicates\u001b[0;34m()\u001b[0m\n",
      "\u001b[0;32mpandas/_libs/index.pyx\u001b[0m in \u001b[0;36mpandas._libs.index.IndexEngine._maybe_get_bool_indexer\u001b[0;34m()\u001b[0m\n",
      "\u001b[0;32mpandas/_libs/index.pyx\u001b[0m in \u001b[0;36mpandas._libs.index.IndexEngine._unpack_bool_indexer\u001b[0;34m()\u001b[0m\n",
      "\u001b[0;31mKeyError\u001b[0m: 'mining_district_id'",
      "\nThe above exception was the direct cause of the following exception:\n",
      "\u001b[0;31mKeyError\u001b[0m                                  Traceback (most recent call last)",
      "\u001b[0;32m<ipython-input-31-2c217fd94691>\u001b[0m in \u001b[0;36m<module>\u001b[0;34m\u001b[0m\n\u001b[1;32m      1\u001b[0m \u001b[0;31m# mining_df['serial_expanded'] = mining_df['serial'].map(lambda x: f'{x}_01')\u001b[0m\u001b[0;34m\u001b[0m\u001b[0;34m\u001b[0m\u001b[0;34m\u001b[0m\u001b[0m\n\u001b[1;32m      2\u001b[0m \u001b[0;31m# mining_df['household_id'] = mining_df['serial_expanded'].map(lambda x: f'h_{x}')\u001b[0m\u001b[0;34m\u001b[0m\u001b[0;34m\u001b[0m\u001b[0;34m\u001b[0m\u001b[0m\n\u001b[0;32m----> 3\u001b[0;31m \u001b[0mmining_df\u001b[0m\u001b[0;34m.\u001b[0m\u001b[0mloc\u001b[0m\u001b[0;34m[\u001b[0m\u001b[0mmining_df\u001b[0m\u001b[0;34m[\u001b[0m\u001b[0;34m'mining_district_id'\u001b[0m\u001b[0;34m]\u001b[0m \u001b[0;34m!=\u001b[0m \u001b[0;34m''\u001b[0m\u001b[0;34m,\u001b[0m \u001b[0;34m'mining_district_id'\u001b[0m\u001b[0;34m]\u001b[0m \u001b[0;34m=\u001b[0m \u001b[0mmining_df\u001b[0m\u001b[0;34m.\u001b[0m\u001b[0mloc\u001b[0m\u001b[0;34m[\u001b[0m\u001b[0mmining_df\u001b[0m\u001b[0;34m[\u001b[0m\u001b[0;34m'mining_district_id'\u001b[0m\u001b[0;34m]\u001b[0m \u001b[0;34m!=\u001b[0m \u001b[0;34m''\u001b[0m\u001b[0;34m,\u001b[0m \u001b[0;34m'mining_district_id'\u001b[0m\u001b[0;34m]\u001b[0m\u001b[0;34m.\u001b[0m\u001b[0mmap\u001b[0m\u001b[0;34m(\u001b[0m\u001b[0;32mlambda\u001b[0m \u001b[0mx\u001b[0m\u001b[0;34m:\u001b[0m \u001b[0;34mf'mining_{x}'\u001b[0m\u001b[0;34m)\u001b[0m\u001b[0;34m\u001b[0m\u001b[0;34m\u001b[0m\u001b[0m\n\u001b[0m\u001b[1;32m      4\u001b[0m \u001b[0mmining_df\u001b[0m\u001b[0;34m.\u001b[0m\u001b[0mloc\u001b[0m\u001b[0;34m[\u001b[0m\u001b[0mmining_df\u001b[0m\u001b[0;34m[\u001b[0m\u001b[0;34m'school_id_district'\u001b[0m\u001b[0;34m]\u001b[0m \u001b[0;34m!=\u001b[0m \u001b[0;34m''\u001b[0m\u001b[0;34m,\u001b[0m \u001b[0;34m'school_id_district'\u001b[0m\u001b[0;34m]\u001b[0m \u001b[0;34m=\u001b[0m \u001b[0mmining_df\u001b[0m\u001b[0;34m.\u001b[0m\u001b[0mloc\u001b[0m\u001b[0;34m[\u001b[0m\u001b[0mmining_df\u001b[0m\u001b[0;34m[\u001b[0m\u001b[0;34m'school_id_district'\u001b[0m\u001b[0;34m]\u001b[0m \u001b[0;34m!=\u001b[0m \u001b[0;34m''\u001b[0m\u001b[0;34m,\u001b[0m \u001b[0;34m'school_id_district'\u001b[0m\u001b[0;34m]\u001b[0m\u001b[0;34m.\u001b[0m\u001b[0mmap\u001b[0m\u001b[0;34m(\u001b[0m\u001b[0;32mlambda\u001b[0m \u001b[0mx\u001b[0m\u001b[0;34m:\u001b[0m \u001b[0;34mf'school_{x}'\u001b[0m\u001b[0;34m)\u001b[0m\u001b[0;34m\u001b[0m\u001b[0;34m\u001b[0m\u001b[0m\n",
      "\u001b[0;32m/opt/anaconda3/envs/covid19_abm/lib/python3.8/site-packages/pandas/core/frame.py\u001b[0m in \u001b[0;36m__getitem__\u001b[0;34m(self, key)\u001b[0m\n\u001b[1;32m   2900\u001b[0m             \u001b[0;32mif\u001b[0m \u001b[0mself\u001b[0m\u001b[0;34m.\u001b[0m\u001b[0mcolumns\u001b[0m\u001b[0;34m.\u001b[0m\u001b[0mnlevels\u001b[0m \u001b[0;34m>\u001b[0m \u001b[0;36m1\u001b[0m\u001b[0;34m:\u001b[0m\u001b[0;34m\u001b[0m\u001b[0;34m\u001b[0m\u001b[0m\n\u001b[1;32m   2901\u001b[0m                 \u001b[0;32mreturn\u001b[0m \u001b[0mself\u001b[0m\u001b[0;34m.\u001b[0m\u001b[0m_getitem_multilevel\u001b[0m\u001b[0;34m(\u001b[0m\u001b[0mkey\u001b[0m\u001b[0;34m)\u001b[0m\u001b[0;34m\u001b[0m\u001b[0;34m\u001b[0m\u001b[0m\n\u001b[0;32m-> 2902\u001b[0;31m             \u001b[0mindexer\u001b[0m \u001b[0;34m=\u001b[0m \u001b[0mself\u001b[0m\u001b[0;34m.\u001b[0m\u001b[0mcolumns\u001b[0m\u001b[0;34m.\u001b[0m\u001b[0mget_loc\u001b[0m\u001b[0;34m(\u001b[0m\u001b[0mkey\u001b[0m\u001b[0;34m)\u001b[0m\u001b[0;34m\u001b[0m\u001b[0;34m\u001b[0m\u001b[0m\n\u001b[0m\u001b[1;32m   2903\u001b[0m             \u001b[0;32mif\u001b[0m \u001b[0mis_integer\u001b[0m\u001b[0;34m(\u001b[0m\u001b[0mindexer\u001b[0m\u001b[0;34m)\u001b[0m\u001b[0;34m:\u001b[0m\u001b[0;34m\u001b[0m\u001b[0;34m\u001b[0m\u001b[0m\n\u001b[1;32m   2904\u001b[0m                 \u001b[0mindexer\u001b[0m \u001b[0;34m=\u001b[0m \u001b[0;34m[\u001b[0m\u001b[0mindexer\u001b[0m\u001b[0;34m]\u001b[0m\u001b[0;34m\u001b[0m\u001b[0;34m\u001b[0m\u001b[0m\n",
      "\u001b[0;32m/opt/anaconda3/envs/covid19_abm/lib/python3.8/site-packages/pandas/core/indexes/base.py\u001b[0m in \u001b[0;36mget_loc\u001b[0;34m(self, key, method, tolerance)\u001b[0m\n\u001b[1;32m   2895\u001b[0m                 \u001b[0;32mreturn\u001b[0m \u001b[0mself\u001b[0m\u001b[0;34m.\u001b[0m\u001b[0m_engine\u001b[0m\u001b[0;34m.\u001b[0m\u001b[0mget_loc\u001b[0m\u001b[0;34m(\u001b[0m\u001b[0mcasted_key\u001b[0m\u001b[0;34m)\u001b[0m\u001b[0;34m\u001b[0m\u001b[0;34m\u001b[0m\u001b[0m\n\u001b[1;32m   2896\u001b[0m             \u001b[0;32mexcept\u001b[0m \u001b[0mKeyError\u001b[0m \u001b[0;32mas\u001b[0m \u001b[0merr\u001b[0m\u001b[0;34m:\u001b[0m\u001b[0;34m\u001b[0m\u001b[0;34m\u001b[0m\u001b[0m\n\u001b[0;32m-> 2897\u001b[0;31m                 \u001b[0;32mraise\u001b[0m \u001b[0mKeyError\u001b[0m\u001b[0;34m(\u001b[0m\u001b[0mkey\u001b[0m\u001b[0;34m)\u001b[0m \u001b[0;32mfrom\u001b[0m \u001b[0merr\u001b[0m\u001b[0;34m\u001b[0m\u001b[0;34m\u001b[0m\u001b[0m\n\u001b[0m\u001b[1;32m   2898\u001b[0m \u001b[0;34m\u001b[0m\u001b[0m\n\u001b[1;32m   2899\u001b[0m         \u001b[0;32mif\u001b[0m \u001b[0mtolerance\u001b[0m \u001b[0;32mis\u001b[0m \u001b[0;32mnot\u001b[0m \u001b[0;32mNone\u001b[0m\u001b[0;34m:\u001b[0m\u001b[0;34m\u001b[0m\u001b[0;34m\u001b[0m\u001b[0m\n",
      "\u001b[0;31mKeyError\u001b[0m: 'mining_district_id'"
     ]
    },
    {
     "name": "stdout",
     "output_type": "stream",
     "text": [
      "time: 414 ms\n"
     ]
    }
   ],
   "source": [
    "# mining_df['serial_expanded'] = mining_df['serial'].map(lambda x: f'{x}_01')\n",
    "# mining_df['household_id'] = mining_df['serial_expanded'].map(lambda x: f'h_{x}')\n",
    "mining_df.loc[mining_df['mining_district_id'] != '', 'mining_district_id'] = mining_df.loc[mining_df['mining_district_id'] != '', 'mining_district_id'].map(lambda x: f'mining_{x}')\n",
    "mining_df.loc[mining_df['school_id_district'] != '', 'school_id_district'] = mining_df.loc[mining_df['school_id_district'] != '', 'school_id_district'].map(lambda x: f'school_{x}')"
   ]
  },
  {
   "cell_type": "code",
   "execution_count": null,
   "metadata": {},
   "outputs": [],
   "source": [
    "mining_df.head()"
   ]
  },
  {
   "cell_type": "code",
   "execution_count": null,
   "metadata": {},
   "outputs": [],
   "source": [
    "p = mining_df['economic_status']\n",
    "\n",
    "mining_df.loc[p == 'Disabled and not working', 'economic_activity_location_id'] = mining_df.loc[p == 'Disabled and not working', 'household_id']\n",
    "mining_df.loc[p != 'Disabled and not working', 'economic_activity_location_id'] = mining_df.loc[p != 'Disabled and not working', 'new_district_id']"
   ]
  },
  {
   "cell_type": "code",
   "execution_count": null,
   "metadata": {},
   "outputs": [],
   "source": [
    "try:\n",
    "    mining_df.drop('person_id', axis=1, inplace=True)\n",
    "except KeyError:\n",
    "    pass\n",
    "\n",
    "mining_df['person_id'] = mining_df.index\n",
    "mining_df['age'] = mining_df['age'].astype(int)\n",
    "mining_df['economic_status'] = mining_df['economic_status'].str.strip()\n",
    "mining_df.rename(columns={'new_district_id': 'district_id'}, inplace=True)"
   ]
  },
  {
   "cell_type": "code",
   "execution_count": null,
   "metadata": {},
   "outputs": [],
   "source": []
  },
  {
   "cell_type": "code",
   "execution_count": null,
   "metadata": {},
   "outputs": [],
   "source": []
  },
  {
   "cell_type": "code",
   "execution_count": null,
   "metadata": {},
   "outputs": [],
   "source": [
    "mining_df[relevant_cols][\n",
    "    mining_df.serial_expanded.str.endswith('_01')\n",
    "].to_pickle('../../data/zimbabwe_ipums_mining_manufacturing_school_new_dist_5pct.pickle')"
   ]
  },
  {
   "cell_type": "code",
   "execution_count": null,
   "metadata": {},
   "outputs": [],
   "source": [
    "mining_df[relevant_cols][\n",
    "    mining_df.serial_expanded.str.endswith('_01') | mining_df.serial_expanded.str.endswith('_02')\n",
    "].to_pickle('../../data/zimbabwe_ipums_mining_manufacturing_school_new_dist_10pct.pickle')"
   ]
  },
  {
   "cell_type": "code",
   "execution_count": null,
   "metadata": {},
   "outputs": [],
   "source": [
    "mining_df.shape"
   ]
  },
  {
   "cell_type": "code",
   "execution_count": null,
   "metadata": {},
   "outputs": [],
   "source": [
    "import pandas as pd"
   ]
  },
  {
   "cell_type": "code",
   "execution_count": null,
   "metadata": {},
   "outputs": [],
   "source": [
    "mining_df = pd.read_pickle('../../data/zimbabwe_ipums_mining_manufacturing_school_new_dist_10pct.pickle')"
   ]
  },
  {
   "cell_type": "code",
   "execution_count": null,
   "metadata": {},
   "outputs": [],
   "source": [
    "mining_df[mining_df['school_id_district'] != '']['person_id']"
   ]
  },
  {
   "cell_type": "code",
   "execution_count": null,
   "metadata": {},
   "outputs": [],
   "source": []
  },
  {
   "cell_type": "markdown",
   "metadata": {},
   "source": [
    "# Expand to 10%"
   ]
  },
  {
   "cell_type": "code",
   "execution_count": null,
   "metadata": {},
   "outputs": [],
   "source": [
    "mining_df"
   ]
  },
  {
   "cell_type": "code",
   "execution_count": null,
   "metadata": {},
   "outputs": [],
   "source": []
  },
  {
   "cell_type": "markdown",
   "metadata": {},
   "source": [
    "# Scratch"
   ]
  },
  {
   "cell_type": "code",
   "execution_count": null,
   "metadata": {},
   "outputs": [],
   "source": [
    "mining_df[~mining_df['household_id'].str.startswith('h_')]['person_id'].values"
   ]
  },
  {
   "cell_type": "code",
   "execution_count": null,
   "metadata": {},
   "outputs": [],
   "source": [
    "mining_df[mining_df.manufacturing_workers.notnull()].person_id"
   ]
  },
  {
   "cell_type": "code",
   "execution_count": null,
   "metadata": {},
   "outputs": [],
   "source": [
    "mining_df[mining_df['manufacturing_workers'].notnull()]['person_id'].values"
   ]
  },
  {
   "cell_type": "code",
   "execution_count": null,
   "metadata": {},
   "outputs": [],
   "source": [
    "mining_df[mining_df['school_id_district'] != '']['person_id'].values"
   ]
  },
  {
   "cell_type": "code",
   "execution_count": null,
   "metadata": {},
   "outputs": [],
   "source": [
    "mining_df['school_id_district'].shape"
   ]
  },
  {
   "cell_type": "code",
   "execution_count": null,
   "metadata": {},
   "outputs": [],
   "source": []
  }
 ],
 "metadata": {
  "kernelspec": {
   "display_name": "Python 3",
   "language": "python",
   "name": "python3"
  },
  "language_info": {
   "codemirror_mode": {
    "name": "ipython",
    "version": 3
   },
   "file_extension": ".py",
   "mimetype": "text/x-python",
   "name": "python",
   "nbconvert_exporter": "python",
   "pygments_lexer": "ipython3",
   "version": "3.8.3"
  }
 },
 "nbformat": 4,
 "nbformat_minor": 4
}
