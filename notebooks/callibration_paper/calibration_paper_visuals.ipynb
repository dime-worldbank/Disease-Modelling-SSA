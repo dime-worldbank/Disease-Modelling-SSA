{
 "cells": [
  {
   "cell_type": "markdown",
   "metadata": {},
   "source": [
    "# Compare average beta outputs - Feb 2023 paper"
   ]
  },
  {
   "cell_type": "markdown",
   "metadata": {},
   "source": [
    "## Purpose of file\n",
    "1. Import model output and generate means for each beta across each of the 10 runs with the same seeds\n",
    "\n",
    "2. Use Robbie's function to generate the means for (a) national and (b) district level \n",
    "\n",
    "3. Graph the results"
   ]
  },
  {
   "cell_type": "markdown",
   "metadata": {},
   "source": [
    "## 0. Set up"
   ]
  },
  {
   "cell_type": "code",
   "execution_count": 1,
   "metadata": {},
   "outputs": [],
   "source": [
    "#%reset # ensures I am starting from scratch when appending dataframes\n",
    "\n",
    "import pandas as pd\n",
    "import numpy as np\n",
    "from datetime import datetime, timedelta\n",
    "import matplotlib as mpl\n",
    "import matplotlib.pyplot as plt\n",
    "import os\n",
    "import pylab as plt\n",
    "from os.path import isfile, join\n",
    "from glob import glob\n",
    "\n",
    "import seaborn as sns\n",
    "sns.set(style=\"darkgrid\")"
   ]
  },
  {
   "cell_type": "code",
   "execution_count": 19,
   "metadata": {},
   "outputs": [],
   "source": [
    "#set file paths\n",
    "path_calib_output = \"/Users/sophieayling/Library/CloudStorage/OneDrive-UniversityCollegeLondon/GitHub/Disease-Modelling-SSA/data/output/calibration/50p/\"\n",
    "beta_270 = \"/Users/sophieayling/Library/CloudStorage/OneDrive-UniversityCollegeLondon/GitHub/Disease-Modelling-SSA/data/output/calibration/50p/beta_0.270/\"\n",
    "beta_791 = \"/Users/sophieayling/Library/CloudStorage/OneDrive-UniversityCollegeLondon/GitHub/Disease-Modelling-SSA/data/output/calibration/50p/beta_0.791/\"\n",
    "plots = \"/Users/sophieayling/Library/CloudStorage/OneDrive-UniversityCollegeLondon/GitHub/Disease-Modelling-SSA/data/output/plots/calibration_plots/\"\n",
    "#set input files \n",
    "r_dist_tots_deaths_cases = \"/Users/sophieayling/Library/CloudStorage/OneDrive-UniversityCollegeLondon/GitHub/Disease-Modelling-SSA/data/preprocessed/line_list/district_tots_deaths_cases.csv\"\n",
    "r_nat_owid = \"/Users/sophieayling/Library/CloudStorage/OneDrive-UniversityCollegeLondon/GitHub/Disease-Modelling-SSA/data/preprocessed/line_list/owid-reported_nat_cutdown.csv\"\n",
    "temp = \"/Users/sophieayling/Desktop/\""
   ]
  },
  {
   "cell_type": "markdown",
   "metadata": {},
   "source": [
    "### 1. National comparison graphs\n",
    "using Robbie's function to generate non-spatial and spatial averages "
   ]
  },
  {
   "cell_type": "code",
   "execution_count": 3,
   "metadata": {},
   "outputs": [],
   "source": [
    "def average_output_from_runs_v1(filepath, sample_size):\n",
    "    # create an empty dataframe to store the output in\n",
    "    storage_df = pd.DataFrame()\n",
    "    # Iterate over each file in the filepath\n",
    "    for file in os.listdir(filepath):\n",
    "        # read in the data\n",
    "        data = pd.read_csv(filepath + file, delimiter='\\t')\n",
    "        # drop the unnamed column\n",
    "        data = data.drop('Unnamed: 10', axis=1)\n",
    "        # store the output in the dataframe\n",
    "        storage_df = storage_df.append(data)\n",
    "    # Calculate the average values of each output by each day\n",
    "    storage_df = storage_df.groupby('time').mean()\n",
    "    # Scale the outputs to the population size\n",
    "    storage_df *= 100 / sample_size\n",
    "    # Calculate the total number of new cases\n",
    "    storage_df['new_cases'] = storage_df['metric_new_cases_asympt'] + storage_df['metric_new_cases_sympt']\n",
    "    # return the averaged outputs\n",
    "    return storage_df"
   ]
  },
  {
   "cell_type": "code",
   "execution_count": 4,
   "metadata": {},
   "outputs": [
    {
     "data": {
      "text/html": [
       "<div>\n",
       "<style scoped>\n",
       "    .dataframe tbody tr th:only-of-type {\n",
       "        vertical-align: middle;\n",
       "    }\n",
       "\n",
       "    .dataframe tbody tr th {\n",
       "        vertical-align: top;\n",
       "    }\n",
       "\n",
       "    .dataframe thead th {\n",
       "        text-align: right;\n",
       "    }\n",
       "</style>\n",
       "<table border=\"1\" class=\"dataframe\">\n",
       "  <thead>\n",
       "    <tr style=\"text-align: right;\">\n",
       "      <th></th>\n",
       "      <th>metric_died_count</th>\n",
       "      <th>metric_new_hospitalized</th>\n",
       "      <th>metric_new_critical</th>\n",
       "      <th>metric_new_cases_asympt</th>\n",
       "      <th>metric_new_cases_sympt</th>\n",
       "      <th>metric_new_deaths</th>\n",
       "      <th>metric_new_recovered</th>\n",
       "      <th>metric_currently_infected</th>\n",
       "      <th>new_cases</th>\n",
       "      <th>day</th>\n",
       "    </tr>\n",
       "    <tr>\n",
       "      <th>time</th>\n",
       "      <th></th>\n",
       "      <th></th>\n",
       "      <th></th>\n",
       "      <th></th>\n",
       "      <th></th>\n",
       "      <th></th>\n",
       "      <th></th>\n",
       "      <th></th>\n",
       "      <th></th>\n",
       "      <th></th>\n",
       "    </tr>\n",
       "  </thead>\n",
       "  <tbody>\n",
       "    <tr>\n",
       "      <th>0</th>\n",
       "      <td>0.0</td>\n",
       "      <td>0.0</td>\n",
       "      <td>0.0</td>\n",
       "      <td>1.983333</td>\n",
       "      <td>2.016667</td>\n",
       "      <td>0.0</td>\n",
       "      <td>0.0</td>\n",
       "      <td>0.0</td>\n",
       "      <td>4.000000</td>\n",
       "      <td>0</td>\n",
       "    </tr>\n",
       "    <tr>\n",
       "      <th>1</th>\n",
       "      <td>0.0</td>\n",
       "      <td>0.0</td>\n",
       "      <td>0.0</td>\n",
       "      <td>0.000000</td>\n",
       "      <td>0.000000</td>\n",
       "      <td>0.0</td>\n",
       "      <td>0.0</td>\n",
       "      <td>4.0</td>\n",
       "      <td>0.000000</td>\n",
       "      <td>1</td>\n",
       "    </tr>\n",
       "    <tr>\n",
       "      <th>2</th>\n",
       "      <td>0.0</td>\n",
       "      <td>0.0</td>\n",
       "      <td>0.0</td>\n",
       "      <td>0.000000</td>\n",
       "      <td>0.000000</td>\n",
       "      <td>0.0</td>\n",
       "      <td>0.0</td>\n",
       "      <td>4.0</td>\n",
       "      <td>0.000000</td>\n",
       "      <td>2</td>\n",
       "    </tr>\n",
       "    <tr>\n",
       "      <th>3</th>\n",
       "      <td>0.0</td>\n",
       "      <td>0.0</td>\n",
       "      <td>0.0</td>\n",
       "      <td>0.000000</td>\n",
       "      <td>0.000000</td>\n",
       "      <td>0.0</td>\n",
       "      <td>0.0</td>\n",
       "      <td>4.0</td>\n",
       "      <td>0.000000</td>\n",
       "      <td>3</td>\n",
       "    </tr>\n",
       "    <tr>\n",
       "      <th>4</th>\n",
       "      <td>0.0</td>\n",
       "      <td>0.0</td>\n",
       "      <td>0.0</td>\n",
       "      <td>0.016667</td>\n",
       "      <td>0.041667</td>\n",
       "      <td>0.0</td>\n",
       "      <td>0.0</td>\n",
       "      <td>4.0</td>\n",
       "      <td>0.058333</td>\n",
       "      <td>4</td>\n",
       "    </tr>\n",
       "  </tbody>\n",
       "</table>\n",
       "</div>"
      ],
      "text/plain": [
       "      metric_died_count  metric_new_hospitalized  metric_new_critical  \\\n",
       "time                                                                    \n",
       "0                   0.0                      0.0                  0.0   \n",
       "1                   0.0                      0.0                  0.0   \n",
       "2                   0.0                      0.0                  0.0   \n",
       "3                   0.0                      0.0                  0.0   \n",
       "4                   0.0                      0.0                  0.0   \n",
       "\n",
       "      metric_new_cases_asympt  metric_new_cases_sympt  metric_new_deaths  \\\n",
       "time                                                                       \n",
       "0                    1.983333                2.016667                0.0   \n",
       "1                    0.000000                0.000000                0.0   \n",
       "2                    0.000000                0.000000                0.0   \n",
       "3                    0.000000                0.000000                0.0   \n",
       "4                    0.016667                0.041667                0.0   \n",
       "\n",
       "      metric_new_recovered  metric_currently_infected  new_cases  day  \n",
       "time                                                                   \n",
       "0                      0.0                        0.0   4.000000    0  \n",
       "1                      0.0                        4.0   0.000000    1  \n",
       "2                      0.0                        4.0   0.000000    2  \n",
       "3                      0.0                        4.0   0.000000    3  \n",
       "4                      0.0                        4.0   0.058333    4  "
      ]
     },
     "execution_count": 4,
     "metadata": {},
     "output_type": "execute_result"
    }
   ],
   "source": [
    "beta_791_non_spatial = average_output_from_runs_v1(beta_791,50)\n",
    "beta_791_non_spatial['day']=beta_791_non_spatial.index\n",
    "beta_791_non_spatial.head()\n"
   ]
  },
  {
   "cell_type": "markdown",
   "metadata": {},
   "source": [
    "### b. Join OWID case data to national model output"
   ]
  },
  {
   "cell_type": "code",
   "execution_count": 5,
   "metadata": {},
   "outputs": [
    {
     "data": {
      "text/html": [
       "<div>\n",
       "<style scoped>\n",
       "    .dataframe tbody tr th:only-of-type {\n",
       "        vertical-align: middle;\n",
       "    }\n",
       "\n",
       "    .dataframe tbody tr th {\n",
       "        vertical-align: top;\n",
       "    }\n",
       "\n",
       "    .dataframe thead th {\n",
       "        text-align: right;\n",
       "    }\n",
       "</style>\n",
       "<table border=\"1\" class=\"dataframe\">\n",
       "  <thead>\n",
       "    <tr style=\"text-align: right;\">\n",
       "      <th></th>\n",
       "      <th>day</th>\n",
       "      <th>owid_date</th>\n",
       "      <th>owid_new_cases</th>\n",
       "      <th>owid_new_deaths</th>\n",
       "    </tr>\n",
       "  </thead>\n",
       "  <tbody>\n",
       "    <tr>\n",
       "      <th>0</th>\n",
       "      <td>0</td>\n",
       "      <td>20/03/2020</td>\n",
       "      <td>1.0</td>\n",
       "      <td>NaN</td>\n",
       "    </tr>\n",
       "    <tr>\n",
       "      <th>1</th>\n",
       "      <td>1</td>\n",
       "      <td>21/03/2020</td>\n",
       "      <td>2.0</td>\n",
       "      <td>NaN</td>\n",
       "    </tr>\n",
       "    <tr>\n",
       "      <th>2</th>\n",
       "      <td>2</td>\n",
       "      <td>22/03/2020</td>\n",
       "      <td>0.0</td>\n",
       "      <td>NaN</td>\n",
       "    </tr>\n",
       "    <tr>\n",
       "      <th>3</th>\n",
       "      <td>3</td>\n",
       "      <td>23/03/2020</td>\n",
       "      <td>0.0</td>\n",
       "      <td>1.0</td>\n",
       "    </tr>\n",
       "    <tr>\n",
       "      <th>4</th>\n",
       "      <td>4</td>\n",
       "      <td>24/03/2020</td>\n",
       "      <td>0.0</td>\n",
       "      <td>0.0</td>\n",
       "    </tr>\n",
       "  </tbody>\n",
       "</table>\n",
       "</div>"
      ],
      "text/plain": [
       "   day   owid_date  owid_new_cases  owid_new_deaths\n",
       "0    0  20/03/2020             1.0              NaN\n",
       "1    1  21/03/2020             2.0              NaN\n",
       "2    2  22/03/2020             0.0              NaN\n",
       "3    3  23/03/2020             0.0              1.0\n",
       "4    4  24/03/2020             0.0              0.0"
      ]
     },
     "execution_count": 5,
     "metadata": {},
     "output_type": "execute_result"
    }
   ],
   "source": [
    "## 2b. Join reported case data to the model output \n",
    "#add on the true data \n",
    "owid= pd.read_csv(r_nat_owid)\n",
    "owid.rename(columns={'date':'owid_date'}, inplace=True)\n",
    "owid.rename(columns={'new_cases':'owid_new_cases'}, inplace=True)\n",
    "owid.rename(columns={'new_deaths':'owid_new_deaths'}, inplace=True)\n",
    "owid = owid[['day','owid_date','owid_new_cases', 'owid_new_deaths']]\n",
    "#make sure they both start on day zero (so change day to index value)\n",
    "owid['day']=owid.index\n",
    "\n",
    "owid.head()"
   ]
  },
  {
   "cell_type": "code",
   "execution_count": 40,
   "metadata": {},
   "outputs": [
    {
     "data": {
      "text/html": [
       "<div>\n",
       "<style scoped>\n",
       "    .dataframe tbody tr th:only-of-type {\n",
       "        vertical-align: middle;\n",
       "    }\n",
       "\n",
       "    .dataframe tbody tr th {\n",
       "        vertical-align: top;\n",
       "    }\n",
       "\n",
       "    .dataframe thead th {\n",
       "        text-align: right;\n",
       "    }\n",
       "</style>\n",
       "<table border=\"1\" class=\"dataframe\">\n",
       "  <thead>\n",
       "    <tr style=\"text-align: right;\">\n",
       "      <th></th>\n",
       "      <th>owid_new_cases</th>\n",
       "      <th>new_cases</th>\n",
       "    </tr>\n",
       "  </thead>\n",
       "  <tbody>\n",
       "    <tr>\n",
       "      <th>0</th>\n",
       "      <td>1.0</td>\n",
       "      <td>4.000000</td>\n",
       "    </tr>\n",
       "    <tr>\n",
       "      <th>1</th>\n",
       "      <td>2.0</td>\n",
       "      <td>0.000000</td>\n",
       "    </tr>\n",
       "    <tr>\n",
       "      <th>2</th>\n",
       "      <td>0.0</td>\n",
       "      <td>0.000000</td>\n",
       "    </tr>\n",
       "    <tr>\n",
       "      <th>3</th>\n",
       "      <td>0.0</td>\n",
       "      <td>0.000000</td>\n",
       "    </tr>\n",
       "    <tr>\n",
       "      <th>4</th>\n",
       "      <td>0.0</td>\n",
       "      <td>0.058333</td>\n",
       "    </tr>\n",
       "  </tbody>\n",
       "</table>\n",
       "</div>"
      ],
      "text/plain": [
       "   owid_new_cases  new_cases\n",
       "0             1.0   4.000000\n",
       "1             2.0   0.000000\n",
       "2             0.0   0.000000\n",
       "3             0.0   0.000000\n",
       "4             0.0   0.058333"
      ]
     },
     "execution_count": 40,
     "metadata": {},
     "output_type": "execute_result"
    }
   ],
   "source": [
    "#join true and sim data\n",
    "owid_plus_sim = pd.merge(owid,beta_791_non_spatial, on ='day', how='outer', validate='one_to_one')\n",
    "\n",
    "# cut down to key vars \n",
    "owid_plus_sim = owid_plus_sim[['day', 'owid_date','owid_new_cases', 'new_cases', 'owid_new_deaths', 'metric_new_deaths', 'metric_new_cases_asympt', 'metric_new_cases_sympt' ]]\n",
    "#only keep where the merge is not missing in the simulation\n",
    "owid_plus_sim.head()\n",
    "nat_data = owid_plus_sim[['owid_new_cases', 'new_cases']]\n",
    "nat_data.head() "
   ]
  },
  {
   "cell_type": "markdown",
   "metadata": {},
   "source": [
    "### national level line graph (needs to shift the code below to be subplots)"
   ]
  },
  {
   "cell_type": "code",
   "execution_count": 44,
   "metadata": {},
   "outputs": [
    {
     "data": {
      "image/png": "[encoded data removed]",
      "text/plain": [
       "<Figure size 432x288 with 1 Axes>"
      ]
     },
     "metadata": {},
     "output_type": "display_data"
    }
   ],
   "source": [
    "fig,ax = plt.subplots()\n",
    "sns.lineplot(data=nat_data, ax=ax)\n",
    "ax.set_xlim(1,100)\n",
    "plt.show()"
   ]
  },
  {
   "cell_type": "markdown",
   "metadata": {},
   "source": [
    "## 2. for the spatial model (district level)"
   ]
  },
  {
   "cell_type": "code",
   "execution_count": 7,
   "metadata": {},
   "outputs": [],
   "source": [
    "def average_output_from_runs_v3(filepath, sample_size):\n",
    "    # create an empty dataframe to store the output in\n",
    "    storage_df = pd.DataFrame()\n",
    "    # Iterate over each file in the filepath\n",
    "    for file in os.listdir(filepath):\n",
    "        # read in the data\n",
    "        data = pd.read_csv(filepath + file, delimiter='\\t')\n",
    "        # drop the unnamed column\n",
    "        data = data.drop('Unnamed: 10', axis=1)\n",
    "        # group the estimates from each district by time to get a population level overview\n",
    "        data = data.groupby(['time', 'myId']).sum()\n",
    "        # calculate the number of new cases\n",
    "        data['new_cases'] = data['metric_new_cases_asympt'] + data['metric_new_cases_sympt']\n",
    "        # store the averaged out metrics in the dataframe\n",
    "        storage_df = storage_df.append(data)\n",
    "    # scale estimates to population levels\n",
    "    storage_df *= 100 / sample_size\n",
    "    # group averaged out estimates by time\n",
    "    storage_df = storage_df.groupby(['time', 'myId']).mean()\n",
    "    # return the dataframe\n",
    "    return storage_df"
   ]
  },
  {
   "cell_type": "markdown",
   "metadata": {},
   "source": [
    "### bring in model data (for all betas)"
   ]
  },
  {
   "cell_type": "code",
   "execution_count": 26,
   "metadata": {},
   "outputs": [
    {
     "data": {
      "text/html": [
       "<div>\n",
       "<style scoped>\n",
       "    .dataframe tbody tr th:only-of-type {\n",
       "        vertical-align: middle;\n",
       "    }\n",
       "\n",
       "    .dataframe tbody tr th {\n",
       "        vertical-align: top;\n",
       "    }\n",
       "\n",
       "    .dataframe thead th {\n",
       "        text-align: right;\n",
       "    }\n",
       "</style>\n",
       "<table border=\"1\" class=\"dataframe\">\n",
       "  <thead>\n",
       "    <tr style=\"text-align: right;\">\n",
       "      <th></th>\n",
       "      <th>metric_new_cases_sympt</th>\n",
       "      <th>metric_new_deaths</th>\n",
       "    </tr>\n",
       "    <tr>\n",
       "      <th>districtId</th>\n",
       "      <th></th>\n",
       "      <th></th>\n",
       "    </tr>\n",
       "  </thead>\n",
       "  <tbody>\n",
       "    <tr>\n",
       "      <th>1</th>\n",
       "      <td>3.280993e+05</td>\n",
       "      <td>1123.833333</td>\n",
       "    </tr>\n",
       "    <tr>\n",
       "      <th>2</th>\n",
       "      <td>1.026138e+06</td>\n",
       "      <td>2423.666667</td>\n",
       "    </tr>\n",
       "    <tr>\n",
       "      <th>3</th>\n",
       "      <td>1.062072e+05</td>\n",
       "      <td>767.000000</td>\n",
       "    </tr>\n",
       "    <tr>\n",
       "      <th>4</th>\n",
       "      <td>6.408267e+04</td>\n",
       "      <td>378.833333</td>\n",
       "    </tr>\n",
       "    <tr>\n",
       "      <th>5</th>\n",
       "      <td>1.424473e+05</td>\n",
       "      <td>625.833333</td>\n",
       "    </tr>\n",
       "  </tbody>\n",
       "</table>\n",
       "</div>"
      ],
      "text/plain": [
       "            metric_new_cases_sympt  metric_new_deaths\n",
       "districtId                                           \n",
       "1                     3.280993e+05        1123.833333\n",
       "2                     1.026138e+06        2423.666667\n",
       "3                     1.062072e+05         767.000000\n",
       "4                     6.408267e+04         378.833333\n",
       "5                     1.424473e+05         625.833333"
      ]
     },
     "execution_count": 26,
     "metadata": {},
     "output_type": "execute_result"
    }
   ],
   "source": [
    "beta_791_spatial = average_output_from_runs_v3(beta_791,50)\n",
    "beta_791_spatial.reset_index(level=['time', 'myId'], inplace=True)\n",
    "beta_791_spatial['districtId'] = [int(str(x).split('_')[1]) for x in beta_791_spatial['myId']]\n",
    "# districtId was added as last column\n",
    "beta_791_spatial.head()\n",
    "#just keep output as a copy to check against:\n",
    "beta_791_spatial.to_csv(temp+'test_791.csv')\n",
    "\n",
    "#create a district level totals file for lolipops and do multiple betas on one lolipop\n",
    "beta_791_dist_tots = beta_791_spatial.groupby(['districtId']).agg({'metric_new_cases_sympt': np.sum, 'metric_new_deaths': np.sum})\n",
    "beta_791_dist_tots.head()\n",
    "## the metric_new_cases_sympt is just displaying oddly and needs formatting to be wider, but the calculation is correct"
   ]
  },
  {
   "cell_type": "code",
   "execution_count": 9,
   "metadata": {},
   "outputs": [
    {
     "data": {
      "text/html": [
       "<div>\n",
       "<style scoped>\n",
       "    .dataframe tbody tr th:only-of-type {\n",
       "        vertical-align: middle;\n",
       "    }\n",
       "\n",
       "    .dataframe tbody tr th {\n",
       "        vertical-align: top;\n",
       "    }\n",
       "\n",
       "    .dataframe thead th {\n",
       "        text-align: right;\n",
       "    }\n",
       "</style>\n",
       "<table border=\"1\" class=\"dataframe\">\n",
       "  <thead>\n",
       "    <tr style=\"text-align: right;\">\n",
       "      <th></th>\n",
       "      <th>metric_new_cases_sympt</th>\n",
       "      <th>metric_new_deaths</th>\n",
       "    </tr>\n",
       "    <tr>\n",
       "      <th>districtId</th>\n",
       "      <th></th>\n",
       "      <th></th>\n",
       "    </tr>\n",
       "  </thead>\n",
       "  <tbody>\n",
       "    <tr>\n",
       "      <th>1</th>\n",
       "      <td>3.280993e+05</td>\n",
       "      <td>1123.833333</td>\n",
       "    </tr>\n",
       "    <tr>\n",
       "      <th>2</th>\n",
       "      <td>1.026138e+06</td>\n",
       "      <td>2423.666667</td>\n",
       "    </tr>\n",
       "    <tr>\n",
       "      <th>3</th>\n",
       "      <td>1.062072e+05</td>\n",
       "      <td>767.000000</td>\n",
       "    </tr>\n",
       "    <tr>\n",
       "      <th>4</th>\n",
       "      <td>6.408267e+04</td>\n",
       "      <td>378.833333</td>\n",
       "    </tr>\n",
       "    <tr>\n",
       "      <th>5</th>\n",
       "      <td>1.424473e+05</td>\n",
       "      <td>625.833333</td>\n",
       "    </tr>\n",
       "  </tbody>\n",
       "</table>\n",
       "</div>"
      ],
      "text/plain": [
       "            metric_new_cases_sympt  metric_new_deaths\n",
       "districtId                                           \n",
       "1                     3.280993e+05        1123.833333\n",
       "2                     1.026138e+06        2423.666667\n",
       "3                     1.062072e+05         767.000000\n",
       "4                     6.408267e+04         378.833333\n",
       "5                     1.424473e+05         625.833333"
      ]
     },
     "execution_count": 9,
     "metadata": {},
     "output_type": "execute_result"
    }
   ],
   "source": []
  },
  {
   "cell_type": "markdown",
   "metadata": {},
   "source": [
    "### 2b. Join reported case data to district level model output (totals version)"
   ]
  },
  {
   "cell_type": "code",
   "execution_count": 10,
   "metadata": {},
   "outputs": [
    {
     "data": {
      "text/html": [
       "<div>\n",
       "<style scoped>\n",
       "    .dataframe tbody tr th:only-of-type {\n",
       "        vertical-align: middle;\n",
       "    }\n",
       "\n",
       "    .dataframe tbody tr th {\n",
       "        vertical-align: top;\n",
       "    }\n",
       "\n",
       "    .dataframe thead th {\n",
       "        text-align: right;\n",
       "    }\n",
       "</style>\n",
       "<table border=\"1\" class=\"dataframe\">\n",
       "  <thead>\n",
       "    <tr style=\"text-align: right;\">\n",
       "      <th></th>\n",
       "      <th>districtId</th>\n",
       "      <th>district_name_shpfile</th>\n",
       "      <th>moh_cases_by_dist</th>\n",
       "      <th>moh_deaths_by_dist</th>\n",
       "    </tr>\n",
       "  </thead>\n",
       "  <tbody>\n",
       "    <tr>\n",
       "      <th>0</th>\n",
       "      <td>1</td>\n",
       "      <td>Bulawayo</td>\n",
       "      <td>1044</td>\n",
       "      <td>26</td>\n",
       "    </tr>\n",
       "    <tr>\n",
       "      <th>1</th>\n",
       "      <td>2</td>\n",
       "      <td>Harare</td>\n",
       "      <td>2540</td>\n",
       "      <td>50</td>\n",
       "    </tr>\n",
       "    <tr>\n",
       "      <th>2</th>\n",
       "      <td>3</td>\n",
       "      <td>Buhera</td>\n",
       "      <td>20</td>\n",
       "      <td>0</td>\n",
       "    </tr>\n",
       "    <tr>\n",
       "      <th>3</th>\n",
       "      <td>4</td>\n",
       "      <td>Chimanimani</td>\n",
       "      <td>14</td>\n",
       "      <td>2</td>\n",
       "    </tr>\n",
       "    <tr>\n",
       "      <th>4</th>\n",
       "      <td>5</td>\n",
       "      <td>Chipinge</td>\n",
       "      <td>60</td>\n",
       "      <td>0</td>\n",
       "    </tr>\n",
       "  </tbody>\n",
       "</table>\n",
       "</div>"
      ],
      "text/plain": [
       "   districtId district_name_shpfile  moh_cases_by_dist  moh_deaths_by_dist\n",
       "0           1              Bulawayo               1044                  26\n",
       "1           2                Harare               2540                  50\n",
       "2           3                Buhera                 20                   0\n",
       "3           4           Chimanimani                 14                   2\n",
       "4           5              Chipinge                 60                   0"
      ]
     },
     "execution_count": 10,
     "metadata": {},
     "output_type": "execute_result"
    }
   ],
   "source": [
    "## 2b. Join reported case data to the model output \n",
    "\n",
    "#add on the reported data \n",
    "moh_dist = pd.read_csv(r_dist_tots_deaths_cases)\n",
    "moh_dist.head()\n",
    "\n",
    "moh_dist.rename(columns={'new_district_id':'districtId'}, inplace=True)\n",
    "\n",
    "moh_dist.rename(columns={'tot_cases_by_district':'moh_cases_by_dist'}, inplace=True)\n",
    "moh_dist.rename(columns={'tot_deaths_by_district':'moh_deaths_by_dist'}, inplace=True)\n",
    "\n",
    "moh_dist.head()"
   ]
  },
  {
   "cell_type": "code",
   "execution_count": 15,
   "metadata": {},
   "outputs": [
    {
     "data": {
      "text/html": [
       "<div>\n",
       "<style scoped>\n",
       "    .dataframe tbody tr th:only-of-type {\n",
       "        vertical-align: middle;\n",
       "    }\n",
       "\n",
       "    .dataframe tbody tr th {\n",
       "        vertical-align: top;\n",
       "    }\n",
       "\n",
       "    .dataframe thead th {\n",
       "        text-align: right;\n",
       "    }\n",
       "</style>\n",
       "<table border=\"1\" class=\"dataframe\">\n",
       "  <thead>\n",
       "    <tr style=\"text-align: right;\">\n",
       "      <th></th>\n",
       "      <th>districtId</th>\n",
       "      <th>district_name_shpfile</th>\n",
       "      <th>moh_cases_by_dist</th>\n",
       "      <th>metric_new_cases_sympt</th>\n",
       "      <th>moh_deaths_by_dist</th>\n",
       "      <th>metric_new_deaths</th>\n",
       "    </tr>\n",
       "  </thead>\n",
       "  <tbody>\n",
       "    <tr>\n",
       "      <th>0</th>\n",
       "      <td>1</td>\n",
       "      <td>Bulawayo</td>\n",
       "      <td>1044</td>\n",
       "      <td>3.280993e+05</td>\n",
       "      <td>26</td>\n",
       "      <td>1123.833333</td>\n",
       "    </tr>\n",
       "    <tr>\n",
       "      <th>1</th>\n",
       "      <td>2</td>\n",
       "      <td>Harare</td>\n",
       "      <td>2540</td>\n",
       "      <td>1.026138e+06</td>\n",
       "      <td>50</td>\n",
       "      <td>2423.666667</td>\n",
       "    </tr>\n",
       "    <tr>\n",
       "      <th>2</th>\n",
       "      <td>3</td>\n",
       "      <td>Buhera</td>\n",
       "      <td>20</td>\n",
       "      <td>1.062072e+05</td>\n",
       "      <td>0</td>\n",
       "      <td>767.000000</td>\n",
       "    </tr>\n",
       "    <tr>\n",
       "      <th>3</th>\n",
       "      <td>4</td>\n",
       "      <td>Chimanimani</td>\n",
       "      <td>14</td>\n",
       "      <td>6.408267e+04</td>\n",
       "      <td>2</td>\n",
       "      <td>378.833333</td>\n",
       "    </tr>\n",
       "    <tr>\n",
       "      <th>4</th>\n",
       "      <td>5</td>\n",
       "      <td>Chipinge</td>\n",
       "      <td>60</td>\n",
       "      <td>1.424473e+05</td>\n",
       "      <td>0</td>\n",
       "      <td>625.833333</td>\n",
       "    </tr>\n",
       "  </tbody>\n",
       "</table>\n",
       "</div>"
      ],
      "text/plain": [
       "   districtId district_name_shpfile  moh_cases_by_dist  \\\n",
       "0           1              Bulawayo               1044   \n",
       "1           2                Harare               2540   \n",
       "2           3                Buhera                 20   \n",
       "3           4           Chimanimani                 14   \n",
       "4           5              Chipinge                 60   \n",
       "\n",
       "   metric_new_cases_sympt  moh_deaths_by_dist  metric_new_deaths  \n",
       "0            3.280993e+05                  26        1123.833333  \n",
       "1            1.026138e+06                  50        2423.666667  \n",
       "2            1.062072e+05                   0         767.000000  \n",
       "3            6.408267e+04                   2         378.833333  \n",
       "4            1.424473e+05                   0         625.833333  "
      ]
     },
     "execution_count": 15,
     "metadata": {},
     "output_type": "execute_result"
    }
   ],
   "source": [
    "#join moh and sim data at district level\n",
    "dist_moh_plus_sim = pd.merge (moh_dist,beta_791_dist_tots, on = 'districtId', how='outer', validate='one_to_one')\n",
    "dist_moh_plus_sim = dist_moh_plus_sim[['districtId', 'district_name_shpfile', 'moh_cases_by_dist', 'metric_new_cases_sympt', 'moh_deaths_by_dist', 'metric_new_deaths']]\n",
    "dist_moh_plus_sim.head()"
   ]
  },
  {
   "cell_type": "markdown",
   "metadata": {},
   "source": [
    "### Lolipop plots  (can do this for multiple betas, to see which ones are closer)"
   ]
  },
  {
   "cell_type": "code",
   "execution_count": 29,
   "metadata": {},
   "outputs": [
    {
     "data": {
      "image/png": "[encoded data removed]",
      "text/plain": [
       "<Figure size 720x1080 with 1 Axes>"
      ]
     },
     "metadata": {},
     "output_type": "display_data"
    }
   ],
   "source": [
    "# Reorder it following the values of the first value:\n",
    "ordered_df = dist_moh_plus_sim.sort_values(by='moh_cases_by_dist')\n",
    "#ordered_df = dist_true_plus_sim[['districtId', 'true_cases_by_dist', 'sim_tot_cases_dist_med']]\n",
    "\n",
    "my_range=range(1,len(dist_moh_plus_sim.index)+1)\n",
    "fig, ax = plt.subplots (figsize = (10, 15))\n",
    "\n",
    "# The horizontal plot is made using the hline function\n",
    "#plt.hlines(y=ordered_df['district_name_shpfile'], xmin=ordered_df['true_cases_by_dist'], xmax=ordered_df['sim_tot_cases_dist_med'], color='grey', alpha=0.4)\n",
    "plt.scatter(ordered_df['moh_cases_by_dist'], my_range, color='red', alpha=1, label='MoH estimated total cases by district')\n",
    "plt.scatter(ordered_df['metric_new_cases_sympt'], my_range, color='green', alpha=0.4 , label='ABM total cases by district')\n",
    "plt.legend(loc='lower right')\n",
    " \n",
    "# Add title and axis names\n",
    "plt.yticks(my_range, ordered_df['district_name_shpfile'])\n",
    "plt.title(\"Comparison of MoH and ABM estimates on Total (symptomatic) Cases by district\", loc='left')\n",
    "plt.xlabel('Total cases by District')\n",
    "plt.ylabel('District')\n",
    "\n",
    "#limit range on axis\n",
    "plt.xlim([0, 100000])\n",
    "\n",
    "# Show the graph\n",
    "plt.savefig(plots+'lolipop_b791.png')\n",
    "\n"
   ]
  },
  {
   "cell_type": "code",
   "execution_count": null,
   "metadata": {},
   "outputs": [],
   "source": [
    "# Reorder it following the values of the first value:\n",
    "ordered_df = dist_true_plus_sim.sort_values(by='true_deaths_by_dist')\n",
    "#ordered_df = dist_true_plus_sim[['districtId', 'true_cases_by_dist', 'sim_tot_cases_dist_med']]\n",
    "\n",
    "my_range=range(1,len(dist_true_plus_sim.index)+1)\n",
    "fig, ax = plt.subplots (figsize = (10, 15))\n",
    "\n",
    "# The horizontal plot is made using the hline function\n",
    "#plt.hlines(y=ordered_df['district_name_shpfile'], xmin=ordered_df['true_cases_by_dist'], xmax=ordered_df['sim_tot_cases_dist_med'], color='grey', alpha=0.4)\n",
    "plt.scatter(ordered_df['true_deaths_by_dist'], my_range, color='red', alpha=1, label='total true deaths by district')\n",
    "plt.scatter(ordered_df['sim_tot_deaths_dist_med'], my_range, color='green', alpha=0.4 , label='total sim deaths by district')\n",
    "plt.legend(loc='lower right')\n",
    " \n",
    "# Add title and axis names\n",
    "plt.yticks(my_range, ordered_df['district_name_shpfile'])\n",
    "plt.title(\"Comparison of Sim and True data on Total Deaths by district\", loc='left')\n",
    "plt.xlabel('Total deaths by District')\n",
    "plt.ylabel('District')\n",
    "\n",
    "# Show the graph\n",
    "plt.savefig(path+'plots/district/box_plots/tot_deaths_dists_sim_vs_true.png')\n",
    "\n"
   ]
  },
  {
   "cell_type": "markdown",
   "metadata": {},
   "source": [
    "## Make national level graphs with multiple lines"
   ]
  },
  {
   "cell_type": "code",
   "execution_count": null,
   "metadata": {},
   "outputs": [],
   "source": [
    "g = sns.relplot(x=\"time\", y=\"metric_new_cases_sympt\", kind=\"line\", hue=\"seed\", ci=None, data=nat_level).set(title=\"Case projections of 10 runs - before scaling - 5 perc, 0.3 beta\")\n",
    "g.fig.autofmt_xdate()\n",
    "g.savefig('../data/output/plots/sim_cases_10runs_iccs.png')"
   ]
  },
  {
   "cell_type": "code",
   "execution_count": null,
   "metadata": {},
   "outputs": [],
   "source": [
    "g = sns.relplot(x=\"time\", y=\"scaled_sim_cases\", kind=\"line\", hue=\"seed\", ci=None, data=nat_level).set(title=\"Case projections of 10 runs - after scaling\")\n",
    "g.fig.autofmt_xdate()\n",
    "g.savefig('../data/output/plots/sim_cases_scaled_10runs.png')"
   ]
  },
  {
   "cell_type": "code",
   "execution_count": null,
   "metadata": {},
   "outputs": [],
   "source": [
    "g = sns.relplot(x=\"time\", y=\"metric_died_count\", kind=\"line\", hue=\"seed\", ci=None, data=nat_level).set(title=\"Death projections of 10 runs - before scaling\")\n",
    "g.fig.autofmt_xdate()\n",
    "g.savefig('../data/output/plots/sim_deaths_10runs.png')"
   ]
  },
  {
   "cell_type": "code",
   "execution_count": null,
   "metadata": {
    "scrolled": true
   },
   "outputs": [],
   "source": [
    "g = sns.relplot(x=\"time\", y=\"scaled_cum_deaths\", kind=\"line\", hue=\"seed\", ci=None, data=nat_level).set(title=\"Death projections of 10 runs - before scaling\")\n",
    "g.fig.autofmt_xdate()\n",
    "g.savefig('../data/output/plots/sim_deaths_scaled_10runs.png')"
   ]
  },
  {
   "cell_type": "markdown",
   "metadata": {},
   "source": [
    "### Process first case files "
   ]
  },
  {
   "cell_type": "code",
   "execution_count": null,
   "metadata": {
    "scrolled": true
   },
   "outputs": [],
   "source": [
    "# keeping only where the number of either symptomatic or asymptomatic is >0\n",
    "cases = iccs_exports[(iccs_exports.metric_new_cases_sympt > 0) | (iccs_exports.metric_new_cases_asympt > 0)]\n",
    "cases = cases.drop('\\t', axis=1)\n",
    "cases.head()\n"
   ]
  },
  {
   "cell_type": "code",
   "execution_count": null,
   "metadata": {},
   "outputs": [],
   "source": [
    "# keep the min time value by district equivalent to first case by district \n",
    "first_cases = cases.groupby(['seed','districtId']).agg({'time': 'min'})\n",
    "first_cases.sort_values(by=\"time\")\n",
    "\n",
    "# sophie adding want to rename 'time' to denote the day of simulation\n",
    "first_cases.rename(columns={'time':'simDay_firstcase'}, inplace=True)\n",
    "\n",
    "#add variables to denote seed of the run, beta value & no. days\n",
    "files= [first_cases]\n",
    "for x in files: \n",
    "    x ['beta'] = beta\n",
    "    x ['run_length']= run_length\n",
    "    x.reset_index(level=['districtId', 'seed'], inplace=True)\n",
    "\n",
    "# #create a dataframe of this that I can aggregate afterwards\n",
    "first_cases.to_csv(path_mac_iccs_output_5+'first_cases_10runs.csv')\n",
    "\n"
   ]
  },
  {
   "cell_type": "code",
   "execution_count": null,
   "metadata": {},
   "outputs": [],
   "source": [
    "# read in the first districts cases data (what she called 'gold standard data')\n",
    "gold_filename = (path+\"../preprocessed/line_list/true.txt\")\n",
    "g_data = pd.read_csv(gold_filename, sep='\\t')\n",
    "g_data[\"trueDay\"] = [int(x) for x in g_data['day']] ## this has just made another variable for the true day which is int format \n",
    "g_data.head()"
   ]
  },
  {
   "cell_type": "code",
   "execution_count": null,
   "metadata": {
    "scrolled": true
   },
   "outputs": [],
   "source": [
    "# m:1 merge on this data (in true/gold data, we have all 60 districts uniquely)\n",
    "# note the gold data will get replicated across all 10 seeds if works correctly\n",
    "# join the simulated and gold standard data based on the district ID\n",
    "iccs_plus_gold = pd.merge (first_cases, g_data, on = 'districtId', how='outer', validate='many_to_one')\n",
    "iccs_plus_gold.head(20)\n",
    "\n",
    "# for the true first days for which there are multiple districts, I need to separate them out. e.g. day 1: Harare=1.1 + Buluwayo=1.2\n",
    "\n",
    "iccs_plus_gold['trueDay_sep']= iccs_plus_gold['day'].astype(str) + '.'+ iccs_plus_gold['districtId'].astype(str)\n",
    "iccs_plus_gold['trueDay_sep']= iccs_plus_gold['trueDay_sep'].astype(float)\n",
    "# for i in ema_plus_gold.day:\n",
    "#     if i.find([''])\n",
    "\n",
    "iccs_plus_gold= iccs_plus_gold[['districtId', 'district_name_shpfile',  'trueDay_sep','trueDay','simDay_firstcase', 'seed', 'beta', 'run_length' ]]  #'trueDay_sep',\n",
    "iccs_plus_gold.to_csv(path_mac_iccs_output_5+'iccs_plus_gold.csv')\n",
    "iccs_plus_gold.head()"
   ]
  },
  {
   "cell_type": "markdown",
   "metadata": {},
   "source": [
    "## Box plotting the district level comparisons "
   ]
  },
  {
   "cell_type": "code",
   "execution_count": null,
   "metadata": {},
   "outputs": [],
   "source": [
    "fig, ax = plt.subplots (figsize = (15, 15))\n",
    "ax = sns.boxplot(\n",
    "                x='trueDay_sep', \n",
    "                y='simDay_firstcase',\n",
    "                data=iccs_plus_gold)\n",
    "ax.axes.set_title(\"Box Plot of First Day cases of Simulated vs. True data across seeds\", fontsize=16)\n",
    "ax.set_xlabel(\"True Day first cases. District Number\", fontsize=14)\n",
    "ax.set_ylabel(\"Simulation Day first cases\", fontsize=14)\n",
    "\n",
    "\n",
    "# make sure x axis labels are visible\n",
    "ax.set_xticklabels(ax.get_xticklabels(),rotation = 30, size = 10)\n",
    "xticks=ax.xaxis.get_major_ticks()\n",
    "for i in range(len(xticks)):\n",
    "    if i%2==1:\n",
    "        xticks[i].set_visible(False)\n",
    "        \n",
    "from matplotlib.ticker import FormatStrFormatter\n",
    "#ax.xaxis.set_major_formatter(FormatStrFormatter('%.2f'))\n",
    "        \n",
    "#put on same scale\n",
    "# ax.set(xlim=(0, 179), ylim=(0, 179)) # in true day the max first day is 136, in sim the max first day is 179\n",
    "# xl, yl = [0,179], [0,179]\n",
    "# sns.lineplot(xl, yl, linestyle='--', color='red')\n",
    "\n",
    "# Be sure to only pick integer tick locations.\n",
    "# import matplotlib.ticker as ticker\n",
    "\n",
    "# for axis in [ax.xaxis, ax.yaxis]:\n",
    "#     axis.set_major_locator(ticker.MaxNLocator(integer=True))\n",
    "\n",
    "plt.savefig(path+'plots/district/box_plots/first_cases_dist_10seeds_016_180_incl_asympt.png')\n",
    "# Nice example code here https://stackabuse.com/seaborn-box-plot-tutorial-and-examples/"
   ]
  },
  {
   "cell_type": "code",
   "execution_count": null,
   "metadata": {},
   "outputs": [],
   "source": [
    "## Do the plots with margins \n"
   ]
  }
 ],
 "metadata": {
  "kernelspec": {
   "display_name": "Python 3",
   "language": "python",
   "name": "python3"
  },
  "language_info": {
   "codemirror_mode": {
    "name": "ipython",
    "version": 3
   },
   "file_extension": ".py",
   "mimetype": "text/x-python",
   "name": "python",
   "nbconvert_exporter": "python",
   "pygments_lexer": "ipython3",
   "version": "3.8.5"
  }
 },
 "nbformat": 4,
 "nbformat_minor": 4
}
